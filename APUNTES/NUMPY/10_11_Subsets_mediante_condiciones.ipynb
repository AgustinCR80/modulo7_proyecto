{
 "cells": [
  {
   "cell_type": "markdown",
   "id": "75cbbe7d",
   "metadata": {},
   "source": [
    "# Subsets con una condicion"
   ]
  },
  {
   "cell_type": "markdown",
   "id": "259395ac",
   "metadata": {},
   "source": [
    "# En los arrays también podemos usar los operadores < y > para extraer subsets basados en un valor dado."
   ]
  },
  {
   "cell_type": "code",
   "execution_count": null,
   "id": "c58e8bb1",
   "metadata": {},
   "outputs": [],
   "source": [
    "# import numpy as np\n",
    "\n",
    "multidimensional = np.random.randint(0, 100, (2, 3, 5))\n",
    "\n",
    "multidimensional = array([[[18,  5, 58, 75, 20],\n",
    "                           [30, 27, 13, 58, 74],\n",
    "                           [36, 86, 65, 40, 33]],\n",
    "\n",
    "                          [[43, 68, 32,  2, 60],\n",
    "                           [95, 19, 10, 49,  9],\n",
    "                           [64, 91, 56, 42, 52]]], dtype=int32)"
   ]
  },
  {
   "cell_type": "code",
   "execution_count": null,
   "id": "8f84cb04",
   "metadata": {},
   "outputs": [
    {
     "data": {
      "text/plain": [
       "array([[[False, False,  True,  True, False],\n",
       "        [False, False, False,  True,  True],\n",
       "        [False,  True,  True, False, False]],\n",
       "\n",
       "       [[False,  True, False, False,  True],\n",
       "        [ True, False, False,  True, False],\n",
       "        [ True,  True,  True, False,  True]]])"
      ]
     },
     "execution_count": 4,
     "metadata": {},
     "output_type": "execute_result"
    }
   ],
   "source": [
    "# Queremos extraer aquellos valores mayores a 45\n",
    "\n",
    "multidimensional > 45\n",
    "\n",
    "# Salida: \n",
    "\"\"\"\n",
    "array([[[False, False,  True,  True, False],\n",
    "        [False, False, False,  True,  True],\n",
    "        [False,  True,  True, False, False]],\n",
    "\n",
    "       [[False,  True, False, False,  True],\n",
    "        [ True, False, False,  True, False],\n",
    "        [ True,  True,  True, False,  True]]])\n",
    "\"\"\"\n",
    "# Devuelve un array de boleanos que cumplen la condición"
   ]
  },
  {
   "cell_type": "code",
   "execution_count": null,
   "id": "408dafc8",
   "metadata": {},
   "outputs": [
    {
     "data": {
      "text/plain": [
       "array([58, 75, 58, 74, 86, 65, 68, 60, 95, 49, 64, 91, 56, 52],\n",
       "      dtype=int32)"
      ]
     },
     "execution_count": 5,
     "metadata": {},
     "output_type": "execute_result"
    }
   ],
   "source": [
    "# Para obtener un array unidimensional con los valores que cumplen la condición:\n",
    "\n",
    "multidimensional[multidimensional > 45]  \n",
    "# Salida: array([58, 75, 58, 74, 86, 65, 68, 60, 95, 49, 64, 91, 56, 52], dtype=int32)"
   ]
  },
  {
   "cell_type": "markdown",
   "id": "7f998f51",
   "metadata": {},
   "source": [
    "# Subsets con múltiples condiciones"
   ]
  },
  {
   "cell_type": "markdown",
   "id": "4612a397",
   "metadata": {},
   "source": [
    "# En la librería Numpy los operadores AND y OR se escriben de otra forma:\n",
    "\n",
    "OR --> |\n",
    "AND --> &"
   ]
  },
  {
   "cell_type": "code",
   "execution_count": null,
   "id": "49ba7ede",
   "metadata": {},
   "outputs": [],
   "source": [
    "multidimensional = array([[[18,  5, 58, 75, 20],\n",
    "                           [30, 27, 13, 58, 74],\n",
    "                           [36, 86, 65, 40, 33]],\n",
    "\n",
    "                          [[43, 68, 32,  2, 60],\n",
    "                           [95, 19, 10, 49,  9],\n",
    "                           [64, 91, 56, 42, 52]]], dtype=int32)"
   ]
  },
  {
   "cell_type": "code",
   "execution_count": null,
   "id": "f2fe2c6d",
   "metadata": {},
   "outputs": [
    {
     "data": {
      "text/plain": [
       "array([ 5, 75, 13, 74, 86, 65, 68,  2, 95, 10,  9, 64, 91], dtype=int32)"
      ]
     },
     "execution_count": 6,
     "metadata": {},
     "output_type": "execute_result"
    }
   ],
   "source": [
    "# Queremos seleccionar aquellos números que sean MAYORES que 60 o MENORES que 15\n",
    "\n",
    "multidimensional[(multidimensional > 60) | (multidimensional < 15)]\n",
    "# Salida: array([ 5, 75, 13, 74, 86, 65, 68,  2, 95, 10,  9, 64, 91], dtype=int32)"
   ]
  },
  {
   "cell_type": "code",
   "execution_count": null,
   "id": "020e67bb",
   "metadata": {},
   "outputs": [
    {
     "data": {
      "text/plain": [
       "array([58, 58], dtype=int32)"
      ]
     },
     "execution_count": 9,
     "metadata": {},
     "output_type": "execute_result"
    }
   ],
   "source": [
    "# Queremos seleccionar aquellos números que sean MAYORES que 45 e IGUAL a 58\n",
    "\n",
    "multidimensional[(multidimensional > 45) & (multidimensional == 58)]\n",
    "# Salida: array([58, 58], dtype=int32)"
   ]
  }
 ],
 "metadata": {
  "kernelspec": {
   "display_name": "Python 3",
   "language": "python",
   "name": "python3"
  },
  "language_info": {
   "codemirror_mode": {
    "name": "ipython",
    "version": 3
   },
   "file_extension": ".py",
   "mimetype": "text/x-python",
   "name": "python",
   "nbconvert_exporter": "python",
   "pygments_lexer": "ipython3",
   "version": "3.13.5"
  }
 },
 "nbformat": 4,
 "nbformat_minor": 5
}
