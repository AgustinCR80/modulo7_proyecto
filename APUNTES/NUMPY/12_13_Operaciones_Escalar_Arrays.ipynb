{
 "cells": [
  {
   "cell_type": "markdown",
   "id": "b6dae485",
   "metadata": {},
   "source": [
    "# Operaciones array - escalar (número)"
   ]
  },
  {
   "cell_type": "markdown",
   "id": "cf81759c",
   "metadata": {},
   "source": [
    "# Este tipo de acciones corresponden a operaciones entre un array y un número."
   ]
  },
  {
   "cell_type": "code",
   "execution_count": 3,
   "id": "76e89530",
   "metadata": {},
   "outputs": [],
   "source": [
    "import numpy as np"
   ]
  },
  {
   "cell_type": "code",
   "execution_count": 4,
   "id": "5174c029",
   "metadata": {},
   "outputs": [
    {
     "data": {
      "text/plain": [
       "array([[1, 2, 3],\n",
       "       [3, 4, 5]])"
      ]
     },
     "execution_count": 4,
     "metadata": {},
     "output_type": "execute_result"
    }
   ],
   "source": [
    "mi_array = np.array([[1, 2, 3], [3, 4, 5]])\n",
    "\n",
    "mi_array  # Salida: array([[1, 2, 3],\n",
    "          #                [3, 4, 5]])"
   ]
  },
  {
   "cell_type": "code",
   "execution_count": null,
   "id": "f3a11514",
   "metadata": {},
   "outputs": [
    {
     "name": "stdout",
     "output_type": "stream",
     "text": [
      "[[5 6 7]\n",
      " [7 8 9]]\n",
      "[[-1  0  1]\n",
      " [ 1  2  3]]\n",
      "[[ 2  4  6]\n",
      " [ 6  8 10]]\n",
      "[[0.33333333 0.66666667 1.        ]\n",
      " [1.         1.33333333 1.66666667]]\n",
      "[[1 2 0]\n",
      " [0 1 2]]\n",
      "[[0 0 1]\n",
      " [1 1 1]]\n",
      "[[  1   8  27]\n",
      " [ 27  64 125]]\n"
     ]
    }
   ],
   "source": [
    "# Sumar:\n",
    "print(mi_array + 4)  # Salida: [[5 6 7]\n",
    "                     #          [7 8 9]]\n",
    "\n",
    "# Restar:\n",
    "print(mi_array - 2)  # Salida: [[-1  0  1]\n",
    "                     #          [ 1  2  3]]\n",
    "\n",
    "# Multiplicar:\n",
    "print(mi_array * 2)  # Salida: [[ 2  4  6]\n",
    "                     #          [ 6  8 10]]\n",
    "\n",
    "# Dividir: \n",
    "print(mi_array / 3)  # Salida: [[0.33333333 0.66666667 1.        ]\n",
    "                     #          [1.         1.33333333 1.66666667]]\n",
    "\n",
    "# Módulo:\n",
    "print(mi_array % 3)  # Salida: [[1 2 0]\n",
    "                     #          [0 1 2]]\n",
    "\n",
    "# División entera:\n",
    "print(mi_array // 3)  # Salida: [[0 0 1]\n",
    "                     #          [1 1 1]]\n",
    "\n",
    "# Potencia:\n",
    "print(mi_array ** 3)  # Salida: [[  1   8  27]\n",
    "                     #          [ 27  64 125]]"
   ]
  },
  {
   "cell_type": "markdown",
   "id": "1a058fb4",
   "metadata": {},
   "source": [
    "# Operaciones entre arrays"
   ]
  },
  {
   "cell_type": "markdown",
   "id": "48de0d65",
   "metadata": {},
   "source": [
    "# Es imprescindible que tengan la misma dimensión."
   ]
  },
  {
   "cell_type": "code",
   "execution_count": null,
   "id": "1f4581d9",
   "metadata": {},
   "outputs": [],
   "source": [
    "# Creamos nuestra primera array:\n",
    "array_1 = np.ones((2, 3, 4))\n",
    "\n",
    "array_1 = [[[1., 1., 1., 1.],\n",
    "            [1., 1., 1., 1.],\n",
    "            [1., 1., 1., 1.]],\n",
    "\n",
    "           [[1., 1., 1., 1.],\n",
    "            [1., 1., 1., 1.],\n",
    "            [1., 1., 1., 1.]]]"
   ]
  },
  {
   "cell_type": "code",
   "execution_count": null,
   "id": "36a7d55f",
   "metadata": {},
   "outputs": [],
   "source": [
    "# Creamos nuestra segunda array:\n",
    "array_2 = np.random.randint(0, 10, (2, 3, 4))\n",
    "\n",
    "array_2 = [[[9, 0, 0, 2],\n",
    "            [8, 1, 3, 6],\n",
    "            [9, 0, 0, 8]],\n",
    "\n",
    "           [[7, 2, 3, 0],\n",
    "            [9, 3, 5, 2],\n",
    "            [7, 6, 4, 0]]]"
   ]
  },
  {
   "cell_type": "code",
   "execution_count": null,
   "id": "38a14665",
   "metadata": {},
   "outputs": [],
   "source": [
    "# Sumar, dos formas de hacerlo:\n",
    "\n",
    "# array_1 + array_2 \n",
    "\n",
    "suma = np.add(array_1, array_2)    \n",
    "\n",
    "suma  # Salida: array([[[10.,  1.,  1.,  3.],\n",
    "      #                 [ 9.,  2.,  4.,  7.],\n",
    "      #                 [10.,  1.,  1.,  9.]],\n",
    "\n",
    "      #                [[ 8.,  3.,  4.,  1.],\n",
    "      #                 [10.,  4.,  6.,  3.],\n",
    "      #                 [ 8.,  7.,  5.,  1.]]])"
   ]
  },
  {
   "cell_type": "code",
   "execution_count": null,
   "id": "51c427ed",
   "metadata": {},
   "outputs": [],
   "source": [
    "# .astype(): método para cambiar el tipo de los datos de nuestro array:\n",
    "\n",
    "suma = suma.astype(int)\n",
    "\n",
    "suma  # Salida: array([[[10,  1,  1,  3],\n",
    "      #                 [ 9,  2,  4,  7],\n",
    "      #                 [10,  1,  1,  9]],\n",
    "\n",
    "      #                [[ 8,  3,  4,  1],\n",
    "      #                 [10,  4,  6,  3],\n",
    "      #                 [ 8,  7,  5,  1]]])  \n"
   ]
  },
  {
   "cell_type": "code",
   "execution_count": null,
   "id": "49802c36",
   "metadata": {},
   "outputs": [],
   "source": [
    "# Restar, dos formas de hacerlo:\n",
    "\n",
    "# array_1 - array_2 \n",
    "\n",
    "resta = np.subtract(array_1, array_2)\n",
    "\n",
    "resta  # Salida: array([[[-8.,  1.,  1., -1.],\n",
    "       #                 [-7.,  0., -2., -5.],\n",
    "       #                 [-8.,  1.,  1., -7.]],\n",
    "\n",
    "       #                [[-6., -1., -2.,  1.],\n",
    "       #                 [-8., -2., -4., -1.],\n",
    "       #                 [-6., -5., -3.,  1.]]])"
   ]
  },
  {
   "cell_type": "code",
   "execution_count": null,
   "id": "95f9d57d",
   "metadata": {},
   "outputs": [],
   "source": [
    "# Multiplicar, dos formas de hacerlo:\n",
    "\n",
    "# array_1 * array_2 \n",
    "\n",
    "multiplicacion = np.multiply(array_1, array_2)\n",
    "\n",
    "multiplicacion  # Salida: array([[[9., 0., 0., 2.],\n",
    "                #                 [8., 1., 3., 6.],\n",
    "                #                 [9., 0., 0., 8.]],\n",
    "\n",
    "                #                [[7., 2., 3., 0.],\n",
    "                #                 [9., 3., 5., 2.],\n",
    "                #                 [7., 6., 4., 0.]]])"
   ]
  },
  {
   "cell_type": "code",
   "execution_count": null,
   "id": "c9be77ee",
   "metadata": {},
   "outputs": [],
   "source": [
    "# Dividir, dos formas de hacerlo:\n",
    "\n",
    "# array_1 / array_2 \n",
    "\n",
    "division = np.divide(array_1, array_2)\n",
    "\n",
    "division  # Salida: array([[[0.11111111,        inf,        inf, 0.5       ],\n",
    "          #                 [0.125     , 1.        , 0.33333333, 0.16666667],\n",
    "          #                 [0.11111111,        inf,        inf, 0.125     ]],\n",
    "\n",
    "          #                [[0.14285714, 0.5       , 0.33333333,        inf],\n",
    "          #                 [0.11111111, 0.33333333, 0.2       , 0.5       ],\n",
    "          #                 [0.14285714, 0.16666667, 0.25      ,        inf]]])\n",
    "\n",
    "# El valor inf (infinito) aparece en aquellos lugares donde se está dividiendo por cero, es decir, \n",
    "# cuando algún elemento correspondiente de array_2 es 0."
   ]
  },
  {
   "cell_type": "code",
   "execution_count": null,
   "id": "b87e766c",
   "metadata": {},
   "outputs": [],
   "source": [
    "# División entera:\n",
    "\n",
    "division_entera = array_1 // array_2\n",
    "\n",
    "division_entera  # Salida: array([[[ 0., inf, inf,  0.],\n",
    "                 #                 [ 0.,  1.,  0.,  0.],\n",
    "                 #                 [ 0., inf, inf,  0.]],\n",
    "\n",
    "                 #                [[ 0.,  0.,  0., inf],\n",
    "                 #                 [ 0.,  0.,  0.,  0.],\n",
    "                 #                 [ 0.,  0.,  0., inf]]])"
   ]
  }
 ],
 "metadata": {
  "kernelspec": {
   "display_name": "Python 3",
   "language": "python",
   "name": "python3"
  },
  "language_info": {
   "codemirror_mode": {
    "name": "ipython",
    "version": 3
   },
   "file_extension": ".py",
   "mimetype": "text/x-python",
   "name": "python",
   "nbconvert_exporter": "python",
   "pygments_lexer": "ipython3",
   "version": "3.13.5"
  }
 },
 "nbformat": 4,
 "nbformat_minor": 5
}
