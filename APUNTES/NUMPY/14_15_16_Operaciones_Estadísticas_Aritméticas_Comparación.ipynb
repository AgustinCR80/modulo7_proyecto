{
 "cells": [
  {
   "cell_type": "markdown",
   "id": "ca8f69ab",
   "metadata": {},
   "source": [
    "# Operaciones estadísticas"
   ]
  },
  {
   "cell_type": "markdown",
   "id": "24c0ec4e",
   "metadata": {},
   "source": [
    "# Todos los métodos que se van a utiizar permiten operar con los ejes, pasándole el parámetro axis, donde:\n",
    "\n",
    "# axis = 0: nos calculará el operador que indiquemos para cada columna de nuestro array.\n",
    "\n",
    "# axis = 1: nos calculará el operador que indiquemos para cada fila de nuestro array."
   ]
  },
  {
   "cell_type": "code",
   "execution_count": 3,
   "id": "dbe4e726",
   "metadata": {},
   "outputs": [],
   "source": [
    "import numpy as np"
   ]
  },
  {
   "cell_type": "code",
   "execution_count": 26,
   "id": "e26f312e",
   "metadata": {},
   "outputs": [],
   "source": [
    "array = np.random.randint(1, 20, (4, 5))\n",
    "\n",
    "array = np.array([[ 2,  3, 16,  2, 15],\n",
    "         [16,  4,  9,  1,  2],\n",
    "         [ 7,  7, 13,  6, 12],\n",
    "         [ 1,  5, 14, 13, 15]])"
   ]
  },
  {
   "cell_type": "markdown",
   "id": "71f73ed4",
   "metadata": {},
   "source": [
    "# np.mean()\n",
    "\n",
    "# Calcular la media de elementos de un array"
   ]
  },
  {
   "cell_type": "code",
   "execution_count": null,
   "id": "7a3ff5d1",
   "metadata": {},
   "outputs": [
    {
     "data": {
      "text/plain": [
       "np.float64(8.15)"
      ]
     },
     "execution_count": 4,
     "metadata": {},
     "output_type": "execute_result"
    }
   ],
   "source": [
    "# Calcular la media de todos los elementos del array, si no indicamos el parámetro \"axis\".\n",
    "media = np.mean(array)\n",
    "\n",
    "media  # Salida: 8.15 "
   ]
  },
  {
   "cell_type": "code",
   "execution_count": null,
   "id": "b549751a",
   "metadata": {},
   "outputs": [
    {
     "data": {
      "text/plain": [
       "array([ 6.5 ,  4.75, 13.  ,  5.5 , 11.  ])"
      ]
     },
     "execution_count": 6,
     "metadata": {},
     "output_type": "execute_result"
    }
   ],
   "source": [
    "# Media por columnas, nos devuelve un valor por cada columna de nuestro array:\n",
    "media_columnas = np.mean(array, axis = 0)\n",
    "\n",
    "media_columnas  # Salida: array([ 6.5 ,  4.75, 13.  ,  5.5 , 11.  ])"
   ]
  },
  {
   "cell_type": "code",
   "execution_count": null,
   "id": "7f438244",
   "metadata": {},
   "outputs": [
    {
     "data": {
      "text/plain": [
       "array([7.6, 6.4, 9. , 9.6])"
      ]
     },
     "metadata": {},
     "output_type": "display_data"
    }
   ],
   "source": [
    "# Media por filas, nos devuelve un valor por cada fila de nuestro array:\n",
    "media_filas = np.mean(array, axis = 1)\n",
    "\n",
    "media_filas  # Salida: array([7.6, 6.4, 9. , 9.6])"
   ]
  },
  {
   "cell_type": "markdown",
   "id": "77904b27",
   "metadata": {},
   "source": [
    "# np.std()\n",
    "\n",
    "# Calcula la desviación estándar del array"
   ]
  },
  {
   "cell_type": "code",
   "execution_count": null,
   "id": "5a3d09cf",
   "metadata": {},
   "outputs": [
    {
     "data": {
      "text/plain": [
       "np.float64(5.433921236087252)"
      ]
     },
     "execution_count": 7,
     "metadata": {},
     "output_type": "execute_result"
    }
   ],
   "source": [
    "# Calcular la desviación estandar de todos los elementos del array, si no indicamos el parámetro \"axis\".\n",
    "desviacion_std = np.std(array)\n",
    "\n",
    "desviacion_std  # Salida: 5.433921236087252"
   ]
  },
  {
   "cell_type": "code",
   "execution_count": null,
   "id": "64347c58",
   "metadata": {},
   "outputs": [
    {
     "data": {
      "text/plain": [
       "array([5.93717104, 1.47901995, 2.54950976, 4.71699057, 5.33853913])"
      ]
     },
     "execution_count": 8,
     "metadata": {},
     "output_type": "execute_result"
    }
   ],
   "source": [
    "# Desviación estándar por columnas, nos devuelve un valor por cada columna de nuestro array:\n",
    "desviacion_std_columnas = np.std(array, axis = 0)\n",
    "\n",
    "desviacion_std_columnas  # Salida: array([5.93717104, 1.47901995, 2.54950976, 4.71699057, 5.33853913])"
   ]
  },
  {
   "cell_type": "code",
   "execution_count": null,
   "id": "5fa83c77",
   "metadata": {},
   "outputs": [
    {
     "data": {
      "text/plain": [
       "array([6.46838465, 5.535341  , 2.89827535, 5.57135531])"
      ]
     },
     "execution_count": 9,
     "metadata": {},
     "output_type": "execute_result"
    }
   ],
   "source": [
    "# Desviación estándar por filas, nos devuelve un valor por cada columna de nuestro array:\n",
    "desviacion_std_filas = np.std(array, axis = 1)\n",
    "\n",
    "desviacion_std_filas  # Salida: array([6.46838465, 5.535341  , 2.89827535, 5.57135531])"
   ]
  },
  {
   "cell_type": "markdown",
   "id": "5eb6f4c0",
   "metadata": {},
   "source": [
    "# np.var()\n",
    "\n",
    "# Calcula la varianza del array"
   ]
  },
  {
   "cell_type": "code",
   "execution_count": 27,
   "id": "af251c57",
   "metadata": {},
   "outputs": [
    {
     "data": {
      "text/plain": [
       "np.float64(29.527500000000003)"
      ]
     },
     "execution_count": 27,
     "metadata": {},
     "output_type": "execute_result"
    }
   ],
   "source": [
    "# Calcular la varianza de todos los elementos del array, si no indicamos el parámetro \"axis\".\n",
    "varianza = np.var(array)\n",
    "\n",
    "varianza  # Salida: 29.527500000000003"
   ]
  },
  {
   "cell_type": "code",
   "execution_count": 28,
   "id": "a3fd4140",
   "metadata": {},
   "outputs": [
    {
     "data": {
      "text/plain": [
       "array([35.25  ,  2.1875,  6.5   , 22.25  , 28.5   ])"
      ]
     },
     "execution_count": 28,
     "metadata": {},
     "output_type": "execute_result"
    }
   ],
   "source": [
    "# Varianza por columnas, nos devuelve un valor por cada columna de nuestro array:\n",
    "varianza_columnas = np.var(array, axis = 0)\n",
    "\n",
    "varianza_columnas  # Salida: array([35.25  ,  2.1875,  6.5   , 22.25  , 28.5   ])"
   ]
  },
  {
   "cell_type": "code",
   "execution_count": null,
   "id": "782c2c96",
   "metadata": {},
   "outputs": [
    {
     "data": {
      "text/plain": [
       "array([41.84, 30.64,  8.4 , 31.04])"
      ]
     },
     "execution_count": 13,
     "metadata": {},
     "output_type": "execute_result"
    }
   ],
   "source": [
    "# Varianza por filas, nos devuelve un valor por cada columna de nuestro array:\n",
    "varianza_filas = np.var(array, axis = 1)\n",
    "\n",
    "varianza_filas  # Salida: array([41.84, 30.64,  8.4 , 31.04])"
   ]
  },
  {
   "cell_type": "markdown",
   "id": "01b4b95d",
   "metadata": {},
   "source": [
    "# Operaciones aritméticas"
   ]
  },
  {
   "cell_type": "code",
   "execution_count": 29,
   "id": "4f676b06",
   "metadata": {},
   "outputs": [],
   "source": [
    "array = np.array([[ 2,  3, 16,  2, 15],\n",
    "         [16,  4,  9,  1,  2],\n",
    "         [ 7,  7, 13,  6, 12],\n",
    "         [ 1,  5, 14, 13, 15]])"
   ]
  },
  {
   "cell_type": "markdown",
   "id": "fa730fe3",
   "metadata": {},
   "source": [
    "# np.min()\n",
    "\n",
    "# Nos devuelve el valor mínimo contenido dentro del array "
   ]
  },
  {
   "cell_type": "code",
   "execution_count": null,
   "id": "8154d56c",
   "metadata": {},
   "outputs": [
    {
     "data": {
      "text/plain": [
       "np.int64(1)"
      ]
     },
     "execution_count": 6,
     "metadata": {},
     "output_type": "execute_result"
    }
   ],
   "source": [
    "# Calcular el valor mínimo de todos los elementos del array, si no indicamos el parámetro \"axis\".\n",
    "minimo = np.min(array)\n",
    "\n",
    "minimo  # Salida: 1"
   ]
  },
  {
   "cell_type": "code",
   "execution_count": null,
   "id": "f1771ff0",
   "metadata": {},
   "outputs": [
    {
     "data": {
      "text/plain": [
       "array([1, 3, 9, 1, 2])"
      ]
     },
     "execution_count": 7,
     "metadata": {},
     "output_type": "execute_result"
    }
   ],
   "source": [
    "# Valor mínimo por columnas, nos devuelve un valor por cada columna de nuestro array:\n",
    "minimo_columnas = np.min(array, axis = 0)\n",
    "\n",
    "minimo_columnas  # Salida: array([1, 3, 9, 1, 2])"
   ]
  },
  {
   "cell_type": "code",
   "execution_count": null,
   "id": "002cc83a",
   "metadata": {},
   "outputs": [
    {
     "data": {
      "text/plain": [
       "array([2, 1, 6, 1])"
      ]
     },
     "execution_count": 8,
     "metadata": {},
     "output_type": "execute_result"
    }
   ],
   "source": [
    "# Valor mínimo por filas, nos devuelve un valor por cada columna de nuestro array:\n",
    "minimo_filas = np.min(array, axis = 1)\n",
    "\n",
    "minimo_filas  # Salida: array([2, 1, 6, 1])"
   ]
  },
  {
   "cell_type": "markdown",
   "id": "9260955b",
   "metadata": {},
   "source": [
    "# np.max()\n",
    "\n",
    "# Nos devuelve el valor máximo contenido dentro del array "
   ]
  },
  {
   "cell_type": "code",
   "execution_count": null,
   "id": "db15f86a",
   "metadata": {},
   "outputs": [
    {
     "data": {
      "text/plain": [
       "np.int64(16)"
      ]
     },
     "execution_count": 9,
     "metadata": {},
     "output_type": "execute_result"
    }
   ],
   "source": [
    "# Calcular el valor máximo de todos los elementos del array, si no indicamos el parámetro \"axis\".\n",
    "maximo = np.max(array)\n",
    "\n",
    "maximo  # Salida: 16"
   ]
  },
  {
   "cell_type": "code",
   "execution_count": null,
   "id": "e161544e",
   "metadata": {},
   "outputs": [
    {
     "data": {
      "text/plain": [
       "array([16,  7, 16, 13, 15])"
      ]
     },
     "execution_count": 10,
     "metadata": {},
     "output_type": "execute_result"
    }
   ],
   "source": [
    "# Valor máximo por columnas, nos devuelve un valor por cada columna de nuestro array:\n",
    "maximo_columnas = np.max(array, axis = 0)\n",
    "\n",
    "maximo_columnas  # Salida: array([16,  7, 16, 13, 15])"
   ]
  },
  {
   "cell_type": "code",
   "execution_count": null,
   "id": "f0fcc1c7",
   "metadata": {},
   "outputs": [
    {
     "data": {
      "text/plain": [
       "array([16, 16, 13, 15])"
      ]
     },
     "execution_count": 11,
     "metadata": {},
     "output_type": "execute_result"
    }
   ],
   "source": [
    "# Valor máximo por filas, nos devuelve un valor por cada columna de nuestro array:\n",
    "maximo_filas = np.max(array, axis = 1)\n",
    "\n",
    "maximo_filas  # Salida: array([16, 16, 13, 15])"
   ]
  },
  {
   "cell_type": "markdown",
   "id": "3799dff1",
   "metadata": {},
   "source": [
    "# np.sum()\n",
    "\n",
    "# Nos devuelve la suma del contenido dentro del array "
   ]
  },
  {
   "cell_type": "code",
   "execution_count": null,
   "id": "e4f690f1",
   "metadata": {},
   "outputs": [
    {
     "data": {
      "text/plain": [
       "np.int64(163)"
      ]
     },
     "execution_count": 12,
     "metadata": {},
     "output_type": "execute_result"
    }
   ],
   "source": [
    "# Calcular la suma de todos los elementos del array, si no indicamos el parámetro \"axis\".\n",
    "suma = np.sum(array)\n",
    "\n",
    "suma  # Salida: 163"
   ]
  },
  {
   "cell_type": "code",
   "execution_count": 13,
   "id": "05ca86a5",
   "metadata": {},
   "outputs": [
    {
     "data": {
      "text/plain": [
       "array([26, 19, 52, 22, 44])"
      ]
     },
     "execution_count": 13,
     "metadata": {},
     "output_type": "execute_result"
    }
   ],
   "source": [
    "# Calcular la suma por columnas, nos devuelve un valor por cada columna de nuestro array:\n",
    "suma_columnas = np.sum(array, axis = 0)\n",
    "\n",
    "suma_columnas  # Salida: array([16,  7, 16, 13, 15])"
   ]
  },
  {
   "cell_type": "code",
   "execution_count": null,
   "id": "6a65a3f4",
   "metadata": {},
   "outputs": [
    {
     "data": {
      "text/plain": [
       "array([38, 32, 45, 48])"
      ]
     },
     "execution_count": 14,
     "metadata": {},
     "output_type": "execute_result"
    }
   ],
   "source": [
    "# Calcular la suma por filas, nos devuelve un valor por cada columna de nuestro array:\n",
    "suma_filas = np.sum(array, axis = 1)\n",
    "\n",
    "suma_filas  # Salida: array([38, 32, 45, 48])"
   ]
  },
  {
   "cell_type": "markdown",
   "id": "aa6ed2fa",
   "metadata": {},
   "source": [
    "# np.cumsum()\n",
    "\n",
    "# Nos devuelve la suma acumulada del contenido dentro del array\n",
    "\n",
    "# La suma acumulativa es una operación matemática que consiste en ir sumando los elementos de una secuencia uno a uno, acumulando el total en cada paso."
   ]
  },
  {
   "cell_type": "code",
   "execution_count": null,
   "id": "162d0624",
   "metadata": {},
   "outputs": [],
   "source": [
    "# Calcular la suma acumulada de todos los elementos del array, si no indicamos el parámetro \"axis\".\n",
    "suma_acumulada = np.cumsum(array)\n",
    "\n",
    "suma_acumulada  # Salida: array([  2,   5,  21,  23,  38,  54,  58,  67,  68,  70,  77,  84,  97, 103, 115, 116, 121, 135, 148, 163])"
   ]
  },
  {
   "cell_type": "code",
   "execution_count": null,
   "id": "0046dcc9",
   "metadata": {},
   "outputs": [],
   "source": [
    "# Calcular la suma acumulada por columnas:\n",
    "suma_acumulada_columnas = np.cumsum(array, axis = 0)\n",
    "\n",
    "suma_acumulada_columnas  # Salida: array([[ 2,  3, 16,  2, 15],\n",
    "                         #                [18,  7, 25,  3, 17],\n",
    "                         #                [25, 14, 38,  9, 29],\n",
    "                         #                [26, 19, 52, 22, 44]])"
   ]
  },
  {
   "cell_type": "code",
   "execution_count": null,
   "id": "536734ad",
   "metadata": {},
   "outputs": [],
   "source": [
    "# Calcular la suma acumulada por filas:\n",
    "suma_acumulada_filas = np.cumsum(array, axis = 1)\n",
    "\n",
    "suma_acumulada_filas  # Salida: array([[ 2,  5, 21, 23, 38],\n",
    "                      #                [16, 20, 29, 30, 32],\n",
    "                      #                [ 7, 14, 27, 33, 45],\n",
    "                      #                [ 1,  6, 20, 33, 48]])"
   ]
  },
  {
   "cell_type": "markdown",
   "id": "a0fa62a1",
   "metadata": {},
   "source": [
    "# np.cumprod()\n",
    "\n",
    "# Nos devuelve un array con el producto acumulado de todos los elementos del array"
   ]
  },
  {
   "cell_type": "code",
   "execution_count": null,
   "id": "93c52ffe",
   "metadata": {},
   "outputs": [],
   "source": [
    "# Calcular el producto acumulado de todos los elementos del array, si no indicamos el parámetro \"axis\".\n",
    "producto_acumulado = np.cumprod(array)\n",
    "\n",
    "producto_acumulado  # Salida: array([               2,                6,               96,\n",
    "                    #                             192,             2880,            46080,\n",
    "                    #                          184320,          1658880,          1658880,\n",
    "                    #                         3317760,         23224320,        162570240,\n",
    "                    #                      2113413120,      12680478720,     152165744640,\n",
    "                    #                    152165744640,     760828723200,   10651602124800,\n",
    "                    #                 138470827622400, 2077062414336000])"
   ]
  },
  {
   "cell_type": "code",
   "execution_count": null,
   "id": "21d4e37e",
   "metadata": {},
   "outputs": [],
   "source": [
    "# Calcular el producto acumulado por columnas:\n",
    "producto_acumulado_columnas = np.cumprod(array, axis = 0)\n",
    "\n",
    "producto_acumulado_columnas  # Salida: array([[    2,     3,    16,     2,    15],\n",
    "                             #                [   32,    12,   144,     2,    30],,\n",
    "                             #                [  224,    84,  1872,    12,   360],\n",
    "                             #                [  224,   420, 26208,   156,  5400]])"
   ]
  },
  {
   "cell_type": "code",
   "execution_count": null,
   "id": "44a5f904",
   "metadata": {},
   "outputs": [],
   "source": [
    "# Calcular el producto acumulado por filas:\n",
    "producto_acumulado_filas = np.cumprod(array, axis = 1)\n",
    "\n",
    "producto_acumulado_filas  # Salida: array([[    2,     6,    96,   192,  2880],\n",
    "                          #                [   16,    64,   576,   576,  1152],\n",
    "                          #                [    7,    49,   637,  3822, 45864],\n",
    "                          #                [    1,     5,    70,   910, 13650]])"
   ]
  },
  {
   "cell_type": "markdown",
   "id": "99ab9c19",
   "metadata": {},
   "source": [
    "# np.sqrt()\n",
    "\n",
    "# Calcula la raíz cuadrada no negativa para cada elemento de nuestro array"
   ]
  },
  {
   "cell_type": "code",
   "execution_count": null,
   "id": "98397878",
   "metadata": {},
   "outputs": [],
   "source": [
    "# Calcular la raíz cuadrada no negativa de todos los elementos del array.\n",
    "raiz_cuadrada = np.sqrt(array)\n",
    "\n",
    "raiz_cuadrada  # Salida: array([[1.41421356, 1.73205081, 4.        , 1.41421356, 3.87298335],\n",
    "               #                [4.        , 2.        , 3.        , 1.        , 1.41421356],\n",
    "               #                [2.64575131, 2.64575131, 3.60555128, 2.44948974, 3.46410162],\n",
    "               #                [1.        , 2.23606798, 3.74165739, 3.60555128, 3.87298335]])"
   ]
  },
  {
   "cell_type": "markdown",
   "id": "38aa1d52",
   "metadata": {},
   "source": [
    "# np.exp()\n",
    "\n",
    "# Calcula el exponencial de cada elemento de nuestro array.\n",
    "\n",
    "# Devuelve: un array del mismo tipo con el resultado de aplicar e ** x a cada elemento, exponencial elevado a cada elemento.\n",
    "\n",
    "# e = número de Euler, aproximadamente 2.71828"
   ]
  },
  {
   "cell_type": "code",
   "execution_count": null,
   "id": "9d747268",
   "metadata": {},
   "outputs": [],
   "source": [
    "# Calcular el exponencial de todos los elementos del array.\n",
    "exponencial = np.exp(array)\n",
    "\n",
    "exponencial  # Salida: array([[7.38905610e+00, 2.00855369e+01, 8.88611052e+06, 7.38905610e+00, 3.26901737e+06],\n",
    "             #                [8.88611052e+06, 5.45981500e+01, 8.10308393e+03, 2.71828183e+00, 7.38905610e+00],\n",
    "             #                [1.09663316e+03, 1.09663316e+03, 4.42413392e+05, 4.03428793e+02, 1.62754791e+05],\n",
    "             #                [2.71828183e+00, 1.48413159e+02, 1.20260428e+06, 4.42413392e+05, 3.26901737e+06]])"
   ]
  },
  {
   "cell_type": "markdown",
   "id": "2065e505",
   "metadata": {},
   "source": [
    "# Operaciones de comparación"
   ]
  },
  {
   "cell_type": "markdown",
   "id": "32027983",
   "metadata": {},
   "source": [
    "# np.any()\n",
    "\n",
    "# Comprueba si algún elemento del array se evalúa como True dada una condición. Si en alguno de los elementos de nuestro array se cumple la condición nos devolverá un True"
   ]
  },
  {
   "cell_type": "code",
   "execution_count": null,
   "id": "a2a00aab",
   "metadata": {},
   "outputs": [],
   "source": [
    "array = np.array([[ 2,  3, 16,  2, 15],\n",
    "                  [16,  4,  9,  1,  2],\n",
    "                  [ 7,  7, 13,  6, 12],\n",
    "                  [ 1,  5, 14, 13, 15]])"
   ]
  },
  {
   "cell_type": "code",
   "execution_count": null,
   "id": "f66d918d",
   "metadata": {},
   "outputs": [
    {
     "name": "stdout",
     "output_type": "stream",
     "text": [
      "True\n",
      "False\n"
     ]
    }
   ],
   "source": [
    "# Comparar la condición en todos los elementos del array, si no indicamos el parámetro \"axis\".\n",
    "print(np.any(array > 10))  # Salida: True\n",
    "\n",
    "print(np.any(array) > 20)  # Salida: False"
   ]
  },
  {
   "cell_type": "code",
   "execution_count": null,
   "id": "74f4eec2",
   "metadata": {},
   "outputs": [
    {
     "name": "stdout",
     "output_type": "stream",
     "text": [
      "[ True False  True  True  True]\n",
      "[ True False False  True False]\n"
     ]
    }
   ],
   "source": [
    "# Comparar la condición en todos los elementos del array por columnas:\n",
    "print(np.any(array > 10, axis = 0)) # Salida: [ True False  True  True  True]\n",
    "\n",
    "print(np.any(array < 2, axis = 0))  # Salida: [ True False False  True False]"
   ]
  },
  {
   "cell_type": "code",
   "execution_count": null,
   "id": "696a396f",
   "metadata": {},
   "outputs": [
    {
     "name": "stdout",
     "output_type": "stream",
     "text": [
      "[ True  True False False]\n",
      "[False  True False  True]\n"
     ]
    }
   ],
   "source": [
    "# Comparar la condición en todos los elementos del array por filas:\n",
    "print(np.any(array > 15, axis = 1)) # Salida: [ True  True False False]\n",
    "\n",
    "print(np.any(array < 2, axis = 1))  # Salida: [False  True False  True]"
   ]
  },
  {
   "cell_type": "markdown",
   "id": "5eaf983b",
   "metadata": {},
   "source": [
    "# np.all()\n",
    "\n",
    "# Comprueba si todos los elementos del array cumplen la condición que le pasamos. Si todos la cumplen devuelve True"
   ]
  },
  {
   "cell_type": "code",
   "execution_count": null,
   "id": "88a504a8",
   "metadata": {},
   "outputs": [
    {
     "name": "stdout",
     "output_type": "stream",
     "text": [
      "False\n",
      "True\n"
     ]
    }
   ],
   "source": [
    "# Comparar la condición en todos los elementos del array, si no indicamos el parámetro \"axis\".\n",
    "print(np.all(array > 10))  # Salida: False\n",
    "\n",
    "print(np.any(array) >= 1)  # Salida: True"
   ]
  },
  {
   "cell_type": "code",
   "execution_count": 49,
   "id": "62db4a3f",
   "metadata": {},
   "outputs": [
    {
     "name": "stdout",
     "output_type": "stream",
     "text": [
      "[False  True False False False]\n",
      "[False  True  True False False]\n"
     ]
    }
   ],
   "source": [
    "# Comparar la condición en todos los elementos del array por columnas:\n",
    "print(np.all(array < 10, axis = 0)) # Salida: [False  True False False False]\n",
    "\n",
    "print(np.all(array > 2, axis = 0))  # Salida: [False  True  True False False]"
   ]
  },
  {
   "cell_type": "code",
   "execution_count": null,
   "id": "c9efc631",
   "metadata": {},
   "outputs": [
    {
     "name": "stdout",
     "output_type": "stream",
     "text": [
      "[False False  True False]\n",
      "[False False  True False]\n"
     ]
    }
   ],
   "source": [
    "# Comparar la condición en todos los elementos del array por filas:\n",
    "print(np.all(array < 15, axis = 1)) # Salida: [False False  True False]\n",
    "\n",
    "print(np.all(array > 2, axis = 1))  # Salida: [False False  True False]"
   ]
  }
 ],
 "metadata": {
  "kernelspec": {
   "display_name": "Python 3",
   "language": "python",
   "name": "python3"
  },
  "language_info": {
   "codemirror_mode": {
    "name": "ipython",
    "version": 3
   },
   "file_extension": ".py",
   "mimetype": "text/x-python",
   "name": "python",
   "nbconvert_exporter": "python",
   "pygments_lexer": "ipython3",
   "version": "3.13.5"
  }
 },
 "nbformat": 4,
 "nbformat_minor": 5
}
