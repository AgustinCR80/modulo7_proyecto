{
 "cells": [
  {
   "cell_type": "markdown",
   "id": "04a04fc6",
   "metadata": {},
   "source": [
    "# Métodos de los arrays"
   ]
  },
  {
   "cell_type": "markdown",
   "id": "d6ea9493",
   "metadata": {},
   "source": [
    "# np.copy()\n",
    "\n",
    "# Nos devuelve una copia del array que le pasamos \n",
    "\n",
    "# Si modificamos la copia no afecta a la original"
   ]
  },
  {
   "cell_type": "code",
   "execution_count": 1,
   "id": "ed813a86",
   "metadata": {},
   "outputs": [],
   "source": [
    "import numpy as np"
   ]
  },
  {
   "cell_type": "code",
   "execution_count": null,
   "id": "61955ced",
   "metadata": {},
   "outputs": [
    {
     "data": {
      "text/plain": [
       "array([[ 9, 11,  3],\n",
       "       [10, 14, 12]], dtype=int32)"
      ]
     },
     "execution_count": 2,
     "metadata": {},
     "output_type": "execute_result"
    }
   ],
   "source": [
    "array = np.random.randint(0,20, (2, 3))\n",
    "\n",
    "array  # Salida: array([[ 9, 11,  3],\n",
    "       #                [10, 14, 12]], dtype=int32)"
   ]
  },
  {
   "cell_type": "code",
   "execution_count": null,
   "id": "5a51d9ad",
   "metadata": {},
   "outputs": [
    {
     "data": {
      "text/plain": [
       "array([[ 9, 11,  3],\n",
       "       [10, 14, 12]], dtype=int32)"
      ]
     },
     "execution_count": 3,
     "metadata": {},
     "output_type": "execute_result"
    }
   ],
   "source": [
    "# Hacer una copia de array:\n",
    "array_copia = array.copy()  # Es lo mismo:  array_copia = np.copy(array)\n",
    "\n",
    "array_copia  # Salida: array([[ 9, 11,  3],\n",
    "             #                [10, 14, 12]], dtype=int32)"
   ]
  },
  {
   "cell_type": "code",
   "execution_count": null,
   "id": "2f05455f",
   "metadata": {},
   "outputs": [
    {
     "data": {
      "text/plain": [
       "array([[ 9, 20,  3],\n",
       "       [10, 14, 12]], dtype=int32)"
      ]
     },
     "execution_count": 4,
     "metadata": {},
     "output_type": "execute_result"
    }
   ],
   "source": [
    "# Modificar la copia\n",
    "array_copia[0, 1] = 20\n",
    "\n",
    "array_copia  # Salida: array([[ 9, 20,  3],\n",
    "             #                [10, 14, 12]], dtype=int32) "
   ]
  },
  {
   "cell_type": "code",
   "execution_count": null,
   "id": "4d233ffd",
   "metadata": {},
   "outputs": [
    {
     "data": {
      "text/plain": [
       "array([[ 9, 11,  3],\n",
       "       [10, 14, 12]], dtype=int32)"
      ]
     },
     "execution_count": 5,
     "metadata": {},
     "output_type": "execute_result"
    }
   ],
   "source": [
    "# Comprobar que no se ha modificado la original\n",
    "\n",
    "array  # Salida: array([[ 9, 11,  3],\n",
    "       #                [10, 14, 12]], dtype=int32) "
   ]
  },
  {
   "cell_type": "markdown",
   "id": "2ec4a81e",
   "metadata": {},
   "source": [
    "# np.transpose() \n",
    "\n",
    "# Invierte los ejes de una matriz; devuelve la matriz modificada sin modificar la original."
   ]
  },
  {
   "cell_type": "code",
   "execution_count": null,
   "id": "4afb9207",
   "metadata": {},
   "outputs": [
    {
     "data": {
      "text/plain": [
       "array([10, 11, 12, 13, 14, 15, 16, 17, 18, 19])"
      ]
     },
     "execution_count": 7,
     "metadata": {},
     "output_type": "execute_result"
    }
   ],
   "source": [
    "# Unidimensional, en estas arrays no hace nada, es decir, nos devuelve la misma array\n",
    "# Crear array:\n",
    "unidimensional = np.arange(10, 20)\n",
    "\n",
    "unidimensional  # Salida: array([10, 11, 12, 13, 14, 15, 16, 17, 18, 19])"
   ]
  },
  {
   "cell_type": "code",
   "execution_count": null,
   "id": "b9e0bc0a",
   "metadata": {},
   "outputs": [
    {
     "data": {
      "text/plain": [
       "array([10, 11, 12, 13, 14, 15, 16, 17, 18, 19])"
      ]
     },
     "execution_count": 8,
     "metadata": {},
     "output_type": "execute_result"
    }
   ],
   "source": [
    "# Aplicar el método:\n",
    "np.transpose(unidimensional)  # Salida: array([10, 11, 12, 13, 14, 15, 16, 17, 18, 19])"
   ]
  },
  {
   "cell_type": "code",
   "execution_count": null,
   "id": "a5151711",
   "metadata": {},
   "outputs": [
    {
     "data": {
      "text/plain": [
       "array([[ 6,  0, 18],\n",
       "       [10,  0, 12]], dtype=int32)"
      ]
     },
     "execution_count": 10,
     "metadata": {},
     "output_type": "execute_result"
    }
   ],
   "source": [
    "# Bidimensional, las filas pasan a ser columnas y las columnas pasa a ser las filas.\n",
    "# Crear array:\n",
    "bidimensional = np.random.randint(0,20, (2,3))\n",
    "\n",
    "bidimensional  # Salida: array([[ 6,  0, 18],\n",
    "               #                [10,  0, 12]], dtype=int32)"
   ]
  },
  {
   "cell_type": "code",
   "execution_count": null,
   "id": "ab51b6c6",
   "metadata": {},
   "outputs": [
    {
     "data": {
      "text/plain": [
       "array([[ 6, 10],\n",
       "       [ 0,  0],\n",
       "       [18, 12]], dtype=int32)"
      ]
     },
     "execution_count": 11,
     "metadata": {},
     "output_type": "execute_result"
    }
   ],
   "source": [
    "# Aplicar el método:\n",
    "np.transpose(bidimensional)  # Salida: array([[ 6, 10],\n",
    "                             #                [ 0,  0],\n",
    "                             #                [18, 12]], dtype=int32)"
   ]
  },
  {
   "cell_type": "code",
   "execution_count": null,
   "id": "3165e7e6",
   "metadata": {},
   "outputs": [],
   "source": [
    "# multidimensional, por defecto el número de matrices pasa a ser el número de columnas y viceversa.\n",
    "# Crear array:\n",
    "multidimensional = np.random.randint(0,30, (2,3,5))\n",
    "\n",
    "multidimensional  # Salida: array([[[14, 18,  8, 26, 19],\n",
    "                #                 [17,  8, 15,  9,  1],\n",
    "                #                 [15, 28,  5, 14, 16]],\n",
    "\n",
    "                #                [[ 2, 28, 16, 15, 23],\n",
    "                #                 [21, 26,  7, 14, 16],\n",
    "                #                 [ 8, 22, 29, 25, 21]]], dtype=int32)"
   ]
  },
  {
   "cell_type": "code",
   "execution_count": null,
   "id": "00497b2d",
   "metadata": {},
   "outputs": [],
   "source": [
    "# Aplicar método, la estructura del array pasa a ser (5, 3, 2)\n",
    "np.transpose(multidimensional)  # Salida: array([[[14,  2],\n",
    "                              #                 [17, 21],\n",
    "                              #                 [15,  8]],\n",
    "\n",
    "                              #                 [[18, 28],\n",
    "                              #                  [ 8, 26],\n",
    "                              #                  [28, 22]],\n",
    "\n",
    "                              #                 [[ 8, 16],\n",
    "                              #                  [15,  7],\n",
    "                              #                  [ 5, 29]],\n",
    "\n",
    "                              #                 [[26, 15],\n",
    "                              #                  [ 9, 14],\n",
    "                              #                  [14, 25]],\n",
    "\n",
    "                              #                 [[19, 23],\n",
    "                              #                  [ 1, 16],\n",
    "                              #                  [16, 21]]], dtype=int32)"
   ]
  },
  {
   "cell_type": "code",
   "execution_count": null,
   "id": "90b076cb",
   "metadata": {},
   "outputs": [],
   "source": [
    "# Podemos especificar el sentido en el que queremos que se transpongan los elementos de nuestro array.\n",
    "\n",
    "np.transpose(multidimensional, (1, 2, 0)) # Donde: 0 = nº matrices; 1 = Filas; 2 = columnas\n",
    "\n",
    "# La estructura original de la matriz multidimensional es: (2, 3, 5)\n",
    "# Al aplicar el método e indicarle (1, 2, 0), la estructura pasa a ser: (3, 5, 2)\n",
    "\n",
    "# Salida: array([[[14,  2],\n",
    "#                 [18, 28],\n",
    "#                 [ 8, 16],\n",
    "#                 [26, 15],\n",
    "#                 [19, 23]],\n",
    "\n",
    "#                [[17, 21],\n",
    "#                 [ 8, 26],\n",
    "#                 [15,  7],\n",
    "#                 [ 9, 14],\n",
    "#                 [ 1, 16]],\n",
    "\n",
    "#                [[15,  8],\n",
    "#                 [28, 22],\n",
    "#                 [ 5, 29],\n",
    "#                 [14, 25],\n",
    "#                 [16, 21]]])"
   ]
  },
  {
   "cell_type": "markdown",
   "id": "6f792bf8",
   "metadata": {},
   "source": [
    "# np.reshape()\n",
    "\n",
    "# Invierte los ejes de una matriz; devuelve la matriz modificada sin modificar la original. \n",
    "\n",
    "# Modifica la forma de la matriz, pero el número total de elementos debe coincidir siempre"
   ]
  },
  {
   "cell_type": "code",
   "execution_count": null,
   "id": "3edb336f",
   "metadata": {},
   "outputs": [
    {
     "data": {
      "text/plain": [
       "array([ 0,  1,  2,  3,  4,  5,  6,  7,  8,  9, 10, 11])"
      ]
     },
     "execution_count": 37,
     "metadata": {},
     "output_type": "execute_result"
    }
   ],
   "source": [
    "# Crear un array unidimensional de 12 elementos:\n",
    "array2 = np.arange(12)\n",
    "\n",
    "array2  # Salida: array([ 0,  1,  2,  3,  4,  5,  6,  7,  8,  9, 10, 11])"
   ]
  },
  {
   "cell_type": "code",
   "execution_count": null,
   "id": "67607d3b",
   "metadata": {},
   "outputs": [],
   "source": [
    "# Cambiar la forma a (4, 3), el número total de elementos debe coincidir siempre\n",
    "\n",
    "np.reshape(array2, (4, 3))  # Salida: array([[ 0,  1,  2],\n",
    "                            #                [ 3,  4,  5],\n",
    "                            #                [ 6,  7,  8],\n",
    "                            #                [ 9, 10, 11]])"
   ]
  },
  {
   "cell_type": "code",
   "execution_count": null,
   "id": "ee6d6e95",
   "metadata": {},
   "outputs": [],
   "source": [
    "# Cambiar la forma a (3, 4), el número total de elementos debe coincidir siempre\n",
    "\n",
    "np.reshape(array2, (3, 4))  # Salida: array([[ 0,  1,  2,  3],\n",
    "                            #                [ 4,  5,  6,  7],\n",
    "                            #                [ 8,  9, 10, 11]])"
   ]
  },
  {
   "cell_type": "code",
   "execution_count": null,
   "id": "122fe18f",
   "metadata": {},
   "outputs": [],
   "source": [
    "# Cambiar la forma a (2, 2, 3), el número total de elementos debe coincidir siempre\n",
    "\n",
    "np.reshape(array2, (2, 2, 3))  # Salida: array([[[ 0,  1,  2],\n",
    "                               #                 [ 3,  4,  5]],\n",
    "\n",
    "                               #                [[ 6,  7,  8],\n",
    "                               #                 [ 9, 10, 11]]])"
   ]
  },
  {
   "cell_type": "code",
   "execution_count": null,
   "id": "44173973",
   "metadata": {},
   "outputs": [],
   "source": [
    "# Definir la forma de un nuevo array combinando los métodos: .arange y .reshape\n",
    "nueva_forma = np.arange(16).reshape(2, 2, 4)\n",
    "\n",
    "nueva_forma  # Salida: array([[[ 0,  1,  2,  3],\n",
    "             #                 [ 4,  5,  6,  7]],\n",
    "\n",
    "             #                [[ 8,  9, 10, 11],\n",
    "             #                 [12, 13, 14, 15]]])"
   ]
  },
  {
   "cell_type": "markdown",
   "id": "cbd5aa20",
   "metadata": {},
   "source": [
    "# np.swapaxes()\n",
    "\n",
    "# Intercambia dos ejes de una matriz."
   ]
  },
  {
   "cell_type": "code",
   "execution_count": null,
   "id": "00a4bfb3",
   "metadata": {},
   "outputs": [
    {
     "data": {
      "text/plain": [
       "array([[1, 2, 3],\n",
       "       [4, 5, 6]])"
      ]
     },
     "execution_count": 46,
     "metadata": {},
     "output_type": "execute_result"
    }
   ],
   "source": [
    "# Crear nueva array:\n",
    "array3 = np.arange(1,7).reshape(2, 3)\n",
    "\n",
    "array3  # Salida: array([[1, 2, 3],\n",
    "        #                [4, 5, 6]])"
   ]
  },
  {
   "cell_type": "code",
   "execution_count": null,
   "id": "682ca731",
   "metadata": {},
   "outputs": [
    {
     "data": {
      "text/plain": [
       "array([[1, 4],\n",
       "       [2, 5],\n",
       "       [3, 6]])"
      ]
     },
     "execution_count": 48,
     "metadata": {},
     "output_type": "execute_result"
    }
   ],
   "source": [
    "# Aplicar el método, donde 0 = Filas; 1 = columnas \n",
    "\n",
    "np.swapaxes(array3, 1, 0)  # Salida: array([[1, 4],\n",
    "                           #                [2, 5],\n",
    "                           #                [3, 6]])"
   ]
  },
  {
   "cell_type": "markdown",
   "id": "4edcecbc",
   "metadata": {},
   "source": [
    "# Se puede utilizar en multidimensionales también, donde: 0 = nº matrices; 1 = Filas; 2 = columnas"
   ]
  }
 ],
 "metadata": {
  "kernelspec": {
   "display_name": "Python 3",
   "language": "python",
   "name": "python3"
  },
  "language_info": {
   "codemirror_mode": {
    "name": "ipython",
    "version": 3
   },
   "file_extension": ".py",
   "mimetype": "text/x-python",
   "name": "python",
   "nbconvert_exporter": "python",
   "pygments_lexer": "ipython3",
   "version": "3.13.5"
  }
 },
 "nbformat": 4,
 "nbformat_minor": 5
}
