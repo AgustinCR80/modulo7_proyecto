{
 "cells": [
  {
   "cell_type": "markdown",
   "id": "9f5de5f6",
   "metadata": {},
   "source": [
    "# Funciones de vectores"
   ]
  },
  {
   "cell_type": "code",
   "execution_count": 1,
   "id": "e32bda99",
   "metadata": {},
   "outputs": [],
   "source": [
    "import numpy as np"
   ]
  },
  {
   "cell_type": "markdown",
   "id": "e2af071f",
   "metadata": {},
   "source": [
    "# Métodos que podemos utilizar en arrays.\n",
    "\n",
    "# Solamente el primer método (np.unique) es aplicable a los distintos tipos de array. Los demás son para arrays unidimensionales."
   ]
  },
  {
   "cell_type": "markdown",
   "id": "c9d65f71",
   "metadata": {},
   "source": [
    "# np.unique()\n",
    "\n",
    "# Encuentra los valores únicos del array que le pasemos. Únicos solo los muestra una vez, tanto como si están repetidos como si no.\n",
    "\n",
    "# Devuelve un array unidimensional ordenado con los valores únicos, discriminando las repeticiones.\n",
    "\n",
    "# Usando el parámetro return_index podemos saber en cuál posición del array principal se encuentran, lo devuelve en forma de array, el primer elemento de esa array corresponde a la posición del primer elemento en el array principal.\n",
    "\n",
    "# Usando el parámetro return_count podemos saber la cantidad de veces que está un elemento en el array principal, lo devuelve en forma de array."
   ]
  },
  {
   "cell_type": "code",
   "execution_count": null,
   "id": "00e8d9dd",
   "metadata": {},
   "outputs": [],
   "source": [
    "# Crear un array (2, 3, 4)\n",
    "array = np.random.randint(1,21, (2, 3, 4))\n",
    "\n",
    "array  # Salida: array([[[15, 16, 20, 16],\n",
    "       #                 [ 1,  1,  8,  5],\n",
    "       #                 [ 5, 14, 14,  4]],\n",
    "\n",
    "       #                [[12, 15, 12, 10],\n",
    "       #                 [ 3,  9, 12,  7],\n",
    "       #                 [ 8,  4, 16,  1]]]"
   ]
  },
  {
   "cell_type": "code",
   "execution_count": null,
   "id": "791bdffe",
   "metadata": {},
   "outputs": [],
   "source": [
    "# Array de valores únicos:\n",
    "\n",
    "np.unique(array)  # Salida: array([ 1,  3,  4,  5,  7,  8,  9, 10, 12, 14, 15, 16, 20]"
   ]
  },
  {
   "cell_type": "code",
   "execution_count": null,
   "id": "8ff22d03",
   "metadata": {},
   "outputs": [],
   "source": [
    "# Posición de los valores únicos\n",
    "\n",
    "np.unique(array, return_index = True)  # Salida: (array([ 1,  3,  4,  5,  7,  8,  9, 10, 12, 14, 15, 16, 20], \n",
    "                                       #          array([ 4, 16, 11,  7, 19,  6, 17, 15, 12,  9,  0,  1,  2]))\n",
    "\n",
    "# El elemento con valor 1 se encuentra por primera vez en el array principal en la posición 4.\n",
    "# El elemento con valor 15 se encuentra por primera vez en el array principal en la posición 0.\n",
    "# El elemeto con valor 20 no está repetido en toda el array y se encuentra en la posición 2,"
   ]
  },
  {
   "cell_type": "code",
   "execution_count": null,
   "id": "6a391dd4",
   "metadata": {},
   "outputs": [],
   "source": [
    "# Contar la veces que se encuentra un elemento en el array principal:\n",
    "\n",
    "np.unique(array, return_counts = True)  # Salida: (array([ 1,  3,  4,  5,  7,  8,  9, 10, 12, 14, 15, 16, 20], \n",
    "                                        #          array([3, 1, 2, 2, 1, 2, 1, 1, 3, 2, 2, 3, 1]))\n",
    "\n",
    "# El elemento con valor 1 se encuentra 3 veces en el array principal.\n",
    "# El elemento con valor 20 se encuentra 1 vez en el array principal.                                      "
   ]
  },
  {
   "cell_type": "markdown",
   "id": "cfaecf46",
   "metadata": {},
   "source": [
    "# np.intersect1d() \n",
    "\n",
    "# Encuentra la intersección entre dos arrays, es decir, los elementos que son comunes en los dos. Nos devuelve un array con los valores únicos de la intersección y ordenados que se encuentran en ambos.\n",
    "\n",
    "# Usando el parámetro return_indices podemos saber en qué posición están los elementos de la intersección. "
   ]
  },
  {
   "cell_type": "code",
   "execution_count": 7,
   "id": "3b30a25e",
   "metadata": {},
   "outputs": [],
   "source": [
    "# Creamos dos arrays:\n",
    "\n",
    "arr1 = np.array([4,5,6,8])\n",
    "arr2 = np.array([4,9,1,5])"
   ]
  },
  {
   "cell_type": "code",
   "execution_count": null,
   "id": "c7d67bf8",
   "metadata": {},
   "outputs": [],
   "source": [
    "# Array intersección:\n",
    "\n",
    "np.intersect1d(arr1, arr2)  # Salida: array([4, 5])"
   ]
  },
  {
   "cell_type": "code",
   "execution_count": null,
   "id": "0d1cbc97",
   "metadata": {},
   "outputs": [],
   "source": [
    "# Array con las posiciones de los valores del array intersección:\n",
    "\n",
    "np.intersect1d(arr1, arr2, return_indices = True)  # Salida: (array([4, 5]), array([0, 1]), array([0, 3]))\n",
    "\n",
    "# En el resultado, 1º array valores intersección, 2º array posiciones de valores intersección en arr1, 3º array posiciones de valores intersección en arr2\n",
    "# El elemento con valor 4 se encuentra en la posición 0 de arr1\n",
    "# El elemento con valor 5 se encuentra en la posición 1 de arr1 \n",
    "# El elemento con valor 4 se encuentra en la posición 0 de arr2\n",
    "# El elemento con valor 5 se encuentra en la posición 3 de arr2 "
   ]
  },
  {
   "cell_type": "markdown",
   "id": "524e687c",
   "metadata": {},
   "source": [
    "# np.union1d() \n",
    "\n",
    "# Devuelve un array ordenado con los elementos resultantes de unir los arrays sin tener encuenta las repeticiones."
   ]
  },
  {
   "cell_type": "code",
   "execution_count": null,
   "id": "31eb799f",
   "metadata": {},
   "outputs": [],
   "source": [
    "# Unir dos arrays:\n",
    "\n",
    "np.union1d(arr1, arr2)  # Salida: array([1, 4, 5, 6, 8, 9])"
   ]
  },
  {
   "cell_type": "markdown",
   "id": "2a1a4030",
   "metadata": {},
   "source": [
    "# np.in1d() --> Actualmente se utiliza np.isin()\n",
    "\n",
    "# Devuelve un array de booleanos con información sobre qué elementos del array \"A\" se encuentran también en el array \"B\""
   ]
  },
  {
   "cell_type": "code",
   "execution_count": null,
   "id": "b3359815",
   "metadata": {},
   "outputs": [],
   "source": [
    "# Recordamos nuestras arrays:\n",
    "arr1 = np.array([4,5,6,8])\n",
    "arr2 = np.array([4,9,1,5])"
   ]
  },
  {
   "cell_type": "code",
   "execution_count": null,
   "id": "f09adbaf",
   "metadata": {},
   "outputs": [],
   "source": [
    "# Comparar arr1 con arr2:\n",
    "np.in1d(arr1, arr2)  # Salida: array([ True,  True, False, False])  -->  4 y 5 se encuentran en arr2, 6 y 8 no se encuentran en arr2"
   ]
  },
  {
   "cell_type": "code",
   "execution_count": null,
   "id": "59cd446a",
   "metadata": {},
   "outputs": [],
   "source": [
    "# El orden es importante en la comparación:\n",
    "\n",
    "np.isin(arr2, arr1)  # Salida: array([ True, False, False,  True])"
   ]
  },
  {
   "cell_type": "markdown",
   "id": "5201c293",
   "metadata": {},
   "source": [
    "# np.setdiff1d()\n",
    "\n",
    "# Devuelve un array ordenado con los valores únicos que están en el array \"A\" pero no en el \"B\"."
   ]
  },
  {
   "cell_type": "code",
   "execution_count": null,
   "id": "53c4a60f",
   "metadata": {},
   "outputs": [],
   "source": [
    "# Comparar arr1 con arr2:\n",
    "\n",
    "np.setdiff1d(arr1, arr2)  # Salida: array([6, 8])  -->  6 y 8 están en arr1 pero no en arr2"
   ]
  },
  {
   "cell_type": "code",
   "execution_count": null,
   "id": "9f970e47",
   "metadata": {},
   "outputs": [],
   "source": [
    "# El orden es importante en la comparación:\n",
    "\n",
    "np.setdiff1d(arr2, arr1)  # Salida: array([1, 9])"
   ]
  },
  {
   "cell_type": "markdown",
   "id": "e8a6cd35",
   "metadata": {},
   "source": [
    "# np.setxor1d()\n",
    "\n",
    "# Devuelve un array ordenado con los valores únicos del conjunto de elementos que pertenecen a \"A\" o \"B\", pero no a ambos. Es decir, nos va a devolver los elementos únicos que solo encontremos en cada uno de los arrays cuando los comparamos.\n",
    "\n",
    "# Es el método inverso de np.intersect1d()"
   ]
  },
  {
   "cell_type": "code",
   "execution_count": null,
   "id": "ef9cea6e",
   "metadata": {},
   "outputs": [],
   "source": [
    "# Recordamos nuestras arrays:\n",
    "arr1 = np.array([4,5,6,8])\n",
    "arr2 = np.array([4,9,1,5])"
   ]
  },
  {
   "cell_type": "code",
   "execution_count": null,
   "id": "8425b4f1",
   "metadata": {},
   "outputs": [
    {
     "data": {
      "text/plain": [
       "array([1, 6, 8, 9])"
      ]
     },
     "execution_count": 19,
     "metadata": {},
     "output_type": "execute_result"
    }
   ],
   "source": [
    "# Array con valores no repetidos entre arrays\n",
    "\n",
    "np.setxor1d(arr1, arr2)  # Salida: array([1, 6, 8, 9])  "
   ]
  }
 ],
 "metadata": {
  "kernelspec": {
   "display_name": "Python 3",
   "language": "python",
   "name": "python3"
  },
  "language_info": {
   "codemirror_mode": {
    "name": "ipython",
    "version": 3
   },
   "file_extension": ".py",
   "mimetype": "text/x-python",
   "name": "python",
   "nbconvert_exporter": "python",
   "pygments_lexer": "ipython3",
   "version": "3.13.5"
  }
 },
 "nbformat": 4,
 "nbformat_minor": 5
}
