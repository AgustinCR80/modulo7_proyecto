{
 "cells": [
  {
   "cell_type": "markdown",
   "id": "00baded2",
   "metadata": {},
   "source": [
    "# Numpy"
   ]
  },
  {
   "cell_type": "markdown",
   "id": "0d4dc2b4",
   "metadata": {},
   "source": [
    "# NumPy (acrónimo de Numerical Python) es una librería especializada en el cálculo numérico y el análisis de datos, especialmente para un gran volumen de datos.\n",
    "\n",
    "# Incorpora una nueva clase de objetos llamados arrays que permite representar colecciones de datos de un mismo tipo en varias dimensiones, y funciones muy eficientes para su manipulación.\n",
    "\n",
    "# Tipos:\n",
    "    - Unidimensionales o 1D array:  se puede imaginar como si se tratase de una lista de datos.\n",
    "    - Bidimensionales o 2D array: se pueden definir como matrices que se pueden representar como una colección de datos         almacenados en filas y columnas.\n",
    "    - Multidimensional o 3D array: el número de índices viene determinado por el número de dimensiones de nuestro array, por ejemplo, para un array tridimensional el número de índice sería 3.\n",
    "\n"
   ]
  },
  {
   "cell_type": "markdown",
   "id": "ce3ad9bd",
   "metadata": {},
   "source": [
    "# Instalación e importación"
   ]
  },
  {
   "cell_type": "code",
   "execution_count": null,
   "id": "7abf0c66",
   "metadata": {},
   "outputs": [],
   "source": [
    "# pip install numpy\n",
    "# import numpy as np\n",
    "# print(np.__version__)\n",
    "\n",
    "# pip install pandas\n",
    "# import pandas as pd\n",
    "# print(pd.__version__)"
   ]
  },
  {
   "cell_type": "markdown",
   "id": "fa1ee385",
   "metadata": {},
   "source": [
    "# Creación de arrays"
   ]
  },
  {
   "cell_type": "code",
   "execution_count": null,
   "id": "2a675b44",
   "metadata": {},
   "outputs": [
    {
     "name": "stdout",
     "output_type": "stream",
     "text": [
      "[2 3 5]\n"
     ]
    },
    {
     "data": {
      "text/plain": [
       "array([2, 3, 5])"
      ]
     },
     "execution_count": 7,
     "metadata": {},
     "output_type": "execute_result"
    }
   ],
   "source": [
    "# np.array(): crear un array a partir de un iterable como una lista.\n",
    "\n",
    "lista = [2, 3, 5]\n",
    "array1 = np.array(lista)\n",
    "\n",
    "print(array1)  #  Salida: [2 3 5]\n",
    "\n",
    "array1  #  Salida: array([2, 3, 5])\n"
   ]
  },
  {
   "cell_type": "code",
   "execution_count": null,
   "id": "e9647690",
   "metadata": {},
   "outputs": [
    {
     "name": "stdout",
     "output_type": "stream",
     "text": [
      "[[1 2 3]\n",
      " [4 5 6]]\n"
     ]
    },
    {
     "data": {
      "text/plain": [
       "array([[1, 2, 3],\n",
       "       [4, 5, 6]])"
      ]
     },
     "execution_count": 19,
     "metadata": {},
     "output_type": "execute_result"
    }
   ],
   "source": [
    "# Crear array bidimensional a partir de una lista de listas.\n",
    "\n",
    "lista2 = [[1,2,3], [4,5,6]]\n",
    "array2 = np.array(lista2)\n",
    "\n",
    "print(array2)  # Salida: [[1 2 3]\n",
    "               #          [4 5 6]]\n",
    "               \n",
    "array2  # Salida: array([[1, 2, 3],\n",
    "        #               [4, 5, 6]])"
   ]
  },
  {
   "cell_type": "code",
   "execution_count": null,
   "id": "31f79a7d",
   "metadata": {},
   "outputs": [
    {
     "data": {
      "text/plain": [
       "array([[[ 1,  2,  3],\n",
       "        [ 4,  5,  6]],\n",
       "\n",
       "       [[ 7,  8,  9],\n",
       "        [10, 11, 12]]])"
      ]
     },
     "execution_count": 20,
     "metadata": {},
     "output_type": "execute_result"
    }
   ],
   "source": [
    "# Crear array tridimensional a partir de una lista de listas de listas.\n",
    "\n",
    "lista3 = [[[1,2,3], [4,5,6]], [[7,8,9], [10,11,12]]]\n",
    "array3 = np.array(lista3)\n",
    "\n",
    "array3  # Salida: array([[[ 1,  2,  3],\n",
    "        #                 [ 4,  5,  6]],\n",
    "\n",
    "        #                [[ 7,  8,  9],\n",
    "        #                 [10, 11, 12]]])"
   ]
  },
  {
   "cell_type": "code",
   "execution_count": null,
   "id": "c4ddfeba",
   "metadata": {},
   "outputs": [
    {
     "data": {
      "text/plain": [
       "array([1, 2, 3, 4, 5, 6, 7, 8, 9])"
      ]
     },
     "execution_count": 21,
     "metadata": {},
     "output_type": "execute_result"
    }
   ],
   "source": [
    "# np.arange(): Nos permite crear arrays con valores uniformes dentro de un intervalo determinado.\n",
    "\n",
    "# crear array unidimensional con números del 1 al 9\n",
    "\n",
    "array4 = np.arange(1, 10)\n",
    "\n",
    "array4  # Salida: array([1, 2, 3, 4, 5, 6, 7, 8, 9])"
   ]
  },
  {
   "cell_type": "code",
   "execution_count": null,
   "id": "78a8efe8",
   "metadata": {},
   "outputs": [
    {
     "data": {
      "text/plain": [
       "array([1, 3, 5, 7, 9])"
      ]
     },
     "execution_count": 22,
     "metadata": {},
     "output_type": "execute_result"
    }
   ],
   "source": [
    "# Crear array unidimensional con números del 1 al 9 con saltos de dos en dos\n",
    "\n",
    "array5 = np.arange(1, 10, 2)\n",
    "\n",
    "array5  # Salida: array([1, 3, 5, 7, 9])\n"
   ]
  },
  {
   "cell_type": "code",
   "execution_count": null,
   "id": "72b3035f",
   "metadata": {},
   "outputs": [
    {
     "data": {
      "text/plain": [
       "array([0., 0., 0.])"
      ]
     },
     "execution_count": 25,
     "metadata": {},
     "output_type": "execute_result"
    }
   ],
   "source": [
    "# np.zeros(): Nos permite crear arrays de un tamaño especificado inicializados con ceros.\n",
    "\n",
    "# Crear array unidimensional de ceros.\n",
    "\n",
    "ceros1 = np.zeros(3, dtype= float)  # Tres elementos de tipo float. Si no se indica dtype=, por defecto es float \n",
    "\n",
    "ceros1  # Salida: array([0., 0., 0.])\n"
   ]
  },
  {
   "cell_type": "code",
   "execution_count": null,
   "id": "096e4d24",
   "metadata": {},
   "outputs": [
    {
     "data": {
      "text/plain": [
       "array([[0, 0, 0],\n",
       "       [0, 0, 0]])"
      ]
     },
     "execution_count": 12,
     "metadata": {},
     "output_type": "execute_result"
    }
   ],
   "source": [
    "# Crear arrays bidimensional de ceros, de tipo enteros.\n",
    "\n",
    "ceros2 = np.zeros((2, 3), dtype= int)  # 2 Indica número de filas, el 3 las columnas.\n",
    "\n",
    "ceros2  # Salida: array([[0, 0, 0],\n",
    "        #                [0, 0, 0]])"
   ]
  },
  {
   "cell_type": "code",
   "execution_count": null,
   "id": "fb67ba03",
   "metadata": {},
   "outputs": [
    {
     "data": {
      "text/plain": [
       "array([[[0, 0, 0, 0, 0],\n",
       "        [0, 0, 0, 0, 0],\n",
       "        [0, 0, 0, 0, 0]],\n",
       "\n",
       "       [[0, 0, 0, 0, 0],\n",
       "        [0, 0, 0, 0, 0],\n",
       "        [0, 0, 0, 0, 0]]])"
      ]
     },
     "execution_count": 37,
     "metadata": {},
     "output_type": "execute_result"
    }
   ],
   "source": [
    "# Crear arrays tridimensional de ceros. 2 matrices de 3 filas x 5 columnas.\n",
    "\n",
    "ceros3 = np.zeros((2, 3, 5), dtype= int) # 2 indica número de matrices, 3 indica número de filas, el 5 las columnas.\n",
    "\n",
    "ceros3  # Salida: array([[[0, 0, 0, 0, 0],\n",
    "        #                 [0, 0, 0, 0, 0],\n",
    "        #                 [0, 0, 0, 0, 0]],\n",
    "\n",
    "        #                [[0, 0, 0, 0, 0],\n",
    "        #                 [0, 0, 0, 0, 0],\n",
    "        #                 [0, 0, 0, 0, 0]]])"
   ]
  },
  {
   "cell_type": "code",
   "execution_count": null,
   "id": "c530acf9",
   "metadata": {},
   "outputs": [
    {
     "data": {
      "text/plain": [
       "array([1., 1., 1., 1., 1.])"
      ]
     },
     "execution_count": 31,
     "metadata": {},
     "output_type": "execute_result"
    }
   ],
   "source": [
    "# np.ones(): Nos permite crear arrays de un tamaño especificado inicializados con unos.\n",
    "\n",
    "# Crear array unidimensional de unos.\n",
    "\n",
    "unos1 = np.ones(5)  # Si no indicamos el tipo devuelve float \n",
    "\n",
    "unos1  # Salida: array([1., 1., 1., 1., 1.])"
   ]
  },
  {
   "cell_type": "code",
   "execution_count": null,
   "id": "fcde8fb4",
   "metadata": {},
   "outputs": [
    {
     "data": {
      "text/plain": [
       "array([[1., 1., 1.],\n",
       "       [1., 1., 1.]])"
      ]
     },
     "execution_count": 33,
     "metadata": {},
     "output_type": "execute_result"
    }
   ],
   "source": [
    "# Crear array bidimensional de unos, 2 filas x 3 columnas, float por defecto.\n",
    "\n",
    "unos2 = np.ones((2, 3))\n",
    "\n",
    "unos2  # Salida: array([[1., 1., 1.],\n",
    "       #                [1., 1., 1.]])"
   ]
  },
  {
   "cell_type": "code",
   "execution_count": null,
   "id": "55afa716",
   "metadata": {},
   "outputs": [
    {
     "data": {
      "text/plain": [
       "array([[[1, 1, 1, 1, 1, 1],\n",
       "        [1, 1, 1, 1, 1, 1],\n",
       "        [1, 1, 1, 1, 1, 1]],\n",
       "\n",
       "       [[1, 1, 1, 1, 1, 1],\n",
       "        [1, 1, 1, 1, 1, 1],\n",
       "        [1, 1, 1, 1, 1, 1]]])"
      ]
     },
     "execution_count": 34,
     "metadata": {},
     "output_type": "execute_result"
    }
   ],
   "source": [
    "# Crear array tridimensional de unos (enteros). 2 matrices de 3 filas x 6 columnas \n",
    "\n",
    "unos3 = np.ones((2, 3, 6), dtype= int)\n",
    "\n",
    "unos3  # Salida: array([[[1, 1, 1, 1, 1, 1],\n",
    "       #                 [1, 1, 1, 1, 1, 1],\n",
    "       #                 [1, 1, 1, 1, 1, 1]],\n",
    "\n",
    "       #                [[1, 1, 1, 1, 1, 1],\n",
    "       #                 [1, 1, 1, 1, 1, 1],\n",
    "       #                 [1, 1, 1, 1, 1, 1]]])\n"
   ]
  },
  {
   "cell_type": "code",
   "execution_count": 51,
   "id": "59af9049",
   "metadata": {},
   "outputs": [
    {
     "data": {
      "text/plain": [
       "array([[1.24461877e-311, 1.24461877e-311, 1.24461877e-311],\n",
       "       [1.26974871e-321, 0.00000000e+000, 1.65814725e-076],\n",
       "       [9.27279402e-072, 5.28882111e+174, 2.48481943e+184],\n",
       "       [4.12352210e-061, 1.32710585e-075, 8.07011090e+169]])"
      ]
     },
     "execution_count": 51,
     "metadata": {},
     "output_type": "execute_result"
    }
   ],
   "source": [
    "# np.empty(): Nos permite crear \"arrays vacíos\" con las dimensiones especificadas.\n",
    " \n",
    "# Los valores que se generan en este array son los que estén almacenados en ese momento en la memoria, lo que podría parecer aleatoriedad.\n",
    "\n",
    "vacio1 = np.empty((4,3))\n",
    "\n",
    "vacio1 # Salida: array([[1.24461877e-311, 1.24461877e-311, 1.24461877e-311],\n",
    "       #                [1.26974871e-321, 0.00000000e+000, 1.65814725e-076],\n",
    "       #                [9.27279402e-072, 5.28882111e+174, 2.48481943e+184],\n",
    "       #                [4.12352210e-061, 1.32710585e-075, 8.07011090e+169]])"
   ]
  },
  {
   "cell_type": "code",
   "execution_count": null,
   "id": "ded24b29",
   "metadata": {},
   "outputs": [
    {
     "data": {
      "text/plain": [
       "array([[1., 0., 0., 0.],\n",
       "       [0., 1., 0., 0.],\n",
       "       [0., 0., 1., 0.],\n",
       "       [0., 0., 0., 1.]])"
      ]
     },
     "execution_count": 52,
     "metadata": {},
     "output_type": "execute_result"
    }
   ],
   "source": [
    "# np.identity(): permite crear una matriz identidad. Matriz con ceros en las filas y columnas excepto en la diagonal que tendremos unos.\n",
    "\n",
    "iden2 = np.identity(4)\n",
    "\n",
    "iden2  # Salida: array([[1., 0., 0., 0.],\n",
    "       #                [0., 1., 0., 0.],\n",
    "       #                [0., 0., 1., 0.],\n",
    "       #                [0., 0., 0., 1.]])"
   ]
  },
  {
   "cell_type": "code",
   "execution_count": null,
   "id": "d49f8db8",
   "metadata": {},
   "outputs": [
    {
     "data": {
      "text/plain": [
       "array([[1., 0., 0., 0.],\n",
       "       [0., 1., 0., 0.],\n",
       "       [0., 0., 1., 0.],\n",
       "       [0., 0., 0., 1.]])"
      ]
     },
     "execution_count": 53,
     "metadata": {},
     "output_type": "execute_result"
    }
   ],
   "source": [
    "# np.eye(): matriz identidad con la que podemos modificar la posición de la diagonal con el parámetro K\n",
    "\n",
    "eye1 = np.eye(4)\n",
    "\n",
    "eye1  # Salida: array([[1., 0., 0., 0.],\n",
    "      #                [0., 1., 0., 0.],\n",
    "      #                [0., 0., 1., 0.],\n",
    "      #                [0., 0., 0., 1.]])"
   ]
  },
  {
   "cell_type": "code",
   "execution_count": null,
   "id": "d46cba88",
   "metadata": {},
   "outputs": [
    {
     "data": {
      "text/plain": [
       "array([[0., 1., 0., 0.],\n",
       "       [0., 0., 1., 0.],\n",
       "       [0., 0., 0., 1.],\n",
       "       [0., 0., 0., 0.]])"
      ]
     },
     "execution_count": 54,
     "metadata": {},
     "output_type": "execute_result"
    }
   ],
   "source": [
    "# Mover la diagonal una posición hacia arriba\n",
    "\n",
    "eye2 = np.eye(4, k = 1)\n",
    "\n",
    "eye2  # Salida: array([[0., 1., 0., 0.],\n",
    "      #                [0., 0., 1., 0.],\n",
    "      #                [0., 0., 0., 1.],\n",
    "      #                [0., 0., 0., 0.]])"
   ]
  },
  {
   "cell_type": "code",
   "execution_count": null,
   "id": "7771221c",
   "metadata": {},
   "outputs": [
    {
     "data": {
      "text/plain": [
       "array([[0., 0., 1., 0.],\n",
       "       [0., 0., 0., 1.],\n",
       "       [0., 0., 0., 0.],\n",
       "       [0., 0., 0., 0.]])"
      ]
     },
     "execution_count": 3,
     "metadata": {},
     "output_type": "execute_result"
    }
   ],
   "source": [
    "# Mover la diagonal dos posiciones hacia arriba:\n",
    "\n",
    "eye2 = np.eye(4, k = 2)\n",
    "\n",
    "eye2  # Salida: array([[0., 0., 1., 0.],\n",
    "      #                [0., 0., 0., 1.],\n",
    "      #                [0., 0., 0., 0.],\n",
    "      #                [0., 0., 0., 0.]])"
   ]
  },
  {
   "cell_type": "code",
   "execution_count": null,
   "id": "b59d795c",
   "metadata": {},
   "outputs": [
    {
     "data": {
      "text/plain": [
       "array([[0., 0., 0., 0.],\n",
       "       [1., 0., 0., 0.],\n",
       "       [0., 1., 0., 0.],\n",
       "       [0., 0., 1., 0.]])"
      ]
     },
     "execution_count": 5,
     "metadata": {},
     "output_type": "execute_result"
    }
   ],
   "source": [
    "# Lo mismo para valores negativos:\n",
    "\n",
    "eye2 = np.eye(4, k = -1)\n",
    "\n",
    "eye2  # Salida: array([[0., 0., 0., 0.],\n",
    "      #                [1., 0., 0., 0.],\n",
    "      #                [0., 1., 0., 0.],\n",
    "      #                [0., 0., 1., 0.]])"
   ]
  },
  {
   "cell_type": "code",
   "execution_count": null,
   "id": "8cf1e94b",
   "metadata": {},
   "outputs": [
    {
     "data": {
      "text/plain": [
       "array([ 2, 14, 16,  2,  1,  2, 15, 17], dtype=int32)"
      ]
     },
     "execution_count": 2,
     "metadata": {},
     "output_type": "execute_result"
    }
   ],
   "source": [
    "# np.random.randint(): nos devuelve números enteros aleatorios entre dos valores que le especifiquemos.\n",
    "\n",
    "aleatoria = np.random.randint(0, 20, 8)  # Matriz unidimensional de 8 elementos aleatorios entre el 0 y el 20 (no incluido) \n",
    "\n",
    "aleatoria  # Salida: array([ 2, 14, 16,  2,  1,  2, 15, 17]"
   ]
  },
  {
   "cell_type": "code",
   "execution_count": null,
   "id": "f04a38a0",
   "metadata": {},
   "outputs": [
    {
     "data": {
      "text/plain": [
       "array([[[34,  5, 34, 56, 51],\n",
       "        [89, 69, 82, 58, 66],\n",
       "        [75, 41, 59, 68, 36]],\n",
       "\n",
       "       [[28, 95, 91, 37, 59],\n",
       "        [46, 23, 41,  2,  8],\n",
       "        [92, 93, 89, 50, 97]]], dtype=int32)"
      ]
     },
     "execution_count": 17,
     "metadata": {},
     "output_type": "execute_result"
    }
   ],
   "source": [
    "# Para generarar un array tridimensional de 2 matrices de 3 filas x 5 columnas con números aleatorios del 0-100 (no incluida)\n",
    "\n",
    "aleatoria1 = np.random.randint(0, 100, (2, 3, 5))  # Primero rango de números, luego dimensiones del array\n",
    "\n",
    "aleatoria1  # Salida: array([[[34,  5, 34, 56, 51],\n",
    "            #                 [89, 69, 82, 58, 66],\n",
    "            #                 [75, 41, 59, 68, 36]],\n",
    "\n",
    "            #                [[28, 95, 91, 37, 59],\n",
    "            #                 [46, 23, 41,  2,  8],\n",
    "            #                 [92, 93, 89, 50, 97]]], dtype=int32)"
   ]
  },
  {
   "cell_type": "code",
   "execution_count": null,
   "id": "10799346",
   "metadata": {},
   "outputs": [
    {
     "data": {
      "text/plain": [
       "array([[[0.30953931, 0.9984686 , 0.55819594, 0.12330322, 0.40067297],\n",
       "        [0.43237897, 0.78715817, 0.41008991, 0.87294752, 0.1283106 ],\n",
       "        [0.01018238, 0.01847217, 0.21904583, 0.76058512, 0.51913896]],\n",
       "\n",
       "       [[0.14245593, 0.06229063, 0.69671923, 0.74791235, 0.48224743],\n",
       "        [0.39005976, 0.86032261, 0.11698124, 0.32595551, 0.78778918],\n",
       "        [0.88130086, 0.26734199, 0.02557209, 0.42728062, 0.14362044]]])"
      ]
     },
     "execution_count": 24,
     "metadata": {},
     "output_type": "execute_result"
    }
   ],
   "source": [
    "# np.random.rand(): nos devuelve un array entre 0 - 1 (no incluido) con la forma que le especifiquemos. Los valores son float.\n",
    "\n",
    "# Array tridimensional de 2 matrices con 3 filas x 5 columnas con números aleatorios del 0 - 1\n",
    "\n",
    "aleatoria2 = np.random.rand(2, 3, 5)\n",
    "\n",
    "aleatoria2  # Salida: array([[[0.30953931, 0.9984686 , 0.55819594, 0.12330322, 0.40067297],\n",
    "            #                 [0.43237897, 0.78715817, 0.41008991, 0.87294752, 0.1283106 ],\n",
    "            #                 [0.01018238, 0.01847217, 0.21904583, 0.76058512, 0.51913896]],\n",
    "\n",
    "            #                [[0.14245593, 0.06229063, 0.69671923, 0.74791235, 0.48224743],\n",
    "            #                 [0.39005976, 0.86032261, 0.11698124, 0.32595551, 0.78778918],\n",
    "            #                 [0.88130086, 0.26734199, 0.02557209, 0.42728062, 0.14362044]]])"
   ]
  },
  {
   "cell_type": "code",
   "execution_count": null,
   "id": "eb4d222e",
   "metadata": {},
   "outputs": [
    {
     "data": {
      "text/plain": [
       "array([[[0.53052643, 0.65093388, 0.83970651, 0.10842694, 0.15070011],\n",
       "        [0.23306723, 0.33917582, 0.62670284, 0.8010868 , 0.53002884],\n",
       "        [0.31641693, 0.24454779, 0.93503678, 0.09416233, 0.55316614]],\n",
       "\n",
       "       [[0.90533076, 0.26195768, 0.73729793, 0.01036003, 0.18048762],\n",
       "        [0.38267311, 0.99318575, 0.46873725, 0.62115441, 0.43199547],\n",
       "        [0.75224802, 0.8322811 , 0.18743643, 0.67211054, 0.71001918]]])"
      ]
     },
     "execution_count": 26,
     "metadata": {},
     "output_type": "execute_result"
    }
   ],
   "source": [
    "# np.random.random_sample(): nos devuelve un array entre 0 - 1 (no incluido) con la forma que le especifiquemos EN FORMA DE TUPLA. Los valores son float.\n",
    "\n",
    "# Array tridimensional de 2 matrices con 3 filas x 5 columnas con números aleatorios del 0 - 1\n",
    "\n",
    "aleatoria3 = np.random.random_sample((2, 3, 5))\n",
    "\n",
    "aleatoria3  # Salida: array([[[0.53052643, 0.65093388, 0.83970651, 0.10842694, 0.15070011],\n",
    "            #                 [0.23306723, 0.33917582, 0.62670284, 0.8010868 , 0.53002884],\n",
    "            #                 [0.31641693, 0.24454779, 0.93503678, 0.09416233, 0.55316614]],\n",
    "\n",
    "            #                [[0.90533076, 0.26195768, 0.73729793, 0.01036003, 0.18048762],\n",
    "            #                 [0.38267311, 0.99318575, 0.46873725, 0.62115441, 0.43199547],\n",
    "            #                 [0.75224802, 0.8322811 , 0.18743643, 0.67211054, 0.71001918]]])"
   ]
  },
  {
   "cell_type": "code",
   "execution_count": 22,
   "id": "fde4b0fb",
   "metadata": {},
   "outputs": [
    {
     "name": "stdout",
     "output_type": "stream",
     "text": [
      "3\n"
     ]
    }
   ],
   "source": [
    "# np.random.choice(): Devuelve un valor aleatoriamente cada vez que se ejecute entre los valores de un iterable, en este caso una lista.\n",
    "valor_aleatorio = np.random.choice([1, 2, 3, 5, 6, 7])\n",
    "print(valor_aleatorio)"
   ]
  },
  {
   "cell_type": "code",
   "execution_count": null,
   "id": "e49f114f",
   "metadata": {},
   "outputs": [
    {
     "name": "stdout",
     "output_type": "stream",
     "text": [
      "[ 2 14 16  2  1  2 15 17]\n",
      "16\n"
     ]
    }
   ],
   "source": [
    "# np.random.choice(): con un array:\n",
    "\n",
    "aleatoria20 = np.array([ 2, 14, 16,  2,  1,  2, 15, 17])\n",
    "print(aleatoria20)\n",
    "\n",
    "valor_aleatorio2 = np.random.choice(aleatoria20)\n",
    "print(valor_aleatorio2)"
   ]
  },
  {
   "cell_type": "markdown",
   "id": "ac348ca0",
   "metadata": {},
   "source": [
    "# Propiedades"
   ]
  },
  {
   "cell_type": "code",
   "execution_count": null,
   "id": "65f934cb",
   "metadata": {},
   "outputs": [
    {
     "data": {
      "text/plain": [
       "array([[0.27494899, 0.15961992, 0.97530487],\n",
       "       [0.85997389, 0.45447119, 0.4632279 ]])"
      ]
     },
     "execution_count": 3,
     "metadata": {},
     "output_type": "execute_result"
    }
   ],
   "source": [
    "# Crear un array de 2 filas x 3 columnas\n",
    "\n",
    "ejemplo = np.random.random_sample((2,3))\n",
    "\n",
    "ejemplo"
   ]
  },
  {
   "cell_type": "markdown",
   "id": "4a5cd7ec",
   "metadata": {},
   "source": [
    "# Métodos para comprender y explorar las propiedades de un array"
   ]
  },
  {
   "cell_type": "code",
   "execution_count": null,
   "id": "8d793653",
   "metadata": {},
   "outputs": [
    {
     "data": {
      "text/plain": [
       "numpy.ndarray"
      ]
     },
     "execution_count": 4,
     "metadata": {},
     "output_type": "execute_result"
    }
   ],
   "source": [
    "# type(): averiguar el tipo de dato\n",
    "\n",
    "type(ejemplo)  # Salida: numpy.ndarray"
   ]
  },
  {
   "cell_type": "code",
   "execution_count": null,
   "id": "ac501835",
   "metadata": {},
   "outputs": [
    {
     "data": {
      "text/plain": [
       "2"
      ]
     },
     "execution_count": 5,
     "metadata": {},
     "output_type": "execute_result"
    }
   ],
   "source": [
    "# .ndim: nos permite conocer el número de dimensiones de nuestro array\n",
    "\n",
    "ejemplo.ndim  # Salida: 2"
   ]
  },
  {
   "cell_type": "code",
   "execution_count": null,
   "id": "2a482856",
   "metadata": {},
   "outputs": [
    {
     "data": {
      "text/plain": [
       "(2, 3)"
      ]
     },
     "execution_count": 6,
     "metadata": {},
     "output_type": "execute_result"
    }
   ],
   "source": [
    "# .shape: nos permite conocer la forma del array\n",
    "\n",
    "ejemplo.shape  # Salida: (2, 3)"
   ]
  },
  {
   "cell_type": "code",
   "execution_count": null,
   "id": "583555e6",
   "metadata": {},
   "outputs": [
    {
     "data": {
      "text/plain": [
       "dtype('float64')"
      ]
     },
     "execution_count": 7,
     "metadata": {},
     "output_type": "execute_result"
    }
   ],
   "source": [
    "# .dtype: obtenemos el tipo de dato que contiene nuestro array\n",
    "\n",
    "ejemplo.dtype  # salida: dtype('float64')"
   ]
  }
 ],
 "metadata": {
  "kernelspec": {
   "display_name": "Python 3",
   "language": "python",
   "name": "python3"
  },
  "language_info": {
   "codemirror_mode": {
    "name": "ipython",
    "version": 3
   },
   "file_extension": ".py",
   "mimetype": "text/x-python",
   "name": "python",
   "nbconvert_exporter": "python",
   "pygments_lexer": "ipython3",
   "version": "3.13.5"
  }
 },
 "nbformat": 4,
 "nbformat_minor": 5
}
