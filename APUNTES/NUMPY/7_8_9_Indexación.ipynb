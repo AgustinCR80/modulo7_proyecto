{
 "cells": [
  {
   "cell_type": "code",
   "execution_count": null,
   "id": "714909e7",
   "metadata": {},
   "outputs": [],
   "source": [
    "# import numpy as np\n",
    "# print(np.__version__)"
   ]
  },
  {
   "cell_type": "markdown",
   "id": "c99913b6",
   "metadata": {},
   "source": [
    "# Unidimensional"
   ]
  },
  {
   "cell_type": "code",
   "execution_count": null,
   "id": "a352adb7",
   "metadata": {},
   "outputs": [],
   "source": [
    "# Sintaxis: Se realiza igual que en una lista\n",
    "\n",
    "lista[start:stop:step]\n",
    "'''\n",
    "Donde:\n",
    "\n",
    "start: es el primer elemento al que se quiere acceder, este elemento será incluido. \n",
    "\n",
    "stop: es el ultimo elemento al que se quiere acceder, este elemento no será incluido. \n",
    "\n",
    "step: es el intervalo con el que se tomaran los elementos.\n",
    "'''"
   ]
  },
  {
   "cell_type": "code",
   "execution_count": null,
   "id": "cfc26bcd",
   "metadata": {},
   "outputs": [
    {
     "name": "stdout",
     "output_type": "stream",
     "text": [
      "45\n",
      "[3, 45, 6, 23, 81, 93]\n",
      "[3, 45, 6]\n",
      "[12, 20, 3, 45]\n",
      "[12, 3, 6, 81]\n"
     ]
    }
   ],
   "source": [
    "# Repaso a las listas\n",
    "\n",
    "lst = [12,20,3,45,6,23,81,93]\n",
    "\n",
    "# Acceder al elemento de la posición 3\n",
    "print(lst[3])  # Salida: 45\n",
    "\n",
    "# Seleccionamos desde el tercer elemento (incluido) hasta el final\n",
    "print(lst[2:])  # Salida: [3, 45, 6, 23, 81, 93]\n",
    "\n",
    "# Seleccionamos desde el tercer elemento hasta el 5 incluido\n",
    "print(lst[2:5])  # Salida: [3, 45, 6]\n",
    "\n",
    "# Seleccionamos los 4 primeros elementos\n",
    "print(lst[:4])  # Salida: [12, 20, 3, 45]\n",
    "\n",
    "# Seleccionamos todos los elementos que están en posición impar\n",
    "print(lst[::2])  # Salida: [12, 3, 6, 81]"
   ]
  },
  {
   "cell_type": "code",
   "execution_count": null,
   "id": "0adb6932",
   "metadata": {},
   "outputs": [
    {
     "name": "stdout",
     "output_type": "stream",
     "text": [
      "0.11004851\n",
      "[0.25789705, 0.15254418, 0.64145759]\n",
      "[0.25918084, 0.98074997]\n",
      "[0.11004851, 0.25918084, 0.47281141, 0.73482103, 0.9731047]\n"
     ]
    }
   ],
   "source": [
    "# Array unidimensional de 15 elementos tipo float:\n",
    "\n",
    "unidimensional = ([0.11004851, 0.04858927, 0.25918084, 0.98074997, 0.47281141,\n",
    "                   0.06919704, 0.73482103, 0.67461802, 0.9731047 , 0.61204223,\n",
    "                   0.64327416, 0.89920378, 0.25789705, 0.15254418, 0.64145759])\n",
    "\n",
    "# Si queremos acceder al primer elemento de nuestro array\n",
    "print(unidimensional[0])  # Salida: 0.11004851\n",
    "\n",
    "# Si queremos acceder a los tres últimos elementos\n",
    "print(unidimensional[-3:])  # Salida: [0.25789705, 0.15254418, 0.64145759]\n",
    "\n",
    "# Si queremos seleccionar el tercer y cuarto elemento\n",
    "print(unidimensional[2:4])  # Salida: [0.25918084, 0.98074997]\n",
    "\n",
    "# Los elementos desde el inicio (1) hasta el 10 incluido (posición 9) en saltos de dos en dos\n",
    "print(unidimensional[:10:2])  # Salida: [0.11004851, 0.25918084, 0.47281141, 0.73482103, 0.9731047]"
   ]
  },
  {
   "cell_type": "markdown",
   "id": "77fe9b0b",
   "metadata": {},
   "source": [
    "# Bidimensional"
   ]
  },
  {
   "cell_type": "markdown",
   "id": "f9da4a1e",
   "metadata": {},
   "source": [
    "# Pueden entenderse como una lista de listas.\n",
    "\n",
    "# Sintaxis, se pueden representar de dos formas:\n",
    "\n",
    "array[i,j]    i: filas\n",
    "array[i][j]  j: columnas"
   ]
  },
  {
   "cell_type": "code",
   "execution_count": null,
   "id": "cf2a4949",
   "metadata": {},
   "outputs": [],
   "source": [
    "# Array bidimensional de 20 elementos tipo float:\n",
    "\n",
    "bidimensional = np.random.rand(5, 4)\n",
    "\n",
    "bidimensional = array([[0.63499975, 0.27702147, 0.2867511 , 0.52455559],\n",
    "                       [0.48413625, 0.68914156, 0.61253637, 0.5552737 ],\n",
    "                       [0.72277012, 0.06624284, 0.72344753, 0.56445487],\n",
    "                       [0.1919691 , 0.98874766, 0.09926572, 0.16397561],\n",
    "                       [0.19056812, 0.56586721, 0.11789614, 0.41540677]])"
   ]
  },
  {
   "cell_type": "code",
   "execution_count": 55,
   "id": "bc84c59d",
   "metadata": {},
   "outputs": [
    {
     "name": "stdout",
     "output_type": "stream",
     "text": [
      "[0.63499975 0.27702147 0.2867511  0.52455559]\n",
      "0.6349997460948548\n",
      "0.6349997460948548\n",
      "0.6125363703490366\n",
      "[[0.63499975 0.27702147 0.2867511  0.52455559]\n",
      " [0.48413625 0.68914156 0.61253637 0.5552737 ]]\n",
      "0.41540676607934846\n",
      "[[0.09926572]]\n"
     ]
    }
   ],
   "source": [
    "# Accedemos a la fila 0\n",
    "print(bidimensional[0])  # Salida: [0.63499975 0.27702147 0.2867511  0.52455559]\n",
    "\n",
    "# Accedemos al elemento de la fila 0 columna 0\n",
    "print(bidimensional[0,0])  # Salida: 0.6349997460948548\n",
    "\n",
    "# Esto es lo mismo que lo anterior\n",
    "print(bidimensional[0][0])  # Salida: 0.6349997460948548\n",
    "\n",
    "# Segunda fila, tercer columna.\n",
    "print(bidimensional[1, 2]) # Salida: 0.6125363703490366\n",
    "\n",
    "# Cuando utilicemos la estructura bidimensional[0,0], todo lo que vaya antes de la coma se referirá a las filas. Y todo lo\n",
    "# que vaya después se referirá a las columnas.\n",
    "\n",
    "# Seleccionar solo las dos primeras filas:\n",
    "print(bidimensional[:2, :])  # Salida: [[0.63499975 0.27702147 0.2867511  0.52455559]\n",
    "                             #          [0.48413625 0.68914156 0.61253637 0.5552737 ]]\n",
    "\n",
    "# Seleccionar el último elemento de la matriz, es decir, el cuarto elemento de la quinta fila:\n",
    "print(bidimensional[-1, -1])\n",
    "\n",
    "# Seleccionar el tercer elemento de la cuarta fila:\n",
    "print(bidimensional[3:4, 2:3])"
   ]
  },
  {
   "cell_type": "code",
   "execution_count": null,
   "id": "6f84f786",
   "metadata": {},
   "outputs": [
    {
     "name": "stdout",
     "output_type": "stream",
     "text": [
      "[[-1.          0.27702147  0.2867511  -1.        ]\n",
      " [ 0.48413625 -1.         -1.         -1.        ]\n",
      " [-1.          0.06624284 -1.         -1.        ]\n",
      " [ 0.1919691  -1.          0.09926572  0.16397561]\n",
      " [ 0.19056812 -1.          0.11789614  0.41540677]]\n"
     ]
    }
   ],
   "source": [
    "# Cambiar los valores de nuestro array que sean > 0,5 por -1\n",
    "\n",
    "for filas in range(bidimensional.shape[0]):         # shape[0] = cantidad de filas → usas eso para recorrer el eje vertical\n",
    "    for columnas in range(bidimensional.shape[1]):  # shape[1] = cantidad de columnas → usas eso para recorrer el eje horizontal\n",
    "        if bidimensional[filas][columnas] > 0.5:\n",
    "            bidimensional[filas][columnas] = -1\n",
    "\n",
    "print(bidimensional)  # Salida: [[-1.          0.27702147  0.2867511  -1.        ]\n",
    "                      #          [ 0.48413625 -1.         -1.         -1.        ]\n",
    "                      #          [-1.          0.06624284 -1.         -1.        ]\n",
    "                      #          [ 0.1919691  -1.          0.09926572  0.16397561]\n",
    "                      #          [ 0.19056812 -1.          0.11789614  0.41540677]]\n",
    "            "
   ]
  },
  {
   "cell_type": "markdown",
   "id": "def7bc7c",
   "metadata": {},
   "source": [
    "# Multidimensional"
   ]
  },
  {
   "cell_type": "markdown",
   "id": "bb8aec91",
   "metadata": {},
   "source": [
    "# Sintaxis, se pueden representar de dos formas:\n",
    "\n",
    "array[i,j,k]     i : array al que queremos acceder\n",
    "array[i][j][k]   j : fila de nuestro array al que queremos acceder\n",
    "                 k : columna de nuestro array al que queremos acceder"
   ]
  },
  {
   "cell_type": "code",
   "execution_count": null,
   "id": "2d20369e",
   "metadata": {},
   "outputs": [],
   "source": [
    "multidimensional = np.random.randint(0, 100, (2, 3, 5))\n",
    "\n",
    "multidimensional = array([[[38, 75,  5, 35, 36],\n",
    "                           [40, 74, 20, 67,  7],\n",
    "                           [12, 44, 40, 67, 38]],\n",
    "\n",
    "                          [[90, 59, 74, 23, 26],\n",
    "                           [ 3, 51, 40, 36, 74],\n",
    "                           [99, 33, 56, 81, 92]]], dtype=int32)"
   ]
  },
  {
   "cell_type": "code",
   "execution_count": null,
   "id": "e3ff9a63",
   "metadata": {},
   "outputs": [
    {
     "name": "stdout",
     "output_type": "stream",
     "text": [
      "67\n",
      "[38 75  5 35 36]\n",
      "[38 40 12]\n",
      "[[ 3 51 40 36 74]\n",
      " [99 33 56 81 92]]\n"
     ]
    }
   ],
   "source": [
    "# Accedemos al array 1 y al elemento que está en la fila 2 y la columna 4\n",
    "print(multidimensional[0, 1, 3])  # Salida: 67\n",
    " \n",
    "# Primer array primera fila y todas las columnas\n",
    "print(multidimensional[0, 0, :])  # Salida: [38 75  5 35 36]\n",
    "\n",
    "# Del primer array la primera columna de todas las filas\n",
    "print(multidimensional[0, :, 0]) # Salida: [38 40 12]\n",
    "\n",
    "# Nos devuelva las dos últimas filas del segundo array\n",
    "print(multidimensional[1, 1:, :])  # Salida: [[ 3 51 40 36 74]\n",
    "                                   #          [99 33 56 81 92]]"
   ]
  }
 ],
 "metadata": {
  "kernelspec": {
   "display_name": "Python 3",
   "language": "python",
   "name": "python3"
  },
  "language_info": {
   "codemirror_mode": {
    "name": "ipython",
    "version": 3
   },
   "file_extension": ".py",
   "mimetype": "text/x-python",
   "name": "python",
   "nbconvert_exporter": "python",
   "pygments_lexer": "ipython3",
   "version": "3.13.5"
  }
 },
 "nbformat": 4,
 "nbformat_minor": 5
}
