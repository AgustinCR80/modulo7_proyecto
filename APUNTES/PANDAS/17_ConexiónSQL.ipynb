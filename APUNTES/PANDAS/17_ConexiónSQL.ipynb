{
 "cells": [
  {
   "cell_type": "markdown",
   "id": "5f162e61",
   "metadata": {},
   "source": [
    "# Conexión SQL con Python"
   ]
  },
  {
   "cell_type": "markdown",
   "id": "027d7a7f",
   "metadata": {},
   "source": [
    "# Para conectar Python con una base de datos PostgreSQL, se utiliza comúnmente la biblioteca psycopg2.\n",
    "\n",
    "# pip install psycopg2"
   ]
  },
  {
   "cell_type": "markdown",
   "id": "9ddd1b60",
   "metadata": {},
   "source": [
    "# Conexión a PostgreSQL desde Python"
   ]
  },
  {
   "cell_type": "markdown",
   "id": "5e6aebd0",
   "metadata": {},
   "source": [
    "# Para conectarte a una base de datos PostgreSQL, necesitas tener los detalles de la base de datos, como:\n",
    "\n",
    "    - Host: Dirección del servidor donde está alojada la base de datos (ej. localhost).\n",
    "\n",
    "    - Nombre de la base de datos: La base de datos a la que deseas conectarte.\n",
    "\n",
    "    - Usuario: El nombre de usuario con el que se accederá a la base de datos.\n",
    "\n",
    "    - Contraseña: La contraseña para el usuario."
   ]
  },
  {
   "cell_type": "code",
   "execution_count": null,
   "id": "f8fa5cfa",
   "metadata": {},
   "outputs": [],
   "source": [
    "conn = psycopg2.connect(host = \"localhost\", \n",
    "                        database = \"nombre_BBDD\",\n",
    "                        user = \"nombre_usuario\", \n",
    "                        password = \"contraseña_usuario\")"
   ]
  },
  {
   "cell_type": "markdown",
   "id": "c705b1c5",
   "metadata": {},
   "source": [
    "# Ejecutar Consultas SQL"
   ]
  },
  {
   "cell_type": "code",
   "execution_count": null,
   "id": "d5e1d295",
   "metadata": {},
   "outputs": [],
   "source": [
    "sql_query = '''Consulta de SQL'''\n",
    "\n",
    "cursor = conn.cursor() # Creamos una variable con la que iniciamos el cursor\n",
    "\n",
    "cursor.execute(sql_query) # Ejecutamos la query\n",
    "\n",
    "rows = cursor.fetchall() # Creamos una variable con el restultado de la query en forma de lista de tuplas\n",
    "\n",
    "tabla = pd.DataFrame(rows)# Genereamos un DataFrame a partir de la variable anterior\n",
    "\n",
    "colnames = [desc[0] for desc in cursor.description] # Recuperamos los nombres de las columnas de la BBDD. cursor.description devuelve una tupla de tuplas con la misma longitud que columnas tenemos en nuestro resultado de la query. Además, el primer término de cada tupla es el nombre de la columna, por ello vamos a iterar por las tuplas y a tomar el término de la posición 0 para poder crear nuestra lista con los nombres de las columnas.\n",
    "\n",
    "tabla = tabla.set_axis(colnames, axis = 1)# Renombramos las columnas del DF creado para que coincidan con las de la BBDD\n",
    "\n",
    "display(tabla)"
   ]
  }
 ],
 "metadata": {
  "kernelspec": {
   "display_name": "Python 3",
   "language": "python",
   "name": "python3"
  },
  "language_info": {
   "name": "python",
   "version": "3.13.5"
  }
 },
 "nbformat": 4,
 "nbformat_minor": 5
}
