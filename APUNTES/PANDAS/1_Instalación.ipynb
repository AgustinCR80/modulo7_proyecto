{
 "cells": [
  {
   "cell_type": "markdown",
   "id": "5cb77ab4",
   "metadata": {},
   "source": [
    "# Instalación e importación"
   ]
  },
  {
   "cell_type": "code",
   "execution_count": null,
   "id": "e94e1b46",
   "metadata": {},
   "outputs": [],
   "source": [
    "# pip install numpy\n",
    "# import numpy as np\n",
    "# print(np.__version__)\n",
    "\n",
    "# pip install pandas\n",
    "# import pandas as pd\n",
    "# print(pd.__version__)"
   ]
  }
 ],
 "metadata": {
  "language_info": {
   "name": "python"
  }
 },
 "nbformat": 4,
 "nbformat_minor": 5
}
