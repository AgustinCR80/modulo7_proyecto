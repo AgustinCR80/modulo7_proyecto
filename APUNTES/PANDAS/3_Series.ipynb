{
 "cells": [
  {
   "cell_type": "markdown",
   "id": "fe2ed3ce",
   "metadata": {},
   "source": [
    "# Conceptos fundamentales y creación"
   ]
  },
  {
   "cell_type": "markdown",
   "id": "a07e5928",
   "metadata": {},
   "source": [
    "# Las series son una estructura de datos unidimensional que puede contener cualquier tipo de datos, como integres , floats, strings, listas, etc.\n",
    "\n",
    "# Cada elemento en una Serie está asociado con una etiqueta o índice que permite acceder a los datos de forma más intuitiva.\n",
    "\n",
    "# Las series son similares a los arrays unidimensionales en NumPy, pero tienen la ventaja de tener etiquetas de índice personalizables, lo que facilita la manipulación y el análisis de datos.\n",
    "\n",
    "# Datos homogéneos: Es decir, datos con un único tipo\n",
    "\n",
    "# Índices etiquetados: En una serie, todos los elementos tienen un índice asociado. Estos pueden ser etiquetas personalizadas o números autogenerados.\n",
    "\n",
    "# Funcionalidades adicionales: Operaciones matemáticas, filtrado de datos, agregación, ordenamiento, alineación de datos, entre otras."
   ]
  },
  {
   "cell_type": "code",
   "execution_count": 1,
   "id": "19975c24",
   "metadata": {},
   "outputs": [],
   "source": [
    "# pip install numpy\n",
    "import numpy as np\n",
    "# print(np.__version__)\n",
    "\n",
    "# pip install pandas\n",
    "import pandas as pd\n",
    "# print(pd.__version__)"
   ]
  },
  {
   "cell_type": "markdown",
   "id": "085e05f1",
   "metadata": {},
   "source": [
    "# Series vacías"
   ]
  },
  {
   "cell_type": "code",
   "execution_count": null,
   "id": "affdc9e1",
   "metadata": {},
   "outputs": [
    {
     "name": "stdout",
     "output_type": "stream",
     "text": [
      "Series([], dtype: object)\n",
      "<class 'pandas.core.series.Series'>\n"
     ]
    }
   ],
   "source": [
    "serie_vacia = pd.Series()\n",
    "\n",
    "print(serie_vacia)  # Salida: Series([], dtype: object)\n",
    "\n",
    "print(type(serie_vacia))  # Salida: <class 'pandas.core.series.Series'>"
   ]
  },
  {
   "cell_type": "markdown",
   "id": "bb3666c2",
   "metadata": {},
   "source": [
    "# Series a partir de un array unidimensional"
   ]
  },
  {
   "cell_type": "code",
   "execution_count": null,
   "id": "8dc6cd56",
   "metadata": {},
   "outputs": [],
   "source": [
    "# Creamos un array de 10 elementos del 1 al 20 (importar numpy) \n",
    "vector = np.random.randint(1, 21, 10)\n",
    "\n",
    "print(vector)  # Salida: [3 3 18 1 9 18 16 17 19 15]\n",
    "\n",
    "# Crear serie:\n",
    "serie_unidimensional = pd.Series(vector)\n",
    "print(serie_unidimensional)\n",
    "# Salida:   0    3\n",
    "#           1    3\n",
    "#           2    18\n",
    "#           3    1\n",
    "#           4    9\n",
    "#           5    18\n",
    "#           6    16\n",
    "#           7    17\n",
    "#           8    19\n",
    "#           9    15\n",
    "# dtype: int64"
   ]
  },
  {
   "cell_type": "markdown",
   "id": "478c68f0",
   "metadata": {},
   "source": [
    "# Series a partir de una lista"
   ]
  },
  {
   "cell_type": "code",
   "execution_count": null,
   "id": "f63d4e2e",
   "metadata": {},
   "outputs": [],
   "source": [
    "# Creamos una lista de 10 elentos del 1 al 20 \n",
    "#import random\n",
    "# lista = [random.randint(1, 21) for _ in range(10)]  # Salida: [19, 6, 10, 2, 16, 8, 17, 13, 16, 9]\n",
    "\n",
    "# También podemos crear la lista con np:\n",
    "# lista = list(np.random.randint(1, 21, 10))\n",
    "\n",
    "lista = [19, 6, 10, 2, 16, 8, 17, 13, 16, 9]\n",
    "print(lista)\n",
    "\n",
    "# Crear la serie:\n",
    "serie_lista = pd.Series(lista)\n",
    "print(serie_lista)\n",
    "# Salida:   0    19\n",
    "#           1    6\n",
    "#           2    10\n",
    "#           3    2\n",
    "#           4    16\n",
    "#           5    8\n",
    "#           6    17\n",
    "#           7    13\n",
    "#           8    16\n",
    "#           9    9\n",
    "# dtype: int64"
   ]
  },
  {
   "cell_type": "markdown",
   "id": "e17f137d",
   "metadata": {},
   "source": [
    "# Series a partir de un diccionario"
   ]
  },
  {
   "cell_type": "code",
   "execution_count": null,
   "id": "b9c313d4",
   "metadata": {},
   "outputs": [
    {
     "name": "stdout",
     "output_type": "stream",
     "text": [
      "Spain               Europe\n",
      "USA          North America\n",
      "Australia          Oceania\n",
      "Argentina    South America\n",
      "dtype: object\n"
     ]
    }
   ],
   "source": [
    "# Definimos un diccionario\n",
    "country_continent = {'Spain':'Europe',\n",
    "                     'USA':'North America',\n",
    "                     'Australia':'Oceania',\n",
    "                     'Argentina':'South America'}\n",
    "\n",
    "serie_diccionario = pd.Series(country_continent)\n",
    "print(serie_diccionario)\n",
    "# Salida:\n",
    "#           Spain        Europe \n",
    "#           USA          North America \n",
    "#           Australia    Oceania \n",
    "#           Argentina    South America"
   ]
  },
  {
   "cell_type": "markdown",
   "id": "610f179a",
   "metadata": {},
   "source": [
    "# Indexación"
   ]
  },
  {
   "cell_type": "markdown",
   "id": "2f0ff962",
   "metadata": {},
   "source": [
    "# Indexación por posición: Accedemos a los elementos utilizando la posición numérica, como hacíamos con las listas, la posición viene determinada por el índice o etiqueta de la serie "
   ]
  },
  {
   "cell_type": "code",
   "execution_count": null,
   "id": "2c1ea4cc",
   "metadata": {},
   "outputs": [
    {
     "name": "stdout",
     "output_type": "stream",
     "text": [
      "Europe\n"
     ]
    },
    {
     "name": "stderr",
     "output_type": "stream",
     "text": [
      "C:\\Users\\Agus_Ana_María_Raúl\\AppData\\Local\\Temp\\ipykernel_9676\\1593533443.py:1: FutureWarning: Series.__getitem__ treating keys as positions is deprecated. In a future version, integer keys will always be treated as labels (consistent with DataFrame behavior). To access a value by position, use `ser.iloc[pos]`\n",
      "  print(serie_diccionario[0])\n"
     ]
    }
   ],
   "source": [
    "print(serie_diccionario[0])  # Salida: Europe"
   ]
  },
  {
   "cell_type": "markdown",
   "id": "76ea978e",
   "metadata": {},
   "source": [
    "# Indexación por etiqueta: Accedemos a los elementos utilizando las etiquetas de índice asociadas a cada elemento."
   ]
  },
  {
   "cell_type": "code",
   "execution_count": null,
   "id": "922253f4",
   "metadata": {},
   "outputs": [
    {
     "name": "stdout",
     "output_type": "stream",
     "text": [
      "Europe\n"
     ]
    }
   ],
   "source": [
    "print(serie_diccionario['Spain'])  # Salida: Europe"
   ]
  },
  {
   "cell_type": "markdown",
   "id": "a91c0802",
   "metadata": {},
   "source": [
    "# Indexación por rango: Accedemos a un rango de elementos utilizando los índices de inicio y fin.\n"
   ]
  },
  {
   "cell_type": "code",
   "execution_count": null,
   "id": "4a9156dd",
   "metadata": {},
   "outputs": [
    {
     "name": "stdout",
     "output_type": "stream",
     "text": [
      "USA          North America\n",
      "Australia          Oceania\n",
      "dtype: object\n"
     ]
    }
   ],
   "source": [
    "print(serie_diccionario[1:3])\n",
    "# Salida: \n",
    "#         USA          North America\n",
    "#         Australia    Oceania\n",
    "# dtype: object"
   ]
  },
  {
   "cell_type": "markdown",
   "id": "f907e48c",
   "metadata": {},
   "source": [
    "# Indexación por lista de índices: Accedemos a varios elementos utilizando una lista de índices."
   ]
  },
  {
   "cell_type": "code",
   "execution_count": null,
   "id": "3dcd7016",
   "metadata": {},
   "outputs": [
    {
     "name": "stdout",
     "output_type": "stream",
     "text": [
      "Spain               Europe\n",
      "Argentina    South America\n",
      "dtype: object\n"
     ]
    },
    {
     "name": "stderr",
     "output_type": "stream",
     "text": [
      "C:\\Users\\Agus_Ana_María_Raúl\\AppData\\Local\\Temp\\ipykernel_9676\\1388106094.py:4: FutureWarning: Series.__getitem__ treating keys as positions is deprecated. In a future version, integer keys will always be treated as labels (consistent with DataFrame behavior). To access a value by position, use `ser.iloc[pos]`\n",
      "  print(serie_diccionario[lista_posiciones])\n"
     ]
    }
   ],
   "source": [
    "# Creamos una lista con las posiciones que queremos obtener:\n",
    "lista_posiciones = [0, 3]\n",
    "print(serie_diccionario[lista_posiciones])\n",
    "# Salida:\n",
    "#           Spain        Europe\n",
    "#           Argentina    South America\n",
    "#dtype: object"
   ]
  }
 ],
 "metadata": {
  "kernelspec": {
   "display_name": "Python 3",
   "language": "python",
   "name": "python3"
  },
  "language_info": {
   "codemirror_mode": {
    "name": "ipython",
    "version": 3
   },
   "file_extension": ".py",
   "mimetype": "text/x-python",
   "name": "python",
   "nbconvert_exporter": "python",
   "pygments_lexer": "ipython3",
   "version": "3.13.5"
  }
 },
 "nbformat": 4,
 "nbformat_minor": 5
}
