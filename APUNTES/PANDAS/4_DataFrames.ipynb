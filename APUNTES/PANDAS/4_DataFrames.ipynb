{
 "cells": [
  {
   "cell_type": "markdown",
   "id": "e15e30f3",
   "metadata": {},
   "source": [
    "# Conceptos fundamentales y creación."
   ]
  },
  {
   "cell_type": "markdown",
   "id": "69f1159d",
   "metadata": {},
   "source": [
    "# Los DataFrames son estructuras de datos bidimendionales, filas y columnas.\n",
    "\n",
    "# Flexibilidad: los DataFrames pueden contener datos de diferentes tipos. Además, las columnas pueden tener nombres personalizados y los índices pueden ser etiquetados con valores personalizados.\n",
    "\n",
    "# Facilidad de importación y exportación: Pueden leer y escribir datos en diversos formatos, como CSV, Excel, archivos de texto, bases de datos SQL, JSON, entre otros.\n",
    "\n",
    "# Indexación flexible: Permiten acceder y manipular los datos utilizando diversas técnicas de indexación, como indexación por posición, indexación por etiqueta, indexación booleana y más."
   ]
  },
  {
   "cell_type": "markdown",
   "id": "ca139905",
   "metadata": {},
   "source": [
    "# Sintaxis:\n",
    "pd.DataFrame(\"data\",\"index\",\"columns\")\n",
    "\n",
    "# data: Estructura de datos que queremos convertir a Dataframe.\n",
    "\n",
    "# index(opcional): Índice a aplicar a las filas. Si no se añade se autogenera uno numérico empezando en 0.\n",
    "\n",
    "# columns(opcional): Nombre de las columnas. Al igual que con el caso anterior, si no se añade use autogenera uno numérico empezando en 0."
   ]
  },
  {
   "cell_type": "code",
   "execution_count": 1,
   "id": "3b3a5c8e",
   "metadata": {},
   "outputs": [],
   "source": [
    "import pandas as pd\n",
    "import numpy as np"
   ]
  },
  {
   "cell_type": "markdown",
   "id": "68102aae",
   "metadata": {},
   "source": [
    "# Dataframe a partir de un diccionario"
   ]
  },
  {
   "cell_type": "code",
   "execution_count": null,
   "id": "a5f4dbd1",
   "metadata": {},
   "outputs": [
    {
     "data": {
      "text/html": [
       "<div>\n",
       "<style scoped>\n",
       "    .dataframe tbody tr th:only-of-type {\n",
       "        vertical-align: middle;\n",
       "    }\n",
       "\n",
       "    .dataframe tbody tr th {\n",
       "        vertical-align: top;\n",
       "    }\n",
       "\n",
       "    .dataframe thead th {\n",
       "        text-align: right;\n",
       "    }\n",
       "</style>\n",
       "<table border=\"1\" class=\"dataframe\">\n",
       "  <thead>\n",
       "    <tr style=\"text-align: right;\">\n",
       "      <th></th>\n",
       "      <th>carrera</th>\n",
       "      <th>nota de corte</th>\n",
       "      <th>facultad</th>\n",
       "      <th>plazas</th>\n",
       "    </tr>\n",
       "  </thead>\n",
       "  <tbody>\n",
       "    <tr>\n",
       "      <th>Ciencias</th>\n",
       "      <td>bioquímica</td>\n",
       "      <td>12.730</td>\n",
       "      <td>Ciencias Químicas</td>\n",
       "      <td>100</td>\n",
       "    </tr>\n",
       "    <tr>\n",
       "      <th>Ciencias Sociales</th>\n",
       "      <td>derecho</td>\n",
       "      <td>7.442</td>\n",
       "      <td>Derecho</td>\n",
       "      <td>300</td>\n",
       "    </tr>\n",
       "    <tr>\n",
       "      <th>Artes y Humanidades</th>\n",
       "      <td>bellas artes</td>\n",
       "      <td>9.906</td>\n",
       "      <td>Bellas Artes</td>\n",
       "      <td>250</td>\n",
       "    </tr>\n",
       "  </tbody>\n",
       "</table>\n",
       "</div>"
      ],
      "text/plain": [
       "                          carrera  nota de corte           facultad  plazas\n",
       "Ciencias               bioquímica         12.730  Ciencias Químicas     100\n",
       "Ciencias Sociales         derecho          7.442            Derecho     300\n",
       "Artes y Humanidades  bellas artes          9.906       Bellas Artes     250"
      ]
     },
     "execution_count": 4,
     "metadata": {},
     "output_type": "execute_result"
    }
   ],
   "source": [
    "# Definimos un diccionario:\n",
    "diccionario = {\"carrera\": [\"bioquímica\", \"derecho\", \"bellas artes\"],\n",
    "               \"nota de corte\": [12.730, 7.442, 9.906], \n",
    "               \"facultad\": [\"Ciencias Químicas\", \"Derecho\", \"Bellas Artes\"],\n",
    "               \"plazas\": [100, 300, 250]}\n",
    "\n",
    "# Damos nombre al índice\n",
    "df_diccionario = pd.DataFrame(diccionario, index = [\"Ciencias\", \"Ciencias Sociales\", \"Artes y Humanidades\"])\n",
    "df_diccionario"
   ]
  },
  {
   "cell_type": "code",
   "execution_count": 5,
   "id": "d007c75c",
   "metadata": {},
   "outputs": [
    {
     "data": {
      "text/html": [
       "<div>\n",
       "<style scoped>\n",
       "    .dataframe tbody tr th:only-of-type {\n",
       "        vertical-align: middle;\n",
       "    }\n",
       "\n",
       "    .dataframe tbody tr th {\n",
       "        vertical-align: top;\n",
       "    }\n",
       "\n",
       "    .dataframe thead th {\n",
       "        text-align: right;\n",
       "    }\n",
       "</style>\n",
       "<table border=\"1\" class=\"dataframe\">\n",
       "  <thead>\n",
       "    <tr style=\"text-align: right;\">\n",
       "      <th></th>\n",
       "      <th>carrera</th>\n",
       "      <th>nota de corte</th>\n",
       "      <th>facultad</th>\n",
       "      <th>plazas</th>\n",
       "    </tr>\n",
       "  </thead>\n",
       "  <tbody>\n",
       "    <tr>\n",
       "      <th>0</th>\n",
       "      <td>bioquímica</td>\n",
       "      <td>12.730</td>\n",
       "      <td>Ciencias Químicas</td>\n",
       "      <td>100</td>\n",
       "    </tr>\n",
       "    <tr>\n",
       "      <th>1</th>\n",
       "      <td>derecho</td>\n",
       "      <td>7.442</td>\n",
       "      <td>Derecho</td>\n",
       "      <td>300</td>\n",
       "    </tr>\n",
       "    <tr>\n",
       "      <th>2</th>\n",
       "      <td>bellas artes</td>\n",
       "      <td>9.906</td>\n",
       "      <td>Bellas Artes</td>\n",
       "      <td>250</td>\n",
       "    </tr>\n",
       "  </tbody>\n",
       "</table>\n",
       "</div>"
      ],
      "text/plain": [
       "        carrera  nota de corte           facultad  plazas\n",
       "0    bioquímica         12.730  Ciencias Químicas     100\n",
       "1       derecho          7.442            Derecho     300\n",
       "2  bellas artes          9.906       Bellas Artes     250"
      ]
     },
     "execution_count": 5,
     "metadata": {},
     "output_type": "execute_result"
    }
   ],
   "source": [
    "# No le damos nombre al índice:\n",
    "df_diccionario = pd.DataFrame(diccionario)\n",
    "df_diccionario"
   ]
  },
  {
   "cell_type": "markdown",
   "id": "2983c348",
   "metadata": {},
   "source": [
    "# Dataframe a partir de un array"
   ]
  },
  {
   "cell_type": "code",
   "execution_count": 14,
   "id": "9c54a0cf",
   "metadata": {},
   "outputs": [
    {
     "data": {
      "text/html": [
       "<div>\n",
       "<style scoped>\n",
       "    .dataframe tbody tr th:only-of-type {\n",
       "        vertical-align: middle;\n",
       "    }\n",
       "\n",
       "    .dataframe tbody tr th {\n",
       "        vertical-align: top;\n",
       "    }\n",
       "\n",
       "    .dataframe thead th {\n",
       "        text-align: right;\n",
       "    }\n",
       "</style>\n",
       "<table border=\"1\" class=\"dataframe\">\n",
       "  <thead>\n",
       "    <tr style=\"text-align: right;\">\n",
       "      <th></th>\n",
       "      <th>2012</th>\n",
       "      <th>2013</th>\n",
       "      <th>2014</th>\n",
       "    </tr>\n",
       "  </thead>\n",
       "  <tbody>\n",
       "    <tr>\n",
       "      <th>0</th>\n",
       "      <td>17</td>\n",
       "      <td>87</td>\n",
       "      <td>7</td>\n",
       "    </tr>\n",
       "    <tr>\n",
       "      <th>1</th>\n",
       "      <td>30</td>\n",
       "      <td>12</td>\n",
       "      <td>43</td>\n",
       "    </tr>\n",
       "  </tbody>\n",
       "</table>\n",
       "</div>"
      ],
      "text/plain": [
       "   2012  2013  2014\n",
       "0    17    87     7\n",
       "1    30    12    43"
      ]
     },
     "execution_count": 14,
     "metadata": {},
     "output_type": "execute_result"
    }
   ],
   "source": [
    "# Generamos un array 2 filas 3 columnas con valores aleatorios del 1 al 89\n",
    "array = np.random.randint(1, 90, (2, 3))\n",
    "\n",
    "# Damos nombre a las columnas\n",
    "df_array = pd.DataFrame(array, columns = [2012, 2013, 2014])\n",
    "df_array"
   ]
  },
  {
   "cell_type": "markdown",
   "id": "dbd8b7c2",
   "metadata": {},
   "source": [
    "# Dataframe a partir de una lista"
   ]
  },
  {
   "cell_type": "code",
   "execution_count": 16,
   "id": "c59159c9",
   "metadata": {},
   "outputs": [
    {
     "data": {
      "text/html": [
       "<div>\n",
       "<style scoped>\n",
       "    .dataframe tbody tr th:only-of-type {\n",
       "        vertical-align: middle;\n",
       "    }\n",
       "\n",
       "    .dataframe tbody tr th {\n",
       "        vertical-align: top;\n",
       "    }\n",
       "\n",
       "    .dataframe thead th {\n",
       "        text-align: right;\n",
       "    }\n",
       "</style>\n",
       "<table border=\"1\" class=\"dataframe\">\n",
       "  <thead>\n",
       "    <tr style=\"text-align: right;\">\n",
       "      <th></th>\n",
       "      <th>0</th>\n",
       "    </tr>\n",
       "  </thead>\n",
       "  <tbody>\n",
       "    <tr>\n",
       "      <th>0</th>\n",
       "      <td>6.0</td>\n",
       "    </tr>\n",
       "    <tr>\n",
       "      <th>1</th>\n",
       "      <td>7.5</td>\n",
       "    </tr>\n",
       "    <tr>\n",
       "      <th>2</th>\n",
       "      <td>8.0</td>\n",
       "    </tr>\n",
       "  </tbody>\n",
       "</table>\n",
       "</div>"
      ],
      "text/plain": [
       "     0\n",
       "0  6.0\n",
       "1  7.5\n",
       "2  8.0"
      ]
     },
     "execution_count": 16,
     "metadata": {},
     "output_type": "execute_result"
    }
   ],
   "source": [
    "# Definimos una lista:\n",
    "lista_notas = [6,7.5,8]\n",
    "\n",
    "df_lista = pd.DataFrame(lista_notas)\n",
    "df_lista"
   ]
  },
  {
   "cell_type": "markdown",
   "id": "c4de6e18",
   "metadata": {},
   "source": [
    "# Dataframe a partir de una lista de listas"
   ]
  },
  {
   "cell_type": "code",
   "execution_count": 19,
   "id": "6fe2407f",
   "metadata": {},
   "outputs": [
    {
     "data": {
      "text/html": [
       "<div>\n",
       "<style scoped>\n",
       "    .dataframe tbody tr th:only-of-type {\n",
       "        vertical-align: middle;\n",
       "    }\n",
       "\n",
       "    .dataframe tbody tr th {\n",
       "        vertical-align: top;\n",
       "    }\n",
       "\n",
       "    .dataframe thead th {\n",
       "        text-align: right;\n",
       "    }\n",
       "</style>\n",
       "<table border=\"1\" class=\"dataframe\">\n",
       "  <thead>\n",
       "    <tr style=\"text-align: right;\">\n",
       "      <th></th>\n",
       "      <th>0</th>\n",
       "      <th>1</th>\n",
       "      <th>2</th>\n",
       "    </tr>\n",
       "  </thead>\n",
       "  <tbody>\n",
       "    <tr>\n",
       "      <th>0</th>\n",
       "      <td>control</td>\n",
       "      <td>parcial</td>\n",
       "      <td>final</td>\n",
       "    </tr>\n",
       "    <tr>\n",
       "      <th>1</th>\n",
       "      <td>6</td>\n",
       "      <td>7.5</td>\n",
       "      <td>8</td>\n",
       "    </tr>\n",
       "  </tbody>\n",
       "</table>\n",
       "</div>"
      ],
      "text/plain": [
       "         0        1      2\n",
       "0  control  parcial  final\n",
       "1        6      7.5      8"
      ]
     },
     "execution_count": 19,
     "metadata": {},
     "output_type": "execute_result"
    }
   ],
   "source": [
    "# Definimos las dos listas:\n",
    "lista_examenes = ['control','parcial','final']\n",
    "lista_notas = [6,7.5,8]\n",
    "\n",
    "df_notas_examenes = pd.DataFrame([lista_examenes, lista_notas])\n",
    "df_notas_examenes\n"
   ]
  },
  {
   "cell_type": "code",
   "execution_count": 20,
   "id": "04413cd7",
   "metadata": {},
   "outputs": [
    {
     "data": {
      "text/html": [
       "<div>\n",
       "<style scoped>\n",
       "    .dataframe tbody tr th:only-of-type {\n",
       "        vertical-align: middle;\n",
       "    }\n",
       "\n",
       "    .dataframe tbody tr th {\n",
       "        vertical-align: top;\n",
       "    }\n",
       "\n",
       "    .dataframe thead th {\n",
       "        text-align: right;\n",
       "    }\n",
       "</style>\n",
       "<table border=\"1\" class=\"dataframe\">\n",
       "  <thead>\n",
       "    <tr style=\"text-align: right;\">\n",
       "      <th></th>\n",
       "      <th>0</th>\n",
       "      <th>1</th>\n",
       "    </tr>\n",
       "  </thead>\n",
       "  <tbody>\n",
       "    <tr>\n",
       "      <th>0</th>\n",
       "      <td>control</td>\n",
       "      <td>6</td>\n",
       "    </tr>\n",
       "    <tr>\n",
       "      <th>1</th>\n",
       "      <td>parcial</td>\n",
       "      <td>7.5</td>\n",
       "    </tr>\n",
       "    <tr>\n",
       "      <th>2</th>\n",
       "      <td>final</td>\n",
       "      <td>8</td>\n",
       "    </tr>\n",
       "  </tbody>\n",
       "</table>\n",
       "</div>"
      ],
      "text/plain": [
       "         0    1\n",
       "0  control    6\n",
       "1  parcial  7.5\n",
       "2    final    8"
      ]
     },
     "execution_count": 20,
     "metadata": {},
     "output_type": "execute_result"
    }
   ],
   "source": [
    "# Si queremos intercambiar filas por columnas hay que utilizar  -->  .T\n",
    "df_notas_examenes.T"
   ]
  }
 ],
 "metadata": {
  "kernelspec": {
   "display_name": "Python 3",
   "language": "python",
   "name": "python3"
  },
  "language_info": {
   "codemirror_mode": {
    "name": "ipython",
    "version": 3
   },
   "file_extension": ".py",
   "mimetype": "text/x-python",
   "name": "python",
   "nbconvert_exporter": "python",
   "pygments_lexer": "ipython3",
   "version": "3.13.5"
  }
 },
 "nbformat": 4,
 "nbformat_minor": 5
}
