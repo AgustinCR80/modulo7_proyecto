{
 "cells": [
  {
   "cell_type": "markdown",
   "id": "38b2676b",
   "metadata": {},
   "source": [
    "# Apertura de archivos"
   ]
  },
  {
   "cell_type": "code",
   "execution_count": 2,
   "id": "6e15d5d2",
   "metadata": {},
   "outputs": [],
   "source": [
    "import numpy as np\n",
    "import pandas as pd"
   ]
  },
  {
   "cell_type": "markdown",
   "id": "368500b7",
   "metadata": {},
   "source": [
    "# Abrir archivos de CSV y TXT\n",
    "\n",
    "# Sintaxis:\n",
    "\n",
    "- Ruta_al_fichero: Es la ruta del archivo CSV que deseas leer.\n",
    "\n",
    "- sep (opcional): Es el separador utilizado en el archivo CSV para separar los valores. Por defecto, es una coma (','), pero se pueden utilizar otro símbolos.\n",
    "\n",
    "- header (opcional): Indica la fila del archivo CSV que se utilizará como encabezado de columnas.\n",
    "\n",
    "- index_col (opcional): Especifica la columna (o columnas) que se utilizará como índice del DataFrame resultante.\n",
    "\n",
    "df_csv = pd.read_csv(ruta_al_fichero , \n",
    "                     sep = ',', \n",
    "                     header = 'infer', \n",
    "                     index_col = None)"
   ]
  },
  {
   "cell_type": "code",
   "execution_count": null,
   "id": "caacc7c9",
   "metadata": {},
   "outputs": [],
   "source": [
    "path = \"C:/Users/Agus_Ana_María_Raúl/Agustin/DAM/MASTER/MÓDULO_7_PYTHON_FOR_DATA/2_PANDA/ford_escort_csv.csv\"\n",
    "\n",
    "df_csv = pd.read_csv(path)\n",
    "df_csv\n"
   ]
  },
  {
   "cell_type": "markdown",
   "id": "52596fb9",
   "metadata": {},
   "source": [
    "# Abrir archivos de Excel\n",
    "\n",
    "# Sintaxis:\n",
    "\n",
    "- Ruta_al_fichero: Es el nombre del archivo o la ruta de Excel que deseas leer.\n",
    "\n",
    "- sheet_name (opcional): Indica la hoja o hojas del archivo Excel que deseas leer.\n",
    "\n",
    "- header (opcional): Indica la fila del archivo Excel que se utilizará como encabezado de columnas.\n",
    "\n",
    "- index_col (opcional): Especifica la columna (o columnas) que se utilizará como índice del DataFrame resultante.\n",
    "\n",
    "df_excel = pd.read_excel(ruta_al_fichero, \n",
    "                         sheet_name = 0, \n",
    "                         header = 0, \n",
    "                         index_col = None)"
   ]
  },
  {
   "cell_type": "code",
   "execution_count": null,
   "id": "acdaee13",
   "metadata": {},
   "outputs": [],
   "source": [
    "path = \"C:/Users/Agus_Ana_María_Raúl/Agustin/DAM/MASTER/MÓDULO_7_PYTHON_FOR_DATA/2_PANDA/2018_Sales_Total_Tabs_excel.xlsx\"    \n",
    "\n",
    "df_excel = pd.read_excel(path, sheet_name = 'Sheet2')\n",
    "df_excel"
   ]
  },
  {
   "cell_type": "markdown",
   "id": "c0941899",
   "metadata": {},
   "source": [
    "# Abrir archivos de JSON\n",
    "\n",
    "# Sintaxis:\n",
    "\n",
    "- Ruta_al_fichero: Es la ruta del archivo JSON que deseas leer.\n",
    "\n",
    "- orient (opcional): Especifica la orientación del archivo JSON. Puede tener los siguientes valores:\n",
    "\n",
    "    ○ columns (por defecto): Se espera que el archivo JSON tenga un formato de columna.\n",
    "\n",
    "    ○ index: Se espera que el archivo JSON tenga un formato de índice.\n",
    "\n",
    "    ○ records: Se espera que el archivo JSON tenga un formato de registros.\n",
    "\n",
    "    ○ split: Se espera que el archivo JSON tenga un formato dividido.\n",
    "\n",
    "    ○ values: Se espera que el archivo JSON contenga solo valores sin ninguna etiqueta de columna.\n",
    "\n",
    "- typ (opcional): Indica el tipo de objeto a crear. Puede tener los siguientes valores:\n",
    "\n",
    "    ○ frame (por defecto): Crea un o DataFrame.\n",
    "\n",
    "    ○ series: Crea una Serie de pandas.\n",
    "\n",
    "df_json = pd.read_json(ruta_al_fichero, \n",
    "                       orient = None, \n",
    "                       typ = 'frame')"
   ]
  },
  {
   "cell_type": "code",
   "execution_count": null,
   "id": "5422986c",
   "metadata": {},
   "outputs": [],
   "source": [
    "path = 'C:/Users/Agus_Ana_María_Raúl/Agustin/DAM/MASTER/MÓDULO_7_PYTHON_FOR_DATA/2_PANDA/json.json'\n",
    "\n",
    "df_json = pd.read_json(path)\n",
    "df_json\n"
   ]
  },
  {
   "cell_type": "code",
   "execution_count": null,
   "id": "790fc9c8",
   "metadata": {},
   "outputs": [],
   "source": [
    "# Asignar la primera columna como índice\n",
    "path = 'C:/Users/Agus_Ana_María_Raúl/Agustin/DAM/MASTER/MÓDULO_7_PYTHON_FOR_DATA/2_PANDA/json.json'\n",
    "\n",
    "df_json = pd.read_json(path)\n",
    "df_json = df_json.set_index(df_json.columns[0])  # Para asignar la primera columna como índice\n",
    "df_json"
   ]
  },
  {
   "cell_type": "markdown",
   "id": "1a38b108",
   "metadata": {},
   "source": [
    "# Guardar archivos"
   ]
  },
  {
   "cell_type": "code",
   "execution_count": null,
   "id": "c60e9a76",
   "metadata": {},
   "outputs": [],
   "source": [
    "df_csv.to_csv('df_csv.csv', index = True)"
   ]
  },
  {
   "cell_type": "code",
   "execution_count": null,
   "id": "48a59bf7",
   "metadata": {},
   "outputs": [],
   "source": [
    "df_excel.to_excel('df_excel.excel', index = True)"
   ]
  },
  {
   "cell_type": "code",
   "execution_count": null,
   "id": "2508c393",
   "metadata": {},
   "outputs": [],
   "source": [
    "df_json.to_json('df_json.json', index = True)"
   ]
  }
 ],
 "metadata": {
  "kernelspec": {
   "display_name": "Python 3",
   "language": "python",
   "name": "python3"
  },
  "language_info": {
   "codemirror_mode": {
    "name": "ipython",
    "version": 3
   },
   "file_extension": ".py",
   "mimetype": "text/x-python",
   "name": "python",
   "nbconvert_exporter": "python",
   "pygments_lexer": "ipython3",
   "version": "3.13.5"
  }
 },
 "nbformat": 4,
 "nbformat_minor": 5
}
