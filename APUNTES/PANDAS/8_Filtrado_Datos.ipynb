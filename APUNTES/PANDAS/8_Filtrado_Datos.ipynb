{
 "cells": [
  {
   "cell_type": "markdown",
   "id": "20ca7eb5",
   "metadata": {},
   "source": [
    "# Filtrado de datos"
   ]
  },
  {
   "cell_type": "code",
   "execution_count": 1,
   "id": "64f2ea90",
   "metadata": {},
   "outputs": [],
   "source": [
    "# Importamos las librerias y el archivo csv:\n",
    "import numpy as np\n",
    "import pandas as pd\n",
    "pd.set_option('display.max_columns', None)  # Para que aparezcan todas las columnas"
   ]
  },
  {
   "cell_type": "code",
   "execution_count": 2,
   "id": "26d539f4",
   "metadata": {},
   "outputs": [],
   "source": [
    "path = 'C:/Users/Agus_Ana_María_Raúl/Agustin/DAM/MASTER/MÓDULO_7_PYTHON_FOR_DATA/2_PANDA/DatosPandasUniversidades.csv'\n",
    "df_universidades = pd.read_csv(path, index_col = 2)"
   ]
  },
  {
   "cell_type": "markdown",
   "id": "2b93e97e",
   "metadata": {},
   "source": [
    "# Seleccionar únicamente las universidades que estén en 'United States'"
   ]
  },
  {
   "cell_type": "code",
   "execution_count": null,
   "id": "ff120051",
   "metadata": {},
   "outputs": [],
   "source": [
    "# Obtenemos información de todos los registros que tengan la siguiente condición:\n",
    "condicion_USA = df_universidades['country'] == 'United States'\n",
    "\n",
    "universidades_USA = df_universidades[condicion_USA]\n",
    "universidades_USA"
   ]
  },
  {
   "cell_type": "markdown",
   "id": "c070de18",
   "metadata": {},
   "source": [
    "# Obtener las universidades con más de un 90 de puntuación total \"overall_score\""
   ]
  },
  {
   "cell_type": "code",
   "execution_count": null,
   "id": "a62260ae",
   "metadata": {},
   "outputs": [],
   "source": [
    "# Creamos la condición:\n",
    "condicion_90 = df_universidades[\"overall_score\"] > 90\n",
    "\n",
    "universidades_90 = df_universidades[condicion_90]\n",
    "universidades_90"
   ]
  },
  {
   "cell_type": "markdown",
   "id": "bbcc68f7",
   "metadata": {},
   "source": [
    "# Combinar las dos condiciones anteriores con &, que se cumplan las dos condiciones"
   ]
  },
  {
   "cell_type": "code",
   "execution_count": null,
   "id": "01a588a7",
   "metadata": {},
   "outputs": [],
   "source": [
    "condicion_USA = df_universidades['country'] == 'United States'\n",
    "condicion_90 = df_universidades[\"overall_score\"] > 90\n",
    "\n",
    "universidades_USA_90 = df_universidades[condicion_USA & condicion_90]\n",
    "universidades_USA_90"
   ]
  },
  {
   "cell_type": "markdown",
   "id": "1432337b",
   "metadata": {},
   "source": [
    "# Combinar las dos condiciones anteriores con |, que se cumpla al menos una condición"
   ]
  },
  {
   "cell_type": "code",
   "execution_count": null,
   "id": "628e516f",
   "metadata": {},
   "outputs": [],
   "source": [
    "condicion_USA = df_universidades['country'] == 'United States'\n",
    "condicion_90 = df_universidades[\"overall_score\"] > 90\n",
    "\n",
    "universidades_USA_90 = df_universidades[condicion_USA | condicion_90]\n",
    "universidades_USA_90"
   ]
  },
  {
   "cell_type": "markdown",
   "id": "47987fd0",
   "metadata": {},
   "source": [
    "# Métodos"
   ]
  },
  {
   "cell_type": "markdown",
   "id": "a8c68ecc",
   "metadata": {},
   "source": [
    "# isin()"
   ]
  },
  {
   "cell_type": "code",
   "execution_count": null,
   "id": "0b429e2b",
   "metadata": {},
   "outputs": [],
   "source": [
    "# Se utiliza para filtrar filas en base a una lista de valores.\n",
    "\n",
    "# Obtener las universidades en China y en Singapur.\n",
    "\n",
    "paises = ['China', 'Singapore']\n",
    "\n",
    "china_singapore = df_universidades[df_universidades['country'].isin(paises)]\n",
    "china_singapore\n",
    "\n"
   ]
  },
  {
   "cell_type": "markdown",
   "id": "cdea622c",
   "metadata": {},
   "source": [
    "# between()"
   ]
  },
  {
   "cell_type": "code",
   "execution_count": null,
   "id": "3f4434a3",
   "metadata": {},
   "outputs": [],
   "source": [
    "# Se utiliza para filtrar filas en un DataFrame basándonos en un rango numérico o de fechas.\n",
    "\n",
    "# Sintaxis:\n",
    "\n",
    "# df[columna].between(inicio, fin, inclusive = both)\n",
    "\n",
    "'''Donde:\n",
    "\n",
    "- df: Nombre del DataFrame que vamos a utilizar.\n",
    "- columna: Columna específica donde vamos a filtrar.\n",
    "- inicio y fin: Indica el intervalo de valores que queremos filtrar.\n",
    "- inclusive (opcional): Delimita si los valores del rango están incluidos o no.\n",
    "    - left: Incluye sólo el inicio.\n",
    "    - right: Incluye sólo el final.\n",
    "    - both: Incluye ambos.\n",
    "    - neither: No incluye ninguno.'''"
   ]
  },
  {
   "cell_type": "code",
   "execution_count": null,
   "id": "1a3dfa85",
   "metadata": {},
   "outputs": [],
   "source": [
    "# Seleccionar todas las universidades que tenga una reputación del empleado entre un 99 y un 100 incluyendo este último\n",
    "\n",
    "uni_90_100 = df_universidades[df_universidades['employer_reputation'].between(99, 100, inclusive = 'right')]\n",
    "uni_90_100"
   ]
  },
  {
   "cell_type": "markdown",
   "id": "3b98c509",
   "metadata": {},
   "source": [
    "# str.contains()"
   ]
  },
  {
   "cell_type": "code",
   "execution_count": null,
   "id": "1ffff242",
   "metadata": {},
   "outputs": [],
   "source": [
    "# Se utiliza para verificar si un patrón de texto específico está presente en un objeto de tipo string.\n",
    "\n",
    "# Sintaxis:\n",
    "\n",
    "# df[columna].str.contains(pat, case = True, na = nan, regex = True)\n",
    "\n",
    "'''\n",
    "Donde:\n",
    "\n",
    "- df: Nombre del DataFrame que vamos a utilizar.\n",
    "- columna: Columna específica donde vamos a filtrar.\n",
    "- pat: Patrón de texto a buscar.\n",
    "- case (opcional): Especifica si se debe hacer una búsqueda sensible a mayúsculas y minúsculas\n",
    "- na (opcional): Habrá que usarlo si nuestra columna tiene nulos.\n",
    "    - True: Si nuestra columna tiene nulos y queremos que los incluya en el resultado.\n",
    "    - False: Si no queremos que los incluya\n",
    "- regex (opcional): Indica si el patrón ha de tratarse como una expresión regular\n",
    "'''"
   ]
  },
  {
   "cell_type": "code",
   "execution_count": null,
   "id": "ba0d254f",
   "metadata": {},
   "outputs": [],
   "source": [
    "# Buscar los países que contienen la palabra 'United' pero sin incluir los valores nulos\n",
    "\n",
    "# 1º Buscamos en que columna hay valores nulos:\n",
    "df_universidades.isnull().sum()  # Valores nulos solamente en la columna 'country'"
   ]
  },
  {
   "cell_type": "code",
   "execution_count": null,
   "id": "264af37c",
   "metadata": {},
   "outputs": [],
   "source": [
    "universidades_united = df_universidades[df_universidades['country'].str.contains('United', case = True, na = False)]\n",
    "universidades_united.head()"
   ]
  },
  {
   "cell_type": "markdown",
   "id": "8e594378",
   "metadata": {},
   "source": [
    "# filter()"
   ]
  },
  {
   "cell_type": "code",
   "execution_count": null,
   "id": "2e502b75",
   "metadata": {},
   "outputs": [],
   "source": [
    "# Se utiliza para filtrar los datos según un patrón de texto de las etiquetas de las filas o las columnas.\n",
    "\n",
    "# Sintaxis:\n",
    "\n",
    "# df.filter(items = None, like = None, regex = None,axis = None)\n",
    "\n",
    "'''\n",
    "Donde:\n",
    "\n",
    "- df: Nombre del DataFrame que vamos a utilizar.\n",
    "- items (opcional): Lista con las etiquetas que queremos filtrar.\n",
    "- like (opcional): Patrón de texto que debe tener la etiqueta a filtrar.\n",
    "- regex (opcional): La etiqueta debe tener la expresión regular especificada.\n",
    "- axis: 0 para ver las filas que cumplen la condición. 1 para ver las columnas.\n",
    "'''"
   ]
  },
  {
   "cell_type": "code",
   "execution_count": null,
   "id": "c14dcccc",
   "metadata": {},
   "outputs": [],
   "source": [
    "# Seleccionar las columnas ratio de estudiantes internacionales y reputación académica\n",
    "\n",
    "df_universidades.filter(['academic_reputation', 'international_students_ratio'])"
   ]
  },
  {
   "cell_type": "code",
   "execution_count": null,
   "id": "8e495578",
   "metadata": {},
   "outputs": [],
   "source": [
    "# Seleccionar las filas que contengan la palabra 'University'\n",
    "\n",
    "df_universidades.filter(like = 'University', axis = 0)"
   ]
  },
  {
   "cell_type": "markdown",
   "id": "06c787ca",
   "metadata": {},
   "source": [
    "# No confundir con el str.contains(). El método filter() busca patrones en las ETIQUETAS de las filas y columnas, mientras que str.contains() busca patrones en los DATOS de nuestro DataFrame. Usaremos un método u otro en función de si queremos filtrar por filas y columnas o por los propios datos"
   ]
  }
 ],
 "metadata": {
  "kernelspec": {
   "display_name": "Python 3",
   "language": "python",
   "name": "python3"
  },
  "language_info": {
   "codemirror_mode": {
    "name": "ipython",
    "version": 3
   },
   "file_extension": ".py",
   "mimetype": "text/x-python",
   "name": "python",
   "nbconvert_exporter": "python",
   "pygments_lexer": "ipython3",
   "version": "3.13.5"
  }
 },
 "nbformat": 4,
 "nbformat_minor": 5
}
