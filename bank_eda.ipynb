{
 "cells": [
  {
   "cell_type": "markdown",
   "id": "89691578",
   "metadata": {},
   "source": [
    "# EDA_BANK"
   ]
  },
  {
   "cell_type": "markdown",
   "id": "e068516a",
   "metadata": {},
   "source": [
    "# Importar librerías y archivos"
   ]
  },
  {
   "cell_type": "code",
   "execution_count": 1,
   "id": "bb8edb0d",
   "metadata": {},
   "outputs": [],
   "source": [
    "# Importamos las librerias y los archivos:\n",
    "import numpy as np\n",
    "import pandas as pd\n",
    "pd.set_option('display.max_columns', None)  # Para que aparezcan todas las columnas\n",
    "\n",
    "# Importar librerías para gráficos\n",
    "import matplotlib.pyplot as plt\n",
    "import seaborn as sns\n",
    "\n",
    "path_csv_modificado = 'C:/Users/Agus_Ana_María_Raúl/Agustin/DAM/MASTER/MÓDULO_7_PYTHON_FOR_DATA/3_PROYECTO EDA/bank_concat.csv'\n",
    "bank = pd.read_csv(path_csv_modificado, index_col = 0, dtype={'year_customer': 'object'}) \n",
    "# Aseguramos que la columna 'year_customer' sea de tipo 'object'"
   ]
  },
  {
   "cell_type": "code",
   "execution_count": 2,
   "id": "e968396e",
   "metadata": {},
   "outputs": [
    {
     "data": {
      "text/html": [
       "<div>\n",
       "<style scoped>\n",
       "    .dataframe tbody tr th:only-of-type {\n",
       "        vertical-align: middle;\n",
       "    }\n",
       "\n",
       "    .dataframe tbody tr th {\n",
       "        vertical-align: top;\n",
       "    }\n",
       "\n",
       "    .dataframe thead th {\n",
       "        text-align: right;\n",
       "    }\n",
       "</style>\n",
       "<table border=\"1\" class=\"dataframe\">\n",
       "  <thead>\n",
       "    <tr style=\"text-align: right;\">\n",
       "      <th></th>\n",
       "      <th>index</th>\n",
       "      <th>ID</th>\n",
       "      <th>age</th>\n",
       "      <th>job</th>\n",
       "      <th>marital</th>\n",
       "      <th>education</th>\n",
       "      <th>default</th>\n",
       "      <th>housing</th>\n",
       "      <th>loan</th>\n",
       "      <th>duration</th>\n",
       "      <th>campaign</th>\n",
       "      <th>previous</th>\n",
       "      <th>poutcome</th>\n",
       "      <th>emp.var.rate</th>\n",
       "      <th>cons.price.idx</th>\n",
       "      <th>cons.conf.idx</th>\n",
       "      <th>euribor3m</th>\n",
       "      <th>nr.employed</th>\n",
       "      <th>y</th>\n",
       "      <th>date</th>\n",
       "      <th>Income</th>\n",
       "      <th>total_children</th>\n",
       "      <th>year_customer</th>\n",
       "      <th>NumWebVisitsMonth</th>\n",
       "    </tr>\n",
       "  </thead>\n",
       "  <tbody>\n",
       "    <tr>\n",
       "      <th>0</th>\n",
       "      <td>0</td>\n",
       "      <td>089B39D8E4D0461B87D4814D71E0E079</td>\n",
       "      <td>NaN</td>\n",
       "      <td>housemaid</td>\n",
       "      <td>MARRIED</td>\n",
       "      <td>basic.4y</td>\n",
       "      <td>no</td>\n",
       "      <td>no</td>\n",
       "      <td>no</td>\n",
       "      <td>261</td>\n",
       "      <td>1</td>\n",
       "      <td>0</td>\n",
       "      <td>NONEXISTENT</td>\n",
       "      <td>1.1</td>\n",
       "      <td>93.994</td>\n",
       "      <td>-36.4</td>\n",
       "      <td>4.857</td>\n",
       "      <td>5191.0</td>\n",
       "      <td>no</td>\n",
       "      <td>2-agosto-2019</td>\n",
       "      <td>161770</td>\n",
       "      <td>1</td>\n",
       "      <td>2012</td>\n",
       "      <td>29</td>\n",
       "    </tr>\n",
       "    <tr>\n",
       "      <th>1</th>\n",
       "      <td>1</td>\n",
       "      <td>E9D37224CB6F494298D746672963D097</td>\n",
       "      <td>57.0</td>\n",
       "      <td>services</td>\n",
       "      <td>MARRIED</td>\n",
       "      <td>high.school</td>\n",
       "      <td>NaN</td>\n",
       "      <td>no</td>\n",
       "      <td>no</td>\n",
       "      <td>149</td>\n",
       "      <td>1</td>\n",
       "      <td>0</td>\n",
       "      <td>NONEXISTENT</td>\n",
       "      <td>1.1</td>\n",
       "      <td>93.994</td>\n",
       "      <td>-36.4</td>\n",
       "      <td>NaN</td>\n",
       "      <td>5191.0</td>\n",
       "      <td>no</td>\n",
       "      <td>14-septiembre-2016</td>\n",
       "      <td>85477</td>\n",
       "      <td>2</td>\n",
       "      <td>2012</td>\n",
       "      <td>7</td>\n",
       "    </tr>\n",
       "    <tr>\n",
       "      <th>2</th>\n",
       "      <td>2</td>\n",
       "      <td>3F9F49B5E4104948BF6EF9244F04918B</td>\n",
       "      <td>37.0</td>\n",
       "      <td>services</td>\n",
       "      <td>MARRIED</td>\n",
       "      <td>high.school</td>\n",
       "      <td>no</td>\n",
       "      <td>yes</td>\n",
       "      <td>no</td>\n",
       "      <td>226</td>\n",
       "      <td>1</td>\n",
       "      <td>0</td>\n",
       "      <td>NONEXISTENT</td>\n",
       "      <td>1.1</td>\n",
       "      <td>93.994</td>\n",
       "      <td>-36.4</td>\n",
       "      <td>4.857</td>\n",
       "      <td>5191.0</td>\n",
       "      <td>no</td>\n",
       "      <td>15-febrero-2019</td>\n",
       "      <td>147233</td>\n",
       "      <td>2</td>\n",
       "      <td>2012</td>\n",
       "      <td>5</td>\n",
       "    </tr>\n",
       "    <tr>\n",
       "      <th>3</th>\n",
       "      <td>3</td>\n",
       "      <td>9991FAFB4447451A8BE2B0DF6098D13E</td>\n",
       "      <td>40.0</td>\n",
       "      <td>admin.</td>\n",
       "      <td>MARRIED</td>\n",
       "      <td>basic.6y</td>\n",
       "      <td>no</td>\n",
       "      <td>no</td>\n",
       "      <td>no</td>\n",
       "      <td>151</td>\n",
       "      <td>1</td>\n",
       "      <td>0</td>\n",
       "      <td>NONEXISTENT</td>\n",
       "      <td>1.1</td>\n",
       "      <td>93.994</td>\n",
       "      <td>-36.4</td>\n",
       "      <td>NaN</td>\n",
       "      <td>5191.0</td>\n",
       "      <td>no</td>\n",
       "      <td>29-noviembre-2015</td>\n",
       "      <td>121393</td>\n",
       "      <td>3</td>\n",
       "      <td>2012</td>\n",
       "      <td>29</td>\n",
       "    </tr>\n",
       "    <tr>\n",
       "      <th>4</th>\n",
       "      <td>4</td>\n",
       "      <td>ECA60B7670B6407780BABC52E8EBB0EB</td>\n",
       "      <td>56.0</td>\n",
       "      <td>services</td>\n",
       "      <td>MARRIED</td>\n",
       "      <td>high.school</td>\n",
       "      <td>no</td>\n",
       "      <td>no</td>\n",
       "      <td>yes</td>\n",
       "      <td>307</td>\n",
       "      <td>1</td>\n",
       "      <td>0</td>\n",
       "      <td>NONEXISTENT</td>\n",
       "      <td>1.1</td>\n",
       "      <td>93.994</td>\n",
       "      <td>-36.4</td>\n",
       "      <td>NaN</td>\n",
       "      <td>5191.0</td>\n",
       "      <td>no</td>\n",
       "      <td>29-enero-2017</td>\n",
       "      <td>63164</td>\n",
       "      <td>3</td>\n",
       "      <td>2012</td>\n",
       "      <td>20</td>\n",
       "    </tr>\n",
       "  </tbody>\n",
       "</table>\n",
       "</div>"
      ],
      "text/plain": [
       "   index                                ID   age        job  marital  \\\n",
       "0      0  089B39D8E4D0461B87D4814D71E0E079   NaN  housemaid  MARRIED   \n",
       "1      1  E9D37224CB6F494298D746672963D097  57.0   services  MARRIED   \n",
       "2      2  3F9F49B5E4104948BF6EF9244F04918B  37.0   services  MARRIED   \n",
       "3      3  9991FAFB4447451A8BE2B0DF6098D13E  40.0     admin.  MARRIED   \n",
       "4      4  ECA60B7670B6407780BABC52E8EBB0EB  56.0   services  MARRIED   \n",
       "\n",
       "     education default housing loan  duration  campaign  previous  \\\n",
       "0     basic.4y      no      no   no       261         1         0   \n",
       "1  high.school     NaN      no   no       149         1         0   \n",
       "2  high.school      no     yes   no       226         1         0   \n",
       "3     basic.6y      no      no   no       151         1         0   \n",
       "4  high.school      no      no  yes       307         1         0   \n",
       "\n",
       "      poutcome  emp.var.rate  cons.price.idx  cons.conf.idx  euribor3m  \\\n",
       "0  NONEXISTENT           1.1          93.994          -36.4      4.857   \n",
       "1  NONEXISTENT           1.1          93.994          -36.4        NaN   \n",
       "2  NONEXISTENT           1.1          93.994          -36.4      4.857   \n",
       "3  NONEXISTENT           1.1          93.994          -36.4        NaN   \n",
       "4  NONEXISTENT           1.1          93.994          -36.4        NaN   \n",
       "\n",
       "   nr.employed   y                date  Income  total_children year_customer  \\\n",
       "0       5191.0  no       2-agosto-2019  161770               1          2012   \n",
       "1       5191.0  no  14-septiembre-2016   85477               2          2012   \n",
       "2       5191.0  no     15-febrero-2019  147233               2          2012   \n",
       "3       5191.0  no   29-noviembre-2015  121393               3          2012   \n",
       "4       5191.0  no       29-enero-2017   63164               3          2012   \n",
       "\n",
       "   NumWebVisitsMonth  \n",
       "0                 29  \n",
       "1                  7  \n",
       "2                  5  \n",
       "3                 29  \n",
       "4                 20  "
      ]
     },
     "execution_count": 2,
     "metadata": {},
     "output_type": "execute_result"
    }
   ],
   "source": [
    "bank.head()"
   ]
  },
  {
   "cell_type": "markdown",
   "id": "8ef0a8db",
   "metadata": {},
   "source": [
    "# Información rápida de los datos numéricos"
   ]
  },
  {
   "cell_type": "code",
   "execution_count": 3,
   "id": "4edef7b0",
   "metadata": {},
   "outputs": [
    {
     "data": {
      "text/html": [
       "<div>\n",
       "<style scoped>\n",
       "    .dataframe tbody tr th:only-of-type {\n",
       "        vertical-align: middle;\n",
       "    }\n",
       "\n",
       "    .dataframe tbody tr th {\n",
       "        vertical-align: top;\n",
       "    }\n",
       "\n",
       "    .dataframe thead th {\n",
       "        text-align: right;\n",
       "    }\n",
       "</style>\n",
       "<table border=\"1\" class=\"dataframe\">\n",
       "  <thead>\n",
       "    <tr style=\"text-align: right;\">\n",
       "      <th></th>\n",
       "      <th>count</th>\n",
       "      <th>mean</th>\n",
       "      <th>std</th>\n",
       "      <th>min</th>\n",
       "      <th>25%</th>\n",
       "      <th>50%</th>\n",
       "      <th>75%</th>\n",
       "      <th>max</th>\n",
       "    </tr>\n",
       "  </thead>\n",
       "  <tbody>\n",
       "    <tr>\n",
       "      <th>index</th>\n",
       "      <td>43000.0</td>\n",
       "      <td>21499.500000</td>\n",
       "      <td>12413.175124</td>\n",
       "      <td>0.000</td>\n",
       "      <td>10749.750</td>\n",
       "      <td>21499.500</td>\n",
       "      <td>32249.250</td>\n",
       "      <td>42999.000</td>\n",
       "    </tr>\n",
       "    <tr>\n",
       "      <th>age</th>\n",
       "      <td>37880.0</td>\n",
       "      <td>39.977112</td>\n",
       "      <td>10.437957</td>\n",
       "      <td>17.000</td>\n",
       "      <td>32.000</td>\n",
       "      <td>38.000</td>\n",
       "      <td>47.000</td>\n",
       "      <td>98.000</td>\n",
       "    </tr>\n",
       "    <tr>\n",
       "      <th>duration</th>\n",
       "      <td>43000.0</td>\n",
       "      <td>257.739279</td>\n",
       "      <td>258.666033</td>\n",
       "      <td>0.000</td>\n",
       "      <td>102.000</td>\n",
       "      <td>179.000</td>\n",
       "      <td>319.000</td>\n",
       "      <td>4918.000</td>\n",
       "    </tr>\n",
       "    <tr>\n",
       "      <th>campaign</th>\n",
       "      <td>43000.0</td>\n",
       "      <td>2.567233</td>\n",
       "      <td>2.772294</td>\n",
       "      <td>1.000</td>\n",
       "      <td>1.000</td>\n",
       "      <td>2.000</td>\n",
       "      <td>3.000</td>\n",
       "      <td>56.000</td>\n",
       "    </tr>\n",
       "    <tr>\n",
       "      <th>previous</th>\n",
       "      <td>43000.0</td>\n",
       "      <td>0.174023</td>\n",
       "      <td>0.497366</td>\n",
       "      <td>0.000</td>\n",
       "      <td>0.000</td>\n",
       "      <td>0.000</td>\n",
       "      <td>0.000</td>\n",
       "      <td>7.000</td>\n",
       "    </tr>\n",
       "    <tr>\n",
       "      <th>emp.var.rate</th>\n",
       "      <td>43000.0</td>\n",
       "      <td>0.077128</td>\n",
       "      <td>1.573898</td>\n",
       "      <td>-3.400</td>\n",
       "      <td>-1.800</td>\n",
       "      <td>1.100</td>\n",
       "      <td>1.400</td>\n",
       "      <td>1.400</td>\n",
       "    </tr>\n",
       "    <tr>\n",
       "      <th>cons.price.idx</th>\n",
       "      <td>42529.0</td>\n",
       "      <td>93.574219</td>\n",
       "      <td>0.579548</td>\n",
       "      <td>92.201</td>\n",
       "      <td>93.075</td>\n",
       "      <td>93.749</td>\n",
       "      <td>93.994</td>\n",
       "      <td>94.767</td>\n",
       "    </tr>\n",
       "    <tr>\n",
       "      <th>cons.conf.idx</th>\n",
       "      <td>43000.0</td>\n",
       "      <td>-40.509049</td>\n",
       "      <td>4.637186</td>\n",
       "      <td>-50.800</td>\n",
       "      <td>-42.700</td>\n",
       "      <td>-41.800</td>\n",
       "      <td>-36.400</td>\n",
       "      <td>-26.900</td>\n",
       "    </tr>\n",
       "    <tr>\n",
       "      <th>euribor3m</th>\n",
       "      <td>33744.0</td>\n",
       "      <td>3.616521</td>\n",
       "      <td>1.737117</td>\n",
       "      <td>0.634</td>\n",
       "      <td>1.344</td>\n",
       "      <td>4.857</td>\n",
       "      <td>4.961</td>\n",
       "      <td>5.045</td>\n",
       "    </tr>\n",
       "    <tr>\n",
       "      <th>nr.employed</th>\n",
       "      <td>43000.0</td>\n",
       "      <td>5166.852602</td>\n",
       "      <td>72.411125</td>\n",
       "      <td>4963.600</td>\n",
       "      <td>5099.100</td>\n",
       "      <td>5191.000</td>\n",
       "      <td>5228.100</td>\n",
       "      <td>5228.100</td>\n",
       "    </tr>\n",
       "    <tr>\n",
       "      <th>Income</th>\n",
       "      <td>43000.0</td>\n",
       "      <td>93241.200070</td>\n",
       "      <td>50498.316182</td>\n",
       "      <td>5841.000</td>\n",
       "      <td>49610.000</td>\n",
       "      <td>93050.500</td>\n",
       "      <td>136744.500</td>\n",
       "      <td>180802.000</td>\n",
       "    </tr>\n",
       "    <tr>\n",
       "      <th>total_children</th>\n",
       "      <td>43000.0</td>\n",
       "      <td>2.003395</td>\n",
       "      <td>1.153144</td>\n",
       "      <td>0.000</td>\n",
       "      <td>1.000</td>\n",
       "      <td>2.000</td>\n",
       "      <td>3.000</td>\n",
       "      <td>4.000</td>\n",
       "    </tr>\n",
       "    <tr>\n",
       "      <th>NumWebVisitsMonth</th>\n",
       "      <td>43000.0</td>\n",
       "      <td>16.589698</td>\n",
       "      <td>9.239205</td>\n",
       "      <td>1.000</td>\n",
       "      <td>9.000</td>\n",
       "      <td>17.000</td>\n",
       "      <td>25.000</td>\n",
       "      <td>32.000</td>\n",
       "    </tr>\n",
       "  </tbody>\n",
       "</table>\n",
       "</div>"
      ],
      "text/plain": [
       "                     count          mean           std       min        25%  \\\n",
       "index              43000.0  21499.500000  12413.175124     0.000  10749.750   \n",
       "age                37880.0     39.977112     10.437957    17.000     32.000   \n",
       "duration           43000.0    257.739279    258.666033     0.000    102.000   \n",
       "campaign           43000.0      2.567233      2.772294     1.000      1.000   \n",
       "previous           43000.0      0.174023      0.497366     0.000      0.000   \n",
       "emp.var.rate       43000.0      0.077128      1.573898    -3.400     -1.800   \n",
       "cons.price.idx     42529.0     93.574219      0.579548    92.201     93.075   \n",
       "cons.conf.idx      43000.0    -40.509049      4.637186   -50.800    -42.700   \n",
       "euribor3m          33744.0      3.616521      1.737117     0.634      1.344   \n",
       "nr.employed        43000.0   5166.852602     72.411125  4963.600   5099.100   \n",
       "Income             43000.0  93241.200070  50498.316182  5841.000  49610.000   \n",
       "total_children     43000.0      2.003395      1.153144     0.000      1.000   \n",
       "NumWebVisitsMonth  43000.0     16.589698      9.239205     1.000      9.000   \n",
       "\n",
       "                         50%         75%         max  \n",
       "index              21499.500   32249.250   42999.000  \n",
       "age                   38.000      47.000      98.000  \n",
       "duration             179.000     319.000    4918.000  \n",
       "campaign               2.000       3.000      56.000  \n",
       "previous               0.000       0.000       7.000  \n",
       "emp.var.rate           1.100       1.400       1.400  \n",
       "cons.price.idx        93.749      93.994      94.767  \n",
       "cons.conf.idx        -41.800     -36.400     -26.900  \n",
       "euribor3m              4.857       4.961       5.045  \n",
       "nr.employed         5191.000    5228.100    5228.100  \n",
       "Income             93050.500  136744.500  180802.000  \n",
       "total_children         2.000       3.000       4.000  \n",
       "NumWebVisitsMonth     17.000      25.000      32.000  "
      ]
     },
     "execution_count": 3,
     "metadata": {},
     "output_type": "execute_result"
    }
   ],
   "source": [
    "bank.describe().T"
   ]
  },
  {
   "cell_type": "markdown",
   "id": "119928b1",
   "metadata": {},
   "source": [
    "# Información rápida de los datos categóricos"
   ]
  },
  {
   "cell_type": "code",
   "execution_count": 4,
   "id": "e28a9a0b",
   "metadata": {},
   "outputs": [
    {
     "data": {
      "text/html": [
       "<div>\n",
       "<style scoped>\n",
       "    .dataframe tbody tr th:only-of-type {\n",
       "        vertical-align: middle;\n",
       "    }\n",
       "\n",
       "    .dataframe tbody tr th {\n",
       "        vertical-align: top;\n",
       "    }\n",
       "\n",
       "    .dataframe thead th {\n",
       "        text-align: right;\n",
       "    }\n",
       "</style>\n",
       "<table border=\"1\" class=\"dataframe\">\n",
       "  <thead>\n",
       "    <tr style=\"text-align: right;\">\n",
       "      <th></th>\n",
       "      <th>count</th>\n",
       "      <th>unique</th>\n",
       "      <th>top</th>\n",
       "      <th>freq</th>\n",
       "    </tr>\n",
       "  </thead>\n",
       "  <tbody>\n",
       "    <tr>\n",
       "      <th>ID</th>\n",
       "      <td>43000</td>\n",
       "      <td>43000</td>\n",
       "      <td>089B39D8E4D0461B87D4814D71E0E079</td>\n",
       "      <td>1</td>\n",
       "    </tr>\n",
       "    <tr>\n",
       "      <th>job</th>\n",
       "      <td>42655</td>\n",
       "      <td>11</td>\n",
       "      <td>admin.</td>\n",
       "      <td>10873</td>\n",
       "    </tr>\n",
       "    <tr>\n",
       "      <th>marital</th>\n",
       "      <td>42915</td>\n",
       "      <td>3</td>\n",
       "      <td>MARRIED</td>\n",
       "      <td>25999</td>\n",
       "    </tr>\n",
       "    <tr>\n",
       "      <th>education</th>\n",
       "      <td>41193</td>\n",
       "      <td>7</td>\n",
       "      <td>university.degree</td>\n",
       "      <td>12722</td>\n",
       "    </tr>\n",
       "    <tr>\n",
       "      <th>default</th>\n",
       "      <td>34019</td>\n",
       "      <td>2</td>\n",
       "      <td>no</td>\n",
       "      <td>34016</td>\n",
       "    </tr>\n",
       "    <tr>\n",
       "      <th>housing</th>\n",
       "      <td>41974</td>\n",
       "      <td>2</td>\n",
       "      <td>yes</td>\n",
       "      <td>22498</td>\n",
       "    </tr>\n",
       "    <tr>\n",
       "      <th>loan</th>\n",
       "      <td>41974</td>\n",
       "      <td>2</td>\n",
       "      <td>no</td>\n",
       "      <td>35442</td>\n",
       "    </tr>\n",
       "    <tr>\n",
       "      <th>poutcome</th>\n",
       "      <td>43000</td>\n",
       "      <td>3</td>\n",
       "      <td>NONEXISTENT</td>\n",
       "      <td>37103</td>\n",
       "    </tr>\n",
       "    <tr>\n",
       "      <th>y</th>\n",
       "      <td>43000</td>\n",
       "      <td>2</td>\n",
       "      <td>no</td>\n",
       "      <td>38156</td>\n",
       "    </tr>\n",
       "    <tr>\n",
       "      <th>date</th>\n",
       "      <td>42752</td>\n",
       "      <td>1825</td>\n",
       "      <td>28-febrero-2018</td>\n",
       "      <td>95</td>\n",
       "    </tr>\n",
       "    <tr>\n",
       "      <th>year_customer</th>\n",
       "      <td>43000</td>\n",
       "      <td>3</td>\n",
       "      <td>2012</td>\n",
       "      <td>20018</td>\n",
       "    </tr>\n",
       "  </tbody>\n",
       "</table>\n",
       "</div>"
      ],
      "text/plain": [
       "               count unique                               top   freq\n",
       "ID             43000  43000  089B39D8E4D0461B87D4814D71E0E079      1\n",
       "job            42655     11                            admin.  10873\n",
       "marital        42915      3                           MARRIED  25999\n",
       "education      41193      7                 university.degree  12722\n",
       "default        34019      2                                no  34016\n",
       "housing        41974      2                               yes  22498\n",
       "loan           41974      2                                no  35442\n",
       "poutcome       43000      3                       NONEXISTENT  37103\n",
       "y              43000      2                                no  38156\n",
       "date           42752   1825                   28-febrero-2018     95\n",
       "year_customer  43000      3                              2012  20018"
      ]
     },
     "execution_count": 4,
     "metadata": {},
     "output_type": "execute_result"
    }
   ],
   "source": [
    "bank.describe(include='object').T"
   ]
  },
  {
   "cell_type": "code",
   "execution_count": 5,
   "id": "5579a46c",
   "metadata": {},
   "outputs": [
    {
     "name": "stdout",
     "output_type": "stream",
     "text": [
      "<class 'pandas.core.frame.DataFrame'>\n",
      "Index: 43000 entries, 0 to 42999\n",
      "Data columns (total 24 columns):\n",
      " #   Column             Non-Null Count  Dtype  \n",
      "---  ------             --------------  -----  \n",
      " 0   index              43000 non-null  int64  \n",
      " 1   ID                 43000 non-null  object \n",
      " 2   age                37880 non-null  float64\n",
      " 3   job                42655 non-null  object \n",
      " 4   marital            42915 non-null  object \n",
      " 5   education          41193 non-null  object \n",
      " 6   default            34019 non-null  object \n",
      " 7   housing            41974 non-null  object \n",
      " 8   loan               41974 non-null  object \n",
      " 9   duration           43000 non-null  int64  \n",
      " 10  campaign           43000 non-null  int64  \n",
      " 11  previous           43000 non-null  int64  \n",
      " 12  poutcome           43000 non-null  object \n",
      " 13  emp.var.rate       43000 non-null  float64\n",
      " 14  cons.price.idx     42529 non-null  float64\n",
      " 15  cons.conf.idx      43000 non-null  float64\n",
      " 16  euribor3m          33744 non-null  float64\n",
      " 17  nr.employed        43000 non-null  float64\n",
      " 18  y                  43000 non-null  object \n",
      " 19  date               42752 non-null  object \n",
      " 20  Income             43000 non-null  int64  \n",
      " 21  total_children     43000 non-null  int64  \n",
      " 22  year_customer      43000 non-null  object \n",
      " 23  NumWebVisitsMonth  43000 non-null  int64  \n",
      "dtypes: float64(6), int64(7), object(11)\n",
      "memory usage: 8.2+ MB\n"
     ]
    }
   ],
   "source": [
    "bank.info()"
   ]
  },
  {
   "cell_type": "markdown",
   "id": "d695b211",
   "metadata": {},
   "source": [
    "# Estadísticas en función del resultado de 'y'"
   ]
  },
  {
   "cell_type": "markdown",
   "id": "c40a158c",
   "metadata": {},
   "source": [
    "## Cantidad de clientes por resultado de la campaña"
   ]
  },
  {
   "cell_type": "code",
   "execution_count": 6,
   "id": "251052a5",
   "metadata": {},
   "outputs": [
    {
     "data": {
      "text/html": [
       "<div>\n",
       "<style scoped>\n",
       "    .dataframe tbody tr th:only-of-type {\n",
       "        vertical-align: middle;\n",
       "    }\n",
       "\n",
       "    .dataframe tbody tr th {\n",
       "        vertical-align: top;\n",
       "    }\n",
       "\n",
       "    .dataframe thead th {\n",
       "        text-align: right;\n",
       "    }\n",
       "</style>\n",
       "<table border=\"1\" class=\"dataframe\">\n",
       "  <thead>\n",
       "    <tr style=\"text-align: right;\">\n",
       "      <th></th>\n",
       "      <th>y</th>\n",
       "      <th>clientes</th>\n",
       "    </tr>\n",
       "  </thead>\n",
       "  <tbody>\n",
       "    <tr>\n",
       "      <th>0</th>\n",
       "      <td>no</td>\n",
       "      <td>38156</td>\n",
       "    </tr>\n",
       "    <tr>\n",
       "      <th>1</th>\n",
       "      <td>yes</td>\n",
       "      <td>4844</td>\n",
       "    </tr>\n",
       "  </tbody>\n",
       "</table>\n",
       "</div>"
      ],
      "text/plain": [
       "     y  clientes\n",
       "0   no     38156\n",
       "1  yes      4844"
      ]
     },
     "execution_count": 6,
     "metadata": {},
     "output_type": "execute_result"
    }
   ],
   "source": [
    "resultado_campaña_y = bank['y'].value_counts(dropna= False).reset_index(name='clientes')  # Incluye nulos\n",
    "resultado_campaña_y"
   ]
  },
  {
   "cell_type": "code",
   "execution_count": 7,
   "id": "803886e9",
   "metadata": {},
   "outputs": [
    {
     "data": {
      "image/png": "[encoded data removed]",
      "text/plain": [
       "<Figure size 300x200 with 1 Axes>"
      ]
     },
     "metadata": {},
     "output_type": "display_data"
    },
    {
     "data": {
      "text/html": [
       "<div>\n",
       "<style scoped>\n",
       "    .dataframe tbody tr th:only-of-type {\n",
       "        vertical-align: middle;\n",
       "    }\n",
       "\n",
       "    .dataframe tbody tr th {\n",
       "        vertical-align: top;\n",
       "    }\n",
       "\n",
       "    .dataframe thead th {\n",
       "        text-align: right;\n",
       "    }\n",
       "</style>\n",
       "<table border=\"1\" class=\"dataframe\">\n",
       "  <thead>\n",
       "    <tr style=\"text-align: right;\">\n",
       "      <th></th>\n",
       "      <th>0</th>\n",
       "      <th>1</th>\n",
       "    </tr>\n",
       "  </thead>\n",
       "  <tbody>\n",
       "    <tr>\n",
       "      <th>y</th>\n",
       "      <td>no</td>\n",
       "      <td>yes</td>\n",
       "    </tr>\n",
       "    <tr>\n",
       "      <th>clientes</th>\n",
       "      <td>38156</td>\n",
       "      <td>4844</td>\n",
       "    </tr>\n",
       "  </tbody>\n",
       "</table>\n",
       "</div>"
      ],
      "text/plain": [
       "              0     1\n",
       "y            no   yes\n",
       "clientes  38156  4844"
      ]
     },
     "metadata": {},
     "output_type": "display_data"
    }
   ],
   "source": [
    "# Inicializar una figura\n",
    "plt.figure(figsize=(3, 2))  # Ancho y alto de las figuras\n",
    "\n",
    "# Customizar gráfico\n",
    "sns.countplot(x='y', data=bank)\n",
    "\n",
    "# Mostrar la figura\n",
    "plt.show()\n",
    "\n",
    "display(resultado_campaña_y.T)"
   ]
  },
  {
   "cell_type": "markdown",
   "id": "06ad608d",
   "metadata": {},
   "source": [
    "## Estadísticas de clientes con un index entre 37000 y 41000 por resutado de la campaña"
   ]
  },
  {
   "cell_type": "code",
   "execution_count": 8,
   "id": "a43f05e5",
   "metadata": {},
   "outputs": [
    {
     "data": {
      "text/html": [
       "<div>\n",
       "<style scoped>\n",
       "    .dataframe tbody tr th:only-of-type {\n",
       "        vertical-align: middle;\n",
       "    }\n",
       "\n",
       "    .dataframe tbody tr th {\n",
       "        vertical-align: top;\n",
       "    }\n",
       "\n",
       "    .dataframe thead th {\n",
       "        text-align: right;\n",
       "    }\n",
       "</style>\n",
       "<table border=\"1\" class=\"dataframe\">\n",
       "  <thead>\n",
       "    <tr style=\"text-align: right;\">\n",
       "      <th></th>\n",
       "      <th>index</th>\n",
       "      <th>ID</th>\n",
       "      <th>age</th>\n",
       "      <th>job</th>\n",
       "      <th>marital</th>\n",
       "      <th>education</th>\n",
       "      <th>default</th>\n",
       "      <th>housing</th>\n",
       "      <th>loan</th>\n",
       "      <th>duration</th>\n",
       "      <th>campaign</th>\n",
       "      <th>previous</th>\n",
       "      <th>poutcome</th>\n",
       "      <th>emp.var.rate</th>\n",
       "      <th>cons.price.idx</th>\n",
       "      <th>cons.conf.idx</th>\n",
       "      <th>euribor3m</th>\n",
       "      <th>nr.employed</th>\n",
       "      <th>y</th>\n",
       "      <th>date</th>\n",
       "      <th>Income</th>\n",
       "      <th>total_children</th>\n",
       "      <th>year_customer</th>\n",
       "      <th>NumWebVisitsMonth</th>\n",
       "    </tr>\n",
       "  </thead>\n",
       "  <tbody>\n",
       "    <tr>\n",
       "      <th>37000</th>\n",
       "      <td>37000</td>\n",
       "      <td>29144715FD12450AB5F1959876824B80</td>\n",
       "      <td>NaN</td>\n",
       "      <td>admin.</td>\n",
       "      <td>SINGLE</td>\n",
       "      <td>university.degree</td>\n",
       "      <td>no</td>\n",
       "      <td>no</td>\n",
       "      <td>no</td>\n",
       "      <td>331</td>\n",
       "      <td>2</td>\n",
       "      <td>0</td>\n",
       "      <td>NONEXISTENT</td>\n",
       "      <td>-2.9</td>\n",
       "      <td>92.201</td>\n",
       "      <td>-31.4</td>\n",
       "      <td>0.883</td>\n",
       "      <td>5076.2</td>\n",
       "      <td>no</td>\n",
       "      <td>20-agosto-2018</td>\n",
       "      <td>101312</td>\n",
       "      <td>0</td>\n",
       "      <td>2014</td>\n",
       "      <td>26</td>\n",
       "    </tr>\n",
       "    <tr>\n",
       "      <th>37001</th>\n",
       "      <td>37001</td>\n",
       "      <td>C460B77E64D74D1788111C0234F32DD8</td>\n",
       "      <td>37.0</td>\n",
       "      <td>admin.</td>\n",
       "      <td>MARRIED</td>\n",
       "      <td>university.degree</td>\n",
       "      <td>no</td>\n",
       "      <td>no</td>\n",
       "      <td>no</td>\n",
       "      <td>89</td>\n",
       "      <td>1</td>\n",
       "      <td>0</td>\n",
       "      <td>NONEXISTENT</td>\n",
       "      <td>-2.9</td>\n",
       "      <td>92.201</td>\n",
       "      <td>-31.4</td>\n",
       "      <td>NaN</td>\n",
       "      <td>5076.2</td>\n",
       "      <td>no</td>\n",
       "      <td>3-octubre-2018</td>\n",
       "      <td>87061</td>\n",
       "      <td>4</td>\n",
       "      <td>2014</td>\n",
       "      <td>25</td>\n",
       "    </tr>\n",
       "    <tr>\n",
       "      <th>37002</th>\n",
       "      <td>37002</td>\n",
       "      <td>C9B3686CDE374305A55510B68F00EAE3</td>\n",
       "      <td>NaN</td>\n",
       "      <td>retired</td>\n",
       "      <td>DIVORCED</td>\n",
       "      <td>university.degree</td>\n",
       "      <td>no</td>\n",
       "      <td>yes</td>\n",
       "      <td>yes</td>\n",
       "      <td>155</td>\n",
       "      <td>2</td>\n",
       "      <td>1</td>\n",
       "      <td>SUCCESS</td>\n",
       "      <td>-2.9</td>\n",
       "      <td>92.201</td>\n",
       "      <td>-31.4</td>\n",
       "      <td>0.883</td>\n",
       "      <td>5076.2</td>\n",
       "      <td>yes</td>\n",
       "      <td>31-mayo-2017</td>\n",
       "      <td>98883</td>\n",
       "      <td>2</td>\n",
       "      <td>2014</td>\n",
       "      <td>23</td>\n",
       "    </tr>\n",
       "  </tbody>\n",
       "</table>\n",
       "</div>"
      ],
      "text/plain": [
       "       index                                ID   age      job   marital  \\\n",
       "37000  37000  29144715FD12450AB5F1959876824B80   NaN   admin.    SINGLE   \n",
       "37001  37001  C460B77E64D74D1788111C0234F32DD8  37.0   admin.   MARRIED   \n",
       "37002  37002  C9B3686CDE374305A55510B68F00EAE3   NaN  retired  DIVORCED   \n",
       "\n",
       "               education default housing loan  duration  campaign  previous  \\\n",
       "37000  university.degree      no      no   no       331         2         0   \n",
       "37001  university.degree      no      no   no        89         1         0   \n",
       "37002  university.degree      no     yes  yes       155         2         1   \n",
       "\n",
       "          poutcome  emp.var.rate  cons.price.idx  cons.conf.idx  euribor3m  \\\n",
       "37000  NONEXISTENT          -2.9          92.201          -31.4      0.883   \n",
       "37001  NONEXISTENT          -2.9          92.201          -31.4        NaN   \n",
       "37002      SUCCESS          -2.9          92.201          -31.4      0.883   \n",
       "\n",
       "       nr.employed    y            date  Income  total_children year_customer  \\\n",
       "37000       5076.2   no  20-agosto-2018  101312               0          2014   \n",
       "37001       5076.2   no  3-octubre-2018   87061               4          2014   \n",
       "37002       5076.2  yes    31-mayo-2017   98883               2          2014   \n",
       "\n",
       "       NumWebVisitsMonth  \n",
       "37000                 26  \n",
       "37001                 25  \n",
       "37002                 23  "
      ]
     },
     "execution_count": 8,
     "metadata": {},
     "output_type": "execute_result"
    }
   ],
   "source": [
    "# Crear un dataframe con los clientes comprendidos con un 'index' entre 37000 y 41000\n",
    "bank_index = bank[(bank.index >= 37000) & (bank.index <= 41000)]\n",
    "bank_index.head(3)"
   ]
  },
  {
   "cell_type": "code",
   "execution_count": 9,
   "id": "b5751de5",
   "metadata": {},
   "outputs": [
    {
     "data": {
      "text/html": [
       "<div>\n",
       "<style scoped>\n",
       "    .dataframe tbody tr th:only-of-type {\n",
       "        vertical-align: middle;\n",
       "    }\n",
       "\n",
       "    .dataframe tbody tr th {\n",
       "        vertical-align: top;\n",
       "    }\n",
       "\n",
       "    .dataframe thead th {\n",
       "        text-align: right;\n",
       "    }\n",
       "</style>\n",
       "<table border=\"1\" class=\"dataframe\">\n",
       "  <thead>\n",
       "    <tr style=\"text-align: right;\">\n",
       "      <th></th>\n",
       "      <th>y</th>\n",
       "      <th>clientes</th>\n",
       "    </tr>\n",
       "  </thead>\n",
       "  <tbody>\n",
       "    <tr>\n",
       "      <th>0</th>\n",
       "      <td>no</td>\n",
       "      <td>2151</td>\n",
       "    </tr>\n",
       "    <tr>\n",
       "      <th>1</th>\n",
       "      <td>yes</td>\n",
       "      <td>1850</td>\n",
       "    </tr>\n",
       "  </tbody>\n",
       "</table>\n",
       "</div>"
      ],
      "text/plain": [
       "     y  clientes\n",
       "0   no      2151\n",
       "1  yes      1850"
      ]
     },
     "execution_count": 9,
     "metadata": {},
     "output_type": "execute_result"
    }
   ],
   "source": [
    "# Cantidad de clientes que adquirieron producto o no adquiriron:\n",
    "resultado_segun_index = bank_index['y'].value_counts().reset_index(name='clientes')\n",
    "resultado_segun_index"
   ]
  },
  {
   "cell_type": "markdown",
   "id": "bff80b19",
   "metadata": {},
   "source": [
    "### Calcular porcentaje de clientes 'yes' en bank_index respecto al total de 'yes' en bank"
   ]
  },
  {
   "cell_type": "code",
   "execution_count": 10,
   "id": "47b1412e",
   "metadata": {},
   "outputs": [
    {
     "data": {
      "text/plain": [
       "np.int64(4844)"
      ]
     },
     "execution_count": 10,
     "metadata": {},
     "output_type": "execute_result"
    }
   ],
   "source": [
    "# Obtener del dataframe bank los clientes 'yes'\n",
    "clientes_campaña_y_yes = resultado_campaña_y.iloc[1, 1]\n",
    "clientes_campaña_y_yes"
   ]
  },
  {
   "cell_type": "code",
   "execution_count": 11,
   "id": "763cdf06",
   "metadata": {},
   "outputs": [
    {
     "data": {
      "text/plain": [
       "np.int64(1850)"
      ]
     },
     "execution_count": 11,
     "metadata": {},
     "output_type": "execute_result"
    }
   ],
   "source": [
    "# Obtener del dataframe bank_index los clientes 'yes'\n",
    "clientes_index_yes = resultado_segun_index.iloc[1, 1]\n",
    "clientes_index_yes"
   ]
  },
  {
   "cell_type": "code",
   "execution_count": 12,
   "id": "9d71896b",
   "metadata": {},
   "outputs": [
    {
     "name": "stdout",
     "output_type": "stream",
     "text": [
      "El porcentaje de los clientes (bank_index) que contrataron el producto respecto del total es del 38.19%\n"
     ]
    }
   ],
   "source": [
    "porcentaje_yes_bank_index = ((clientes_index_yes / clientes_campaña_y_yes) * 100).round(2)\n",
    "print(f'El porcentaje de los clientes (bank_index) que contrataron el producto respecto del total es del {porcentaje_yes_bank_index}%')"
   ]
  },
  {
   "cell_type": "markdown",
   "id": "e42a9701",
   "metadata": {},
   "source": [
    "## Estadísticas del resultado de la campaña según la cantidad de llamadas durante la campaña"
   ]
  },
  {
   "cell_type": "code",
   "execution_count": 13,
   "id": "508f3b69",
   "metadata": {},
   "outputs": [
    {
     "data": {
      "text/html": [
       "<div>\n",
       "<style scoped>\n",
       "    .dataframe tbody tr th:only-of-type {\n",
       "        vertical-align: middle;\n",
       "    }\n",
       "\n",
       "    .dataframe tbody tr th {\n",
       "        vertical-align: top;\n",
       "    }\n",
       "\n",
       "    .dataframe thead th {\n",
       "        text-align: right;\n",
       "    }\n",
       "</style>\n",
       "<table border=\"1\" class=\"dataframe\">\n",
       "  <thead>\n",
       "    <tr style=\"text-align: right;\">\n",
       "      <th></th>\n",
       "      <th>y</th>\n",
       "      <th>count</th>\n",
       "      <th>mean</th>\n",
       "      <th>median</th>\n",
       "      <th>std</th>\n",
       "      <th>max</th>\n",
       "      <th>min</th>\n",
       "    </tr>\n",
       "  </thead>\n",
       "  <tbody>\n",
       "    <tr>\n",
       "      <th>0</th>\n",
       "      <td>no</td>\n",
       "      <td>38156</td>\n",
       "      <td>2.63</td>\n",
       "      <td>2.0</td>\n",
       "      <td>2.88</td>\n",
       "      <td>56</td>\n",
       "      <td>1</td>\n",
       "    </tr>\n",
       "    <tr>\n",
       "      <th>1</th>\n",
       "      <td>yes</td>\n",
       "      <td>4844</td>\n",
       "      <td>2.05</td>\n",
       "      <td>2.0</td>\n",
       "      <td>1.66</td>\n",
       "      <td>23</td>\n",
       "      <td>1</td>\n",
       "    </tr>\n",
       "  </tbody>\n",
       "</table>\n",
       "</div>"
      ],
      "text/plain": [
       "     y  count  mean  median   std  max  min\n",
       "0   no  38156  2.63     2.0  2.88   56    1\n",
       "1  yes   4844  2.05     2.0  1.66   23    1"
      ]
     },
     "execution_count": 13,
     "metadata": {},
     "output_type": "execute_result"
    }
   ],
   "source": [
    "estadísticas_llamadas_y = bank.groupby('y')['campaign'].agg(['count', 'mean', 'median', 'std', 'max', 'min']).round(2).reset_index()\n",
    "estadísticas_llamadas_y"
   ]
  },
  {
   "cell_type": "markdown",
   "id": "f9ab1731",
   "metadata": {},
   "source": [
    "#### Debido a los outliers en el número de llamadas es más fiable el valor de la mediana.Tampoco nos aporta nada significativo"
   ]
  },
  {
   "cell_type": "markdown",
   "id": "f3b92f0f",
   "metadata": {},
   "source": [
    "## Estadísticas del resultado de la campaña según la edad"
   ]
  },
  {
   "cell_type": "code",
   "execution_count": 14,
   "id": "262c3903",
   "metadata": {},
   "outputs": [
    {
     "data": {
      "text/html": [
       "<div>\n",
       "<style scoped>\n",
       "    .dataframe tbody tr th:only-of-type {\n",
       "        vertical-align: middle;\n",
       "    }\n",
       "\n",
       "    .dataframe tbody tr th {\n",
       "        vertical-align: top;\n",
       "    }\n",
       "\n",
       "    .dataframe thead th {\n",
       "        text-align: right;\n",
       "    }\n",
       "</style>\n",
       "<table border=\"1\" class=\"dataframe\">\n",
       "  <thead>\n",
       "    <tr style=\"text-align: right;\">\n",
       "      <th></th>\n",
       "      <th>y</th>\n",
       "      <th>count</th>\n",
       "      <th>mean</th>\n",
       "      <th>median</th>\n",
       "      <th>std</th>\n",
       "      <th>max</th>\n",
       "      <th>min</th>\n",
       "    </tr>\n",
       "  </thead>\n",
       "  <tbody>\n",
       "    <tr>\n",
       "      <th>0</th>\n",
       "      <td>no</td>\n",
       "      <td>33614</td>\n",
       "      <td>39.86</td>\n",
       "      <td>38.0</td>\n",
       "      <td>9.92</td>\n",
       "      <td>95.0</td>\n",
       "      <td>17.0</td>\n",
       "    </tr>\n",
       "    <tr>\n",
       "      <th>1</th>\n",
       "      <td>yes</td>\n",
       "      <td>4266</td>\n",
       "      <td>40.89</td>\n",
       "      <td>37.0</td>\n",
       "      <td>13.82</td>\n",
       "      <td>98.0</td>\n",
       "      <td>17.0</td>\n",
       "    </tr>\n",
       "  </tbody>\n",
       "</table>\n",
       "</div>"
      ],
      "text/plain": [
       "     y  count   mean  median    std   max   min\n",
       "0   no  33614  39.86    38.0   9.92  95.0  17.0\n",
       "1  yes   4266  40.89    37.0  13.82  98.0  17.0"
      ]
     },
     "execution_count": 14,
     "metadata": {},
     "output_type": "execute_result"
    }
   ],
   "source": [
    "estadisticas_edad_y = bank.groupby('y')['age'].agg(['count', 'mean', 'median', 'std', 'max', 'min']).round(2).reset_index()\n",
    "estadisticas_edad_y"
   ]
  },
  {
   "cell_type": "markdown",
   "id": "f8b68a2e",
   "metadata": {},
   "source": [
    "### Clasificar a los clientes según su edad"
   ]
  },
  {
   "cell_type": "code",
   "execution_count": 15,
   "id": "94dd298f",
   "metadata": {},
   "outputs": [],
   "source": [
    "# Función para clasificar la edad:\n",
    "\n",
    "def clasificar_edad(edad):\n",
    "    \"\"\"\n",
    "    Función para clasificar edades.\n",
    "\n",
    "    Parámetros:\n",
    "    - numero (float): Número que se va a categorizar.\n",
    "\n",
    "    Retorna:\n",
    "    - str: Categoría a la que pertenece la edad.\n",
    "    \"\"\"\n",
    "    if 17.0 <= edad <= 29.0:\n",
    "        return 'Jóven'\n",
    "    elif 30.0 <= edad <= 49.0:\n",
    "        return 'Adulto'\n",
    "    elif 50.0 <= edad <= 64.0:\n",
    "        return 'Mediana edad'\n",
    "    elif edad >= 65.0:\n",
    "        return 'Adultos mayores'\n",
    "    else:\n",
    "        'Nan'"
   ]
  },
  {
   "cell_type": "code",
   "execution_count": 16,
   "id": "394e797e",
   "metadata": {},
   "outputs": [],
   "source": [
    "# Crear nueva columna 'age_cathegory' en la posición 3 del dataframe y se aplica la función clasificar edad\n",
    "bank.insert(3,'age_category', bank['age'].apply(clasificar_edad))"
   ]
  },
  {
   "cell_type": "code",
   "execution_count": 17,
   "id": "5f786331",
   "metadata": {},
   "outputs": [
    {
     "data": {
      "text/html": [
       "<div>\n",
       "<style scoped>\n",
       "    .dataframe tbody tr th:only-of-type {\n",
       "        vertical-align: middle;\n",
       "    }\n",
       "\n",
       "    .dataframe tbody tr th {\n",
       "        vertical-align: top;\n",
       "    }\n",
       "\n",
       "    .dataframe thead th {\n",
       "        text-align: right;\n",
       "    }\n",
       "</style>\n",
       "<table border=\"1\" class=\"dataframe\">\n",
       "  <thead>\n",
       "    <tr style=\"text-align: right;\">\n",
       "      <th></th>\n",
       "      <th>index</th>\n",
       "      <th>ID</th>\n",
       "      <th>age</th>\n",
       "      <th>age_category</th>\n",
       "      <th>job</th>\n",
       "      <th>marital</th>\n",
       "      <th>education</th>\n",
       "      <th>default</th>\n",
       "      <th>housing</th>\n",
       "      <th>loan</th>\n",
       "      <th>duration</th>\n",
       "      <th>campaign</th>\n",
       "      <th>previous</th>\n",
       "      <th>poutcome</th>\n",
       "      <th>emp.var.rate</th>\n",
       "      <th>cons.price.idx</th>\n",
       "      <th>cons.conf.idx</th>\n",
       "      <th>euribor3m</th>\n",
       "      <th>nr.employed</th>\n",
       "      <th>y</th>\n",
       "      <th>date</th>\n",
       "      <th>Income</th>\n",
       "      <th>total_children</th>\n",
       "      <th>year_customer</th>\n",
       "      <th>NumWebVisitsMonth</th>\n",
       "    </tr>\n",
       "  </thead>\n",
       "  <tbody>\n",
       "    <tr>\n",
       "      <th>0</th>\n",
       "      <td>0</td>\n",
       "      <td>089B39D8E4D0461B87D4814D71E0E079</td>\n",
       "      <td>NaN</td>\n",
       "      <td>None</td>\n",
       "      <td>housemaid</td>\n",
       "      <td>MARRIED</td>\n",
       "      <td>basic.4y</td>\n",
       "      <td>no</td>\n",
       "      <td>no</td>\n",
       "      <td>no</td>\n",
       "      <td>261</td>\n",
       "      <td>1</td>\n",
       "      <td>0</td>\n",
       "      <td>NONEXISTENT</td>\n",
       "      <td>1.1</td>\n",
       "      <td>93.994</td>\n",
       "      <td>-36.4</td>\n",
       "      <td>4.857</td>\n",
       "      <td>5191.0</td>\n",
       "      <td>no</td>\n",
       "      <td>2-agosto-2019</td>\n",
       "      <td>161770</td>\n",
       "      <td>1</td>\n",
       "      <td>2012</td>\n",
       "      <td>29</td>\n",
       "    </tr>\n",
       "    <tr>\n",
       "      <th>1</th>\n",
       "      <td>1</td>\n",
       "      <td>E9D37224CB6F494298D746672963D097</td>\n",
       "      <td>57.0</td>\n",
       "      <td>Mediana edad</td>\n",
       "      <td>services</td>\n",
       "      <td>MARRIED</td>\n",
       "      <td>high.school</td>\n",
       "      <td>NaN</td>\n",
       "      <td>no</td>\n",
       "      <td>no</td>\n",
       "      <td>149</td>\n",
       "      <td>1</td>\n",
       "      <td>0</td>\n",
       "      <td>NONEXISTENT</td>\n",
       "      <td>1.1</td>\n",
       "      <td>93.994</td>\n",
       "      <td>-36.4</td>\n",
       "      <td>NaN</td>\n",
       "      <td>5191.0</td>\n",
       "      <td>no</td>\n",
       "      <td>14-septiembre-2016</td>\n",
       "      <td>85477</td>\n",
       "      <td>2</td>\n",
       "      <td>2012</td>\n",
       "      <td>7</td>\n",
       "    </tr>\n",
       "  </tbody>\n",
       "</table>\n",
       "</div>"
      ],
      "text/plain": [
       "   index                                ID   age  age_category        job  \\\n",
       "0      0  089B39D8E4D0461B87D4814D71E0E079   NaN          None  housemaid   \n",
       "1      1  E9D37224CB6F494298D746672963D097  57.0  Mediana edad   services   \n",
       "\n",
       "   marital    education default housing loan  duration  campaign  previous  \\\n",
       "0  MARRIED     basic.4y      no      no   no       261         1         0   \n",
       "1  MARRIED  high.school     NaN      no   no       149         1         0   \n",
       "\n",
       "      poutcome  emp.var.rate  cons.price.idx  cons.conf.idx  euribor3m  \\\n",
       "0  NONEXISTENT           1.1          93.994          -36.4      4.857   \n",
       "1  NONEXISTENT           1.1          93.994          -36.4        NaN   \n",
       "\n",
       "   nr.employed   y                date  Income  total_children year_customer  \\\n",
       "0       5191.0  no       2-agosto-2019  161770               1          2012   \n",
       "1       5191.0  no  14-septiembre-2016   85477               2          2012   \n",
       "\n",
       "   NumWebVisitsMonth  \n",
       "0                 29  \n",
       "1                  7  "
      ]
     },
     "execution_count": 17,
     "metadata": {},
     "output_type": "execute_result"
    }
   ],
   "source": [
    "bank.head(2)"
   ]
  },
  {
   "cell_type": "code",
   "execution_count": 18,
   "id": "1a917448",
   "metadata": {},
   "outputs": [
    {
     "data": {
      "text/plain": [
       "age_category\n",
       "Adulto             25259\n",
       "Mediana edad        6739\n",
       "Jóven               5266\n",
       "None                5120\n",
       "Adultos mayores      616\n",
       "Name: count, dtype: int64"
      ]
     },
     "execution_count": 18,
     "metadata": {},
     "output_type": "execute_result"
    }
   ],
   "source": [
    "# Cantidad por valor de 'age_cathegory'\n",
    "bank['age_category'].value_counts(dropna=False)"
   ]
  },
  {
   "cell_type": "code",
   "execution_count": 19,
   "id": "54e1748f",
   "metadata": {},
   "outputs": [
    {
     "data": {
      "text/html": [
       "<div>\n",
       "<style scoped>\n",
       "    .dataframe tbody tr th:only-of-type {\n",
       "        vertical-align: middle;\n",
       "    }\n",
       "\n",
       "    .dataframe tbody tr th {\n",
       "        vertical-align: top;\n",
       "    }\n",
       "\n",
       "    .dataframe thead th {\n",
       "        text-align: right;\n",
       "    }\n",
       "</style>\n",
       "<table border=\"1\" class=\"dataframe\">\n",
       "  <thead>\n",
       "    <tr style=\"text-align: right;\">\n",
       "      <th></th>\n",
       "      <th>y</th>\n",
       "      <th>age_category</th>\n",
       "      <th>cantidad</th>\n",
       "    </tr>\n",
       "  </thead>\n",
       "  <tbody>\n",
       "    <tr>\n",
       "      <th>0</th>\n",
       "      <td>no</td>\n",
       "      <td>Adulto</td>\n",
       "      <td>22907</td>\n",
       "    </tr>\n",
       "    <tr>\n",
       "      <th>1</th>\n",
       "      <td>no</td>\n",
       "      <td>Mediana edad</td>\n",
       "      <td>5959</td>\n",
       "    </tr>\n",
       "    <tr>\n",
       "      <th>2</th>\n",
       "      <td>no</td>\n",
       "      <td>NaN</td>\n",
       "      <td>4542</td>\n",
       "    </tr>\n",
       "    <tr>\n",
       "      <th>3</th>\n",
       "      <td>no</td>\n",
       "      <td>Jóven</td>\n",
       "      <td>4417</td>\n",
       "    </tr>\n",
       "    <tr>\n",
       "      <th>4</th>\n",
       "      <td>no</td>\n",
       "      <td>Adultos mayores</td>\n",
       "      <td>331</td>\n",
       "    </tr>\n",
       "    <tr>\n",
       "      <th>5</th>\n",
       "      <td>yes</td>\n",
       "      <td>Adulto</td>\n",
       "      <td>2352</td>\n",
       "    </tr>\n",
       "    <tr>\n",
       "      <th>6</th>\n",
       "      <td>yes</td>\n",
       "      <td>Jóven</td>\n",
       "      <td>849</td>\n",
       "    </tr>\n",
       "    <tr>\n",
       "      <th>7</th>\n",
       "      <td>yes</td>\n",
       "      <td>Mediana edad</td>\n",
       "      <td>780</td>\n",
       "    </tr>\n",
       "    <tr>\n",
       "      <th>8</th>\n",
       "      <td>yes</td>\n",
       "      <td>NaN</td>\n",
       "      <td>578</td>\n",
       "    </tr>\n",
       "    <tr>\n",
       "      <th>9</th>\n",
       "      <td>yes</td>\n",
       "      <td>Adultos mayores</td>\n",
       "      <td>285</td>\n",
       "    </tr>\n",
       "  </tbody>\n",
       "</table>\n",
       "</div>"
      ],
      "text/plain": [
       "     y     age_category  cantidad\n",
       "0   no           Adulto     22907\n",
       "1   no     Mediana edad      5959\n",
       "2   no              NaN      4542\n",
       "3   no            Jóven      4417\n",
       "4   no  Adultos mayores       331\n",
       "5  yes           Adulto      2352\n",
       "6  yes            Jóven       849\n",
       "7  yes     Mediana edad       780\n",
       "8  yes              NaN       578\n",
       "9  yes  Adultos mayores       285"
      ]
     },
     "execution_count": 19,
     "metadata": {},
     "output_type": "execute_result"
    }
   ],
   "source": [
    "# Cantidad de personas que adquirieron producto o no por categoría de edad:\n",
    "resultado_categoria_edad = bank.groupby('y')['age_category'].value_counts(dropna=False).reset_index(name='cantidad')\n",
    "resultado_categoria_edad"
   ]
  },
  {
   "cell_type": "code",
   "execution_count": 20,
   "id": "ca9415df",
   "metadata": {},
   "outputs": [
    {
     "data": {
      "text/html": [
       "<div>\n",
       "<style scoped>\n",
       "    .dataframe tbody tr th:only-of-type {\n",
       "        vertical-align: middle;\n",
       "    }\n",
       "\n",
       "    .dataframe tbody tr th {\n",
       "        vertical-align: top;\n",
       "    }\n",
       "\n",
       "    .dataframe thead th {\n",
       "        text-align: right;\n",
       "    }\n",
       "</style>\n",
       "<table border=\"1\" class=\"dataframe\">\n",
       "  <thead>\n",
       "    <tr style=\"text-align: right;\">\n",
       "      <th>age_category</th>\n",
       "      <th>Adulto</th>\n",
       "      <th>Adultos mayores</th>\n",
       "      <th>Jóven</th>\n",
       "      <th>Mediana edad</th>\n",
       "      <th>NaN</th>\n",
       "    </tr>\n",
       "    <tr>\n",
       "      <th>y</th>\n",
       "      <th></th>\n",
       "      <th></th>\n",
       "      <th></th>\n",
       "      <th></th>\n",
       "      <th></th>\n",
       "    </tr>\n",
       "  </thead>\n",
       "  <tbody>\n",
       "    <tr>\n",
       "      <th>no</th>\n",
       "      <td>22907</td>\n",
       "      <td>331</td>\n",
       "      <td>4417</td>\n",
       "      <td>5959</td>\n",
       "      <td>4542</td>\n",
       "    </tr>\n",
       "    <tr>\n",
       "      <th>yes</th>\n",
       "      <td>2352</td>\n",
       "      <td>285</td>\n",
       "      <td>849</td>\n",
       "      <td>780</td>\n",
       "      <td>578</td>\n",
       "    </tr>\n",
       "  </tbody>\n",
       "</table>\n",
       "</div>"
      ],
      "text/plain": [
       "age_category  Adulto  Adultos mayores  Jóven  Mediana edad   NaN\n",
       "y                                                               \n",
       "no             22907              331   4417          5959  4542\n",
       "yes             2352              285    849           780   578"
      ]
     },
     "execution_count": 20,
     "metadata": {},
     "output_type": "execute_result"
    }
   ],
   "source": [
    "# Mejora lo anterior\n",
    "resultado_categoria_edad_1 = (bank.groupby(['y', 'age_category'], dropna=False).size().unstack(fill_value=0))\n",
    "resultado_categoria_edad_1\n",
    "\n",
    "# .size() devuelve el número de filas en cada grupo. Cuenta todas las filas del grupo, aunque la columna tenga NaN."
   ]
  },
  {
   "cell_type": "code",
   "execution_count": 21,
   "id": "a2f3ca72",
   "metadata": {},
   "outputs": [
    {
     "data": {
      "text/plain": [
       "<Figure size 600x300 with 0 Axes>"
      ]
     },
     "metadata": {},
     "output_type": "display_data"
    },
    {
     "data": {
      "image/png": "[encoded data removed]",
      "text/plain": [
       "<Figure size 640x480 with 1 Axes>"
      ]
     },
     "metadata": {},
     "output_type": "display_data"
    },
    {
     "data": {
      "text/html": [
       "<div>\n",
       "<style scoped>\n",
       "    .dataframe tbody tr th:only-of-type {\n",
       "        vertical-align: middle;\n",
       "    }\n",
       "\n",
       "    .dataframe tbody tr th {\n",
       "        vertical-align: top;\n",
       "    }\n",
       "\n",
       "    .dataframe thead th {\n",
       "        text-align: right;\n",
       "    }\n",
       "</style>\n",
       "<table border=\"1\" class=\"dataframe\">\n",
       "  <thead>\n",
       "    <tr style=\"text-align: right;\">\n",
       "      <th>age_category</th>\n",
       "      <th>Adulto</th>\n",
       "      <th>Adultos mayores</th>\n",
       "      <th>Jóven</th>\n",
       "      <th>Mediana edad</th>\n",
       "      <th>NaN</th>\n",
       "    </tr>\n",
       "    <tr>\n",
       "      <th>y</th>\n",
       "      <th></th>\n",
       "      <th></th>\n",
       "      <th></th>\n",
       "      <th></th>\n",
       "      <th></th>\n",
       "    </tr>\n",
       "  </thead>\n",
       "  <tbody>\n",
       "    <tr>\n",
       "      <th>no</th>\n",
       "      <td>22907</td>\n",
       "      <td>331</td>\n",
       "      <td>4417</td>\n",
       "      <td>5959</td>\n",
       "      <td>4542</td>\n",
       "    </tr>\n",
       "    <tr>\n",
       "      <th>yes</th>\n",
       "      <td>2352</td>\n",
       "      <td>285</td>\n",
       "      <td>849</td>\n",
       "      <td>780</td>\n",
       "      <td>578</td>\n",
       "    </tr>\n",
       "  </tbody>\n",
       "</table>\n",
       "</div>"
      ],
      "text/plain": [
       "age_category  Adulto  Adultos mayores  Jóven  Mediana edad   NaN\n",
       "y                                                               \n",
       "no             22907              331   4417          5959  4542\n",
       "yes             2352              285    849           780   578"
      ]
     },
     "execution_count": 21,
     "metadata": {},
     "output_type": "execute_result"
    }
   ],
   "source": [
    "# Inicializar una figura\n",
    "plt.figure(figsize=(6, 3))  # Ancho y alto de las figuras\n",
    "\n",
    "# Customizar gráfico\n",
    "resultado_categoria_edad_1.plot(kind=\"bar\")\n",
    "plt.title(\"Resultado de la campaña según categoría de edad\")\n",
    "plt.xlabel(\"Resultado (y)\")\n",
    "plt.ylabel(\"Número de clientes\")\n",
    "plt.grid(alpha= 0.3)  # Mostar una cuadrícula e intensidad de las líneas\n",
    "plt.xticks(rotation=0)  # etiquetas horizontales\n",
    "\n",
    "# Mostrar la figura\n",
    "plt.show()\n",
    "\n",
    "# Mostrar dataframe\n",
    "resultado_categoria_edad_1"
   ]
  },
  {
   "cell_type": "markdown",
   "id": "ae782c7b",
   "metadata": {},
   "source": [
    "#### Observamos que la mayoría de clientes que contrataron el producto son 'Adulto', pero la mayoría de clientes totales también son 'Adulto'."
   ]
  },
  {
   "cell_type": "markdown",
   "id": "523fdacb",
   "metadata": {},
   "source": [
    "### Calcular el porcentaje de clientes que contrataron el producto en función de la cantidad de clientes dentro de su categoría de edad"
   ]
  },
  {
   "cell_type": "code",
   "execution_count": 22,
   "id": "5e505466",
   "metadata": {},
   "outputs": [
    {
     "data": {
      "text/html": [
       "<div>\n",
       "<style scoped>\n",
       "    .dataframe tbody tr th:only-of-type {\n",
       "        vertical-align: middle;\n",
       "    }\n",
       "\n",
       "    .dataframe tbody tr th {\n",
       "        vertical-align: top;\n",
       "    }\n",
       "\n",
       "    .dataframe thead th {\n",
       "        text-align: right;\n",
       "    }\n",
       "</style>\n",
       "<table border=\"1\" class=\"dataframe\">\n",
       "  <thead>\n",
       "    <tr style=\"text-align: right;\">\n",
       "      <th></th>\n",
       "      <th>age_category</th>\n",
       "      <th>porcentaje_yes</th>\n",
       "    </tr>\n",
       "  </thead>\n",
       "  <tbody>\n",
       "    <tr>\n",
       "      <th>0</th>\n",
       "      <td>Adulto</td>\n",
       "      <td>9.311533</td>\n",
       "    </tr>\n",
       "    <tr>\n",
       "      <th>1</th>\n",
       "      <td>Adultos mayores</td>\n",
       "      <td>46.266234</td>\n",
       "    </tr>\n",
       "    <tr>\n",
       "      <th>2</th>\n",
       "      <td>Jóven</td>\n",
       "      <td>16.122294</td>\n",
       "    </tr>\n",
       "    <tr>\n",
       "      <th>3</th>\n",
       "      <td>Mediana edad</td>\n",
       "      <td>11.574418</td>\n",
       "    </tr>\n",
       "    <tr>\n",
       "      <th>4</th>\n",
       "      <td>NaN</td>\n",
       "      <td>11.289062</td>\n",
       "    </tr>\n",
       "  </tbody>\n",
       "</table>\n",
       "</div>"
      ],
      "text/plain": [
       "      age_category  porcentaje_yes\n",
       "0           Adulto        9.311533\n",
       "1  Adultos mayores       46.266234\n",
       "2            Jóven       16.122294\n",
       "3     Mediana edad       11.574418\n",
       "4              NaN       11.289062"
      ]
     },
     "execution_count": 22,
     "metadata": {},
     "output_type": "execute_result"
    }
   ],
   "source": [
    "# Crear un dataframe con el porcentaje de las categorías según la edad\n",
    "porcentaje_categoria_edad_y = ((\n",
    "    resultado_categoria_edad_1.loc['yes'] /\n",
    "    (resultado_categoria_edad_1.loc['yes'] + resultado_categoria_edad_1.loc['no'])\n",
    ") * 100).reset_index(name= 'porcentaje_yes')\n",
    "\n",
    "porcentaje_categoria_edad_y\n"
   ]
  },
  {
   "cell_type": "code",
   "execution_count": 23,
   "id": "293a3e4f",
   "metadata": {},
   "outputs": [
    {
     "data": {
      "text/html": [
       "<div>\n",
       "<style scoped>\n",
       "    .dataframe tbody tr th:only-of-type {\n",
       "        vertical-align: middle;\n",
       "    }\n",
       "\n",
       "    .dataframe tbody tr th {\n",
       "        vertical-align: top;\n",
       "    }\n",
       "\n",
       "    .dataframe thead th {\n",
       "        text-align: right;\n",
       "    }\n",
       "</style>\n",
       "<table border=\"1\" class=\"dataframe\">\n",
       "  <thead>\n",
       "    <tr style=\"text-align: right;\">\n",
       "      <th></th>\n",
       "      <th>porcentaje_yes</th>\n",
       "    </tr>\n",
       "    <tr>\n",
       "      <th>age_category</th>\n",
       "      <th></th>\n",
       "    </tr>\n",
       "  </thead>\n",
       "  <tbody>\n",
       "    <tr>\n",
       "      <th>Adulto</th>\n",
       "      <td>9.311533</td>\n",
       "    </tr>\n",
       "    <tr>\n",
       "      <th>Adultos mayores</th>\n",
       "      <td>46.266234</td>\n",
       "    </tr>\n",
       "    <tr>\n",
       "      <th>Jóven</th>\n",
       "      <td>16.122294</td>\n",
       "    </tr>\n",
       "    <tr>\n",
       "      <th>Mediana edad</th>\n",
       "      <td>11.574418</td>\n",
       "    </tr>\n",
       "    <tr>\n",
       "      <th>NaN</th>\n",
       "      <td>11.289062</td>\n",
       "    </tr>\n",
       "  </tbody>\n",
       "</table>\n",
       "</div>"
      ],
      "text/plain": [
       "                 porcentaje_yes\n",
       "age_category                   \n",
       "Adulto                 9.311533\n",
       "Adultos mayores       46.266234\n",
       "Jóven                 16.122294\n",
       "Mediana edad          11.574418\n",
       "NaN                   11.289062"
      ]
     },
     "execution_count": 23,
     "metadata": {},
     "output_type": "execute_result"
    }
   ],
   "source": [
    "# Pasar la columna 'age_category' como índice\n",
    "porcentaje_categoria_edad_y.set_index('age_category', inplace=True)\n",
    "porcentaje_categoria_edad_y"
   ]
  },
  {
   "cell_type": "code",
   "execution_count": 24,
   "id": "4c6646cf",
   "metadata": {},
   "outputs": [
    {
     "data": {
      "text/plain": [
       "<Figure size 600x300 with 0 Axes>"
      ]
     },
     "metadata": {},
     "output_type": "display_data"
    },
    {
     "data": {
      "image/png": "[encoded data removed]",
      "text/plain": [
       "<Figure size 600x300 with 1 Axes>"
      ]
     },
     "metadata": {},
     "output_type": "display_data"
    },
    {
     "data": {
      "text/html": [
       "<div>\n",
       "<style scoped>\n",
       "    .dataframe tbody tr th:only-of-type {\n",
       "        vertical-align: middle;\n",
       "    }\n",
       "\n",
       "    .dataframe tbody tr th {\n",
       "        vertical-align: top;\n",
       "    }\n",
       "\n",
       "    .dataframe thead th {\n",
       "        text-align: right;\n",
       "    }\n",
       "</style>\n",
       "<table border=\"1\" class=\"dataframe\">\n",
       "  <thead>\n",
       "    <tr style=\"text-align: right;\">\n",
       "      <th>age_category</th>\n",
       "      <th>Adulto</th>\n",
       "      <th>Adultos mayores</th>\n",
       "      <th>Jóven</th>\n",
       "      <th>Mediana edad</th>\n",
       "      <th>NaN</th>\n",
       "    </tr>\n",
       "  </thead>\n",
       "  <tbody>\n",
       "    <tr>\n",
       "      <th>porcentaje_yes</th>\n",
       "      <td>9.311533</td>\n",
       "      <td>46.266234</td>\n",
       "      <td>16.122294</td>\n",
       "      <td>11.574418</td>\n",
       "      <td>11.289062</td>\n",
       "    </tr>\n",
       "  </tbody>\n",
       "</table>\n",
       "</div>"
      ],
      "text/plain": [
       "age_category      Adulto  Adultos mayores      Jóven  Mediana edad        NaN\n",
       "porcentaje_yes  9.311533        46.266234  16.122294     11.574418  11.289062"
      ]
     },
     "execution_count": 24,
     "metadata": {},
     "output_type": "execute_result"
    }
   ],
   "source": [
    "# Inicializar una figura\n",
    "plt.figure(figsize=(6, 3))  # Ancho y alto de las figuras\n",
    "\n",
    "# Customizar gráfico\n",
    "\n",
    "porcentaje_categoria_edad_y.plot.bar(\n",
    "    y='porcentaje_yes',\n",
    "    figsize=(6, 3),\n",
    "    color='skyblue')\n",
    "\n",
    "plt.title(\"Porcentaje de resultados según categoría edad\")\n",
    "plt.xlabel(\"Categorías de edad\")\n",
    "plt.ylabel(\"Porcentaje\")\n",
    "plt.grid(alpha= 0.3)  # Mostar una cuadrícula e intensidad de las líneas\n",
    "plt.xticks(rotation=45) # Rotación etiquetas\n",
    "\n",
    "# Otra forma de hacerlo\n",
    "# plt.bar(porcentaje_categoria_edad_y.index.astype(str), porcentaje_categoria_edad_y['porcentaje_yes'], color='skyblue')\n",
    "\n",
    "# Mostrar la figura\n",
    "plt.show()\n",
    "\n",
    "# Mostrar dataframe\n",
    "porcentaje_categoria_edad_y.T"
   ]
  },
  {
   "cell_type": "markdown",
   "id": "edff92ee",
   "metadata": {},
   "source": [
    "#### Se observa que el porcentaje de Adultos mayores que contrataron el producto es casi del 50%"
   ]
  },
  {
   "cell_type": "markdown",
   "id": "ae72c136",
   "metadata": {},
   "source": [
    "#### El siguiente código me sirve a mí para obtener solo la cantidad de personas que contrataron el producto."
   ]
  },
  {
   "cell_type": "code",
   "execution_count": 25,
   "id": "87baedc1",
   "metadata": {},
   "outputs": [
    {
     "data": {
      "text/html": [
       "<div>\n",
       "<style scoped>\n",
       "    .dataframe tbody tr th:only-of-type {\n",
       "        vertical-align: middle;\n",
       "    }\n",
       "\n",
       "    .dataframe tbody tr th {\n",
       "        vertical-align: top;\n",
       "    }\n",
       "\n",
       "    .dataframe thead th {\n",
       "        text-align: right;\n",
       "    }\n",
       "</style>\n",
       "<table border=\"1\" class=\"dataframe\">\n",
       "  <thead>\n",
       "    <tr style=\"text-align: right;\">\n",
       "      <th></th>\n",
       "      <th>age_category</th>\n",
       "      <th>y = yes</th>\n",
       "    </tr>\n",
       "  </thead>\n",
       "  <tbody>\n",
       "    <tr>\n",
       "      <th>0</th>\n",
       "      <td>Adulto</td>\n",
       "      <td>2352</td>\n",
       "    </tr>\n",
       "    <tr>\n",
       "      <th>1</th>\n",
       "      <td>Adultos mayores</td>\n",
       "      <td>285</td>\n",
       "    </tr>\n",
       "    <tr>\n",
       "      <th>2</th>\n",
       "      <td>Jóven</td>\n",
       "      <td>849</td>\n",
       "    </tr>\n",
       "    <tr>\n",
       "      <th>3</th>\n",
       "      <td>Mediana edad</td>\n",
       "      <td>780</td>\n",
       "    </tr>\n",
       "    <tr>\n",
       "      <th>4</th>\n",
       "      <td>NaN</td>\n",
       "      <td>578</td>\n",
       "    </tr>\n",
       "  </tbody>\n",
       "</table>\n",
       "</div>"
      ],
      "text/plain": [
       "      age_category  y = yes\n",
       "0           Adulto     2352\n",
       "1  Adultos mayores      285\n",
       "2            Jóven      849\n",
       "3     Mediana edad      780\n",
       "4              NaN      578"
      ]
     },
     "execution_count": 25,
     "metadata": {},
     "output_type": "execute_result"
    }
   ],
   "source": [
    "# Cantidad de personas que adquirieron producto, en función de la categoría de edad:\n",
    "resultado_categoria_edad_yes = (bank[bank['y'] == 'yes'].groupby('age_category',dropna=False).size().reset_index(name='y = yes'))\n",
    "resultado_categoria_edad_yes"
   ]
  },
  {
   "cell_type": "code",
   "execution_count": 26,
   "id": "9963ed28",
   "metadata": {},
   "outputs": [
    {
     "data": {
      "text/html": [
       "<div>\n",
       "<style scoped>\n",
       "    .dataframe tbody tr th:only-of-type {\n",
       "        vertical-align: middle;\n",
       "    }\n",
       "\n",
       "    .dataframe tbody tr th {\n",
       "        vertical-align: top;\n",
       "    }\n",
       "\n",
       "    .dataframe thead th {\n",
       "        text-align: right;\n",
       "    }\n",
       "</style>\n",
       "<table border=\"1\" class=\"dataframe\">\n",
       "  <thead>\n",
       "    <tr style=\"text-align: right;\">\n",
       "      <th></th>\n",
       "      <th>age_category</th>\n",
       "      <th>y = yes</th>\n",
       "    </tr>\n",
       "  </thead>\n",
       "  <tbody>\n",
       "    <tr>\n",
       "      <th>0</th>\n",
       "      <td>Adulto</td>\n",
       "      <td>2352</td>\n",
       "    </tr>\n",
       "    <tr>\n",
       "      <th>1</th>\n",
       "      <td>Adultos mayores</td>\n",
       "      <td>285</td>\n",
       "    </tr>\n",
       "    <tr>\n",
       "      <th>2</th>\n",
       "      <td>Jóven</td>\n",
       "      <td>849</td>\n",
       "    </tr>\n",
       "    <tr>\n",
       "      <th>3</th>\n",
       "      <td>Mediana edad</td>\n",
       "      <td>780</td>\n",
       "    </tr>\n",
       "    <tr>\n",
       "      <th>4</th>\n",
       "      <td>NaN</td>\n",
       "      <td>578</td>\n",
       "    </tr>\n",
       "  </tbody>\n",
       "</table>\n",
       "</div>"
      ],
      "text/plain": [
       "      age_category  y = yes\n",
       "0           Adulto     2352\n",
       "1  Adultos mayores      285\n",
       "2            Jóven      849\n",
       "3     Mediana edad      780\n",
       "4              NaN      578"
      ]
     },
     "execution_count": 26,
     "metadata": {},
     "output_type": "execute_result"
    }
   ],
   "source": [
    "# Lo mismo que lo anterior\n",
    "resultado_categoria_edad_yes_2 = bank.groupby('age_category', dropna=False)['y'].apply(lambda x: (x == 'yes').sum()).reset_index(name='y = yes')\n",
    "resultado_categoria_edad_yes_2"
   ]
  },
  {
   "cell_type": "markdown",
   "id": "cd85fe79",
   "metadata": {},
   "source": [
    "## Estadísticas según si tienen hipoteca"
   ]
  },
  {
   "cell_type": "code",
   "execution_count": 27,
   "id": "1d04070f",
   "metadata": {},
   "outputs": [
    {
     "data": {
      "text/plain": [
       "housing\n",
       "yes    22498\n",
       "no     19476\n",
       "Name: count, dtype: int64"
      ]
     },
     "execution_count": 27,
     "metadata": {},
     "output_type": "execute_result"
    }
   ],
   "source": [
    "# Cantidad de los distintos valores de la columna 'housing'\n",
    "valores_hipoteca = bank[\"housing\"].value_counts()\n",
    "valores_hipoteca"
   ]
  },
  {
   "cell_type": "code",
   "execution_count": 28,
   "id": "991c4489",
   "metadata": {},
   "outputs": [],
   "source": [
    "# Cantidad de personas que adquirieron producto o no, en función de si tenían hipotéca o no. Discriminar los nulos\n",
    "resultado_segun_hipoteca = (bank.groupby(['y', 'housing']).size().unstack(fill_value=0))\n",
    "\n",
    "# .size() devuelve el número de filas en cada grupo. Cuenta todas las filas del grupo, aunque la columna tenga NaN."
   ]
  },
  {
   "cell_type": "code",
   "execution_count": 29,
   "id": "a3071177",
   "metadata": {},
   "outputs": [
    {
     "data": {
      "text/plain": [
       "<Figure size 600x300 with 0 Axes>"
      ]
     },
     "metadata": {},
     "output_type": "display_data"
    },
    {
     "data": {
      "image/png": "[encoded data removed]",
      "text/plain": [
       "<Figure size 640x480 with 1 Axes>"
      ]
     },
     "metadata": {},
     "output_type": "display_data"
    },
    {
     "data": {
      "text/html": [
       "<div>\n",
       "<style scoped>\n",
       "    .dataframe tbody tr th:only-of-type {\n",
       "        vertical-align: middle;\n",
       "    }\n",
       "\n",
       "    .dataframe tbody tr th {\n",
       "        vertical-align: top;\n",
       "    }\n",
       "\n",
       "    .dataframe thead th {\n",
       "        text-align: right;\n",
       "    }\n",
       "</style>\n",
       "<table border=\"1\" class=\"dataframe\">\n",
       "  <thead>\n",
       "    <tr style=\"text-align: right;\">\n",
       "      <th>housing</th>\n",
       "      <th>no</th>\n",
       "      <th>yes</th>\n",
       "    </tr>\n",
       "    <tr>\n",
       "      <th>y</th>\n",
       "      <th></th>\n",
       "      <th></th>\n",
       "    </tr>\n",
       "  </thead>\n",
       "  <tbody>\n",
       "    <tr>\n",
       "      <th>no</th>\n",
       "      <td>17362</td>\n",
       "      <td>19882</td>\n",
       "    </tr>\n",
       "    <tr>\n",
       "      <th>yes</th>\n",
       "      <td>2114</td>\n",
       "      <td>2616</td>\n",
       "    </tr>\n",
       "  </tbody>\n",
       "</table>\n",
       "</div>"
      ],
      "text/plain": [
       "housing     no    yes\n",
       "y                    \n",
       "no       17362  19882\n",
       "yes       2114   2616"
      ]
     },
     "execution_count": 29,
     "metadata": {},
     "output_type": "execute_result"
    }
   ],
   "source": [
    "# Inicializar una figura\n",
    "plt.figure(figsize=(6, 3))  # Ancho y alto de las figuras\n",
    "\n",
    "# Customizar gráfico\n",
    "resultado_segun_hipoteca.plot(kind=\"bar\")\n",
    "plt.title(\"Resultado de la campaña según hipoteca\")\n",
    "plt.xlabel(\"Resultado (y)\")\n",
    "plt.ylabel(\"Número de clientes\")\n",
    "plt.grid(alpha= 0.3)  # Mostar una cuadrícula e intensidad de las líneas\n",
    "plt.xticks(rotation=0)  # etiquetas horizontales\n",
    "\n",
    "# Mostrar la figura\n",
    "plt.show()\n",
    "\n",
    "# Mostrar dataframe\n",
    "resultado_segun_hipoteca"
   ]
  },
  {
   "cell_type": "code",
   "execution_count": 30,
   "id": "bf7e2729",
   "metadata": {},
   "outputs": [
    {
     "data": {
      "text/html": [
       "<div>\n",
       "<style scoped>\n",
       "    .dataframe tbody tr th:only-of-type {\n",
       "        vertical-align: middle;\n",
       "    }\n",
       "\n",
       "    .dataframe tbody tr th {\n",
       "        vertical-align: top;\n",
       "    }\n",
       "\n",
       "    .dataframe thead th {\n",
       "        text-align: right;\n",
       "    }\n",
       "</style>\n",
       "<table border=\"1\" class=\"dataframe\">\n",
       "  <thead>\n",
       "    <tr style=\"text-align: right;\">\n",
       "      <th></th>\n",
       "      <th>housing</th>\n",
       "      <th>y = yes</th>\n",
       "    </tr>\n",
       "  </thead>\n",
       "  <tbody>\n",
       "    <tr>\n",
       "      <th>0</th>\n",
       "      <td>no</td>\n",
       "      <td>2114</td>\n",
       "    </tr>\n",
       "    <tr>\n",
       "      <th>1</th>\n",
       "      <td>yes</td>\n",
       "      <td>2616</td>\n",
       "    </tr>\n",
       "  </tbody>\n",
       "</table>\n",
       "</div>"
      ],
      "text/plain": [
       "  housing  y = yes\n",
       "0      no     2114\n",
       "1     yes     2616"
      ]
     },
     "execution_count": 30,
     "metadata": {},
     "output_type": "execute_result"
    }
   ],
   "source": [
    "# Cantidad de personas que adquirieron producto, en función de si tenían hipoteca o no:\n",
    "resultado_segun_hipoteca_yes = bank.groupby('housing')['y'].apply(lambda x: (x == 'yes').sum()).reset_index(name='y = yes')\n",
    "resultado_segun_hipoteca_yes"
   ]
  },
  {
   "cell_type": "markdown",
   "id": "6263ce18",
   "metadata": {},
   "source": [
    "#### Este dato no aporta valor, no es relevante si existe hipotéca para la contratación del producto."
   ]
  },
  {
   "cell_type": "markdown",
   "id": "dca5ffb8",
   "metadata": {},
   "source": [
    "## Estadísticas según el resultado de la campaña anterior y el resultado de la actual"
   ]
  },
  {
   "cell_type": "code",
   "execution_count": 31,
   "id": "9cb4f0c8",
   "metadata": {},
   "outputs": [
    {
     "data": {
      "text/plain": [
       "poutcome\n",
       "NONEXISTENT    37103\n",
       "FAILURE         4461\n",
       "SUCCESS         1436\n",
       "Name: count, dtype: int64"
      ]
     },
     "execution_count": 31,
     "metadata": {},
     "output_type": "execute_result"
    }
   ],
   "source": [
    "# Cantidad por valor de 'poutcome'\n",
    "bank['poutcome'].value_counts(dropna=False)"
   ]
  },
  {
   "cell_type": "code",
   "execution_count": 32,
   "id": "484e42dd",
   "metadata": {},
   "outputs": [],
   "source": [
    "# Cantidad de personas que adquirieron producto o no por categoría de poutcome:\n",
    "resultado_segun_campaña_anterior_1 = bank.groupby('poutcome')['y'].value_counts().unstack(fill_value=0)"
   ]
  },
  {
   "cell_type": "code",
   "execution_count": 33,
   "id": "2950b188",
   "metadata": {},
   "outputs": [
    {
     "data": {
      "text/plain": [
       "<Figure size 600x300 with 0 Axes>"
      ]
     },
     "metadata": {},
     "output_type": "display_data"
    },
    {
     "data": {
      "image/png": "[encoded data removed]",
      "text/plain": [
       "<Figure size 640x480 with 1 Axes>"
      ]
     },
     "metadata": {},
     "output_type": "display_data"
    },
    {
     "data": {
      "text/html": [
       "<div>\n",
       "<style scoped>\n",
       "    .dataframe tbody tr th:only-of-type {\n",
       "        vertical-align: middle;\n",
       "    }\n",
       "\n",
       "    .dataframe tbody tr th {\n",
       "        vertical-align: top;\n",
       "    }\n",
       "\n",
       "    .dataframe thead th {\n",
       "        text-align: right;\n",
       "    }\n",
       "</style>\n",
       "<table border=\"1\" class=\"dataframe\">\n",
       "  <thead>\n",
       "    <tr style=\"text-align: right;\">\n",
       "      <th>poutcome</th>\n",
       "      <th>FAILURE</th>\n",
       "      <th>NONEXISTENT</th>\n",
       "      <th>SUCCESS</th>\n",
       "    </tr>\n",
       "    <tr>\n",
       "      <th>y</th>\n",
       "      <th></th>\n",
       "      <th></th>\n",
       "      <th></th>\n",
       "    </tr>\n",
       "  </thead>\n",
       "  <tbody>\n",
       "    <tr>\n",
       "      <th>no</th>\n",
       "      <td>3826</td>\n",
       "      <td>33832</td>\n",
       "      <td>498</td>\n",
       "    </tr>\n",
       "    <tr>\n",
       "      <th>yes</th>\n",
       "      <td>635</td>\n",
       "      <td>3271</td>\n",
       "      <td>938</td>\n",
       "    </tr>\n",
       "  </tbody>\n",
       "</table>\n",
       "</div>"
      ],
      "text/plain": [
       "poutcome  FAILURE  NONEXISTENT  SUCCESS\n",
       "y                                      \n",
       "no           3826        33832      498\n",
       "yes           635         3271      938"
      ]
     },
     "execution_count": 33,
     "metadata": {},
     "output_type": "execute_result"
    }
   ],
   "source": [
    "# Inicializar una figura\n",
    "plt.figure(figsize=(6, 3))  # Ancho y alto de las figuras\n",
    "\n",
    "# Customizar gráfico\n",
    "resultado_segun_campaña_anterior_1.plot(kind=\"bar\")\n",
    "plt.title(\"Resultado de la campaña según campaña anterior\")\n",
    "plt.xlabel(\"Resultado (y)\")\n",
    "plt.ylabel(\"Número de clientes\")\n",
    "plt.grid(alpha= 0.3)  # Mostar una cuadrícula e intensidad de las líneas\n",
    "plt.xticks(rotation=0)  # etiquetas horizontales\n",
    "\n",
    "# Mostrar la figura\n",
    "plt.show()\n",
    "\n",
    "# Mostrar dataframe\n",
    "resultado_segun_campaña_anterior_1.T"
   ]
  },
  {
   "cell_type": "markdown",
   "id": "e202dfee",
   "metadata": {},
   "source": [
    "La columna poutcome indica el resultado de la campaña anterior:\n",
    "\n",
    "  - success: El cliente contrató el depósito en la campaña anterior.\n",
    "\n",
    "  - failure: El cliente no contrató el depósito en la campaña anterior.\n",
    "\n",
    "  - nonexistent: El cliente no fue contactado en la campaña anterior.\n",
    "\n",
    "La mayoría de las contrataciones son de clientes que no fueron contactados en la campaña anterior, y más de la mitad de clientes que contrataron en la campaña anterior vuelven a contratar."
   ]
  },
  {
   "cell_type": "markdown",
   "id": "fa7c1459",
   "metadata": {},
   "source": [
    "## Estadísticas según la cantidad de llamadas antes de la campaña"
   ]
  },
  {
   "cell_type": "code",
   "execution_count": 34,
   "id": "4a7dabc0",
   "metadata": {},
   "outputs": [
    {
     "data": {
      "text/plain": [
       "previous\n",
       "0    37103\n",
       "1     4778\n",
       "2      786\n",
       "3      232\n",
       "4       75\n",
       "5       20\n",
       "6        5\n",
       "7        1\n",
       "Name: count, dtype: int64"
      ]
     },
     "execution_count": 34,
     "metadata": {},
     "output_type": "execute_result"
    }
   ],
   "source": [
    "# Cantidad por valor de 'previous'\n",
    "bank['previous'].value_counts(dropna=False)"
   ]
  },
  {
   "cell_type": "code",
   "execution_count": 35,
   "id": "6e203867",
   "metadata": {},
   "outputs": [],
   "source": [
    "# Cantidad de personas que adquirieron producto o no por cantidad de llamadas antes de la campaña:\n",
    "resultado_segun_previous = bank.groupby('y')['previous'].value_counts().unstack(fill_value=0)"
   ]
  },
  {
   "cell_type": "code",
   "execution_count": 36,
   "id": "a5e98f64",
   "metadata": {},
   "outputs": [
    {
     "data": {
      "text/plain": [
       "<Figure size 600x300 with 0 Axes>"
      ]
     },
     "metadata": {},
     "output_type": "display_data"
    },
    {
     "data": {
      "image/png": "[encoded data removed]",
      "text/plain": [
       "<Figure size 640x480 with 1 Axes>"
      ]
     },
     "metadata": {},
     "output_type": "display_data"
    },
    {
     "data": {
      "text/html": [
       "<div>\n",
       "<style scoped>\n",
       "    .dataframe tbody tr th:only-of-type {\n",
       "        vertical-align: middle;\n",
       "    }\n",
       "\n",
       "    .dataframe tbody tr th {\n",
       "        vertical-align: top;\n",
       "    }\n",
       "\n",
       "    .dataframe thead th {\n",
       "        text-align: right;\n",
       "    }\n",
       "</style>\n",
       "<table border=\"1\" class=\"dataframe\">\n",
       "  <thead>\n",
       "    <tr style=\"text-align: right;\">\n",
       "      <th>previous</th>\n",
       "      <th>0</th>\n",
       "      <th>1</th>\n",
       "      <th>2</th>\n",
       "      <th>3</th>\n",
       "      <th>4</th>\n",
       "      <th>5</th>\n",
       "      <th>6</th>\n",
       "      <th>7</th>\n",
       "    </tr>\n",
       "    <tr>\n",
       "      <th>y</th>\n",
       "      <th></th>\n",
       "      <th></th>\n",
       "      <th></th>\n",
       "      <th></th>\n",
       "      <th></th>\n",
       "      <th></th>\n",
       "      <th></th>\n",
       "      <th></th>\n",
       "    </tr>\n",
       "  </thead>\n",
       "  <tbody>\n",
       "    <tr>\n",
       "      <th>no</th>\n",
       "      <td>33832</td>\n",
       "      <td>3770</td>\n",
       "      <td>420</td>\n",
       "      <td>92</td>\n",
       "      <td>34</td>\n",
       "      <td>5</td>\n",
       "      <td>2</td>\n",
       "      <td>1</td>\n",
       "    </tr>\n",
       "    <tr>\n",
       "      <th>yes</th>\n",
       "      <td>3271</td>\n",
       "      <td>1008</td>\n",
       "      <td>366</td>\n",
       "      <td>140</td>\n",
       "      <td>41</td>\n",
       "      <td>15</td>\n",
       "      <td>3</td>\n",
       "      <td>0</td>\n",
       "    </tr>\n",
       "  </tbody>\n",
       "</table>\n",
       "</div>"
      ],
      "text/plain": [
       "previous      0     1    2    3   4   5  6  7\n",
       "y                                            \n",
       "no        33832  3770  420   92  34   5  2  1\n",
       "yes        3271  1008  366  140  41  15  3  0"
      ]
     },
     "execution_count": 36,
     "metadata": {},
     "output_type": "execute_result"
    }
   ],
   "source": [
    "# Inicializar una figura\n",
    "plt.figure(figsize=(6, 3))  # Ancho y alto de las figuras\n",
    "\n",
    "# Customizar gráfico\n",
    "resultado_segun_previous.plot(kind=\"bar\")\n",
    "plt.title(\"Resultado de la campaña según llamadas antes de la campaña\")\n",
    "plt.xlabel(\"Resultado (y)\")\n",
    "plt.ylabel(\"Número de clientes\")\n",
    "plt.grid(alpha= 0.3)  # Mostar una cuadrícula e intensidad de las líneas\n",
    "plt.xticks(rotation=0)  # etiquetas horizontales\n",
    "\n",
    "# Mostrar la figura\n",
    "plt.show()\n",
    "\n",
    "# Mostrar dataframe\n",
    "resultado_segun_previous"
   ]
  },
  {
   "cell_type": "markdown",
   "id": "20c41ca7",
   "metadata": {},
   "source": [
    "### Calcular el porcentaje de clientes que contrataron el producto en función de la cantidad de llamadas antes de la campaña"
   ]
  },
  {
   "cell_type": "code",
   "execution_count": 37,
   "id": "fb1f9d84",
   "metadata": {},
   "outputs": [
    {
     "data": {
      "text/html": [
       "<div>\n",
       "<style scoped>\n",
       "    .dataframe tbody tr th:only-of-type {\n",
       "        vertical-align: middle;\n",
       "    }\n",
       "\n",
       "    .dataframe tbody tr th {\n",
       "        vertical-align: top;\n",
       "    }\n",
       "\n",
       "    .dataframe thead th {\n",
       "        text-align: right;\n",
       "    }\n",
       "</style>\n",
       "<table border=\"1\" class=\"dataframe\">\n",
       "  <thead>\n",
       "    <tr style=\"text-align: right;\">\n",
       "      <th></th>\n",
       "      <th>previous</th>\n",
       "      <th>porcentaje_yes</th>\n",
       "    </tr>\n",
       "  </thead>\n",
       "  <tbody>\n",
       "    <tr>\n",
       "      <th>0</th>\n",
       "      <td>0</td>\n",
       "      <td>8.815999</td>\n",
       "    </tr>\n",
       "    <tr>\n",
       "      <th>1</th>\n",
       "      <td>1</td>\n",
       "      <td>21.096693</td>\n",
       "    </tr>\n",
       "    <tr>\n",
       "      <th>2</th>\n",
       "      <td>2</td>\n",
       "      <td>46.564885</td>\n",
       "    </tr>\n",
       "    <tr>\n",
       "      <th>3</th>\n",
       "      <td>3</td>\n",
       "      <td>60.344828</td>\n",
       "    </tr>\n",
       "    <tr>\n",
       "      <th>4</th>\n",
       "      <td>4</td>\n",
       "      <td>54.666667</td>\n",
       "    </tr>\n",
       "    <tr>\n",
       "      <th>5</th>\n",
       "      <td>5</td>\n",
       "      <td>75.000000</td>\n",
       "    </tr>\n",
       "    <tr>\n",
       "      <th>6</th>\n",
       "      <td>6</td>\n",
       "      <td>60.000000</td>\n",
       "    </tr>\n",
       "    <tr>\n",
       "      <th>7</th>\n",
       "      <td>7</td>\n",
       "      <td>0.000000</td>\n",
       "    </tr>\n",
       "  </tbody>\n",
       "</table>\n",
       "</div>"
      ],
      "text/plain": [
       "   previous  porcentaje_yes\n",
       "0         0        8.815999\n",
       "1         1       21.096693\n",
       "2         2       46.564885\n",
       "3         3       60.344828\n",
       "4         4       54.666667\n",
       "5         5       75.000000\n",
       "6         6       60.000000\n",
       "7         7        0.000000"
      ]
     },
     "execution_count": 37,
     "metadata": {},
     "output_type": "execute_result"
    }
   ],
   "source": [
    "# Crear un dataframe con el porcentaje de las llamadas antes de la campaña:\n",
    "porcentaje_llamadas_y = ((\n",
    "    resultado_segun_previous.loc['yes'] /\n",
    "    (resultado_segun_previous.loc['yes'] + resultado_segun_previous.loc['no'])\n",
    ") * 100).reset_index(name= 'porcentaje_yes')\n",
    "\n",
    "porcentaje_llamadas_y"
   ]
  },
  {
   "cell_type": "markdown",
   "id": "f23492c4",
   "metadata": {},
   "source": [
    "#### Se observa en el gráfico anterior que la mayoría de clientes que contrataron producto no recibieron ninguna llamada previa a la campaña, pero en cambio su porcentaje de 'yes' es el más bajo, a medida que aumentan las llamadas previas aumenta el porcentaje."
   ]
  },
  {
   "cell_type": "code",
   "execution_count": 38,
   "id": "3c6dfedf",
   "metadata": {},
   "outputs": [],
   "source": [
    "# Pasar la columna 'previous' como índice\n",
    "porcentaje_llamadas_y.set_index('previous', inplace=True)"
   ]
  },
  {
   "cell_type": "code",
   "execution_count": 39,
   "id": "fa226701",
   "metadata": {},
   "outputs": [
    {
     "data": {
      "text/plain": [
       "<Figure size 600x300 with 0 Axes>"
      ]
     },
     "metadata": {},
     "output_type": "display_data"
    },
    {
     "data": {
      "image/png": "[encoded data removed]",
      "text/plain": [
       "<Figure size 600x300 with 1 Axes>"
      ]
     },
     "metadata": {},
     "output_type": "display_data"
    },
    {
     "data": {
      "text/html": [
       "<div>\n",
       "<style scoped>\n",
       "    .dataframe tbody tr th:only-of-type {\n",
       "        vertical-align: middle;\n",
       "    }\n",
       "\n",
       "    .dataframe tbody tr th {\n",
       "        vertical-align: top;\n",
       "    }\n",
       "\n",
       "    .dataframe thead th {\n",
       "        text-align: right;\n",
       "    }\n",
       "</style>\n",
       "<table border=\"1\" class=\"dataframe\">\n",
       "  <thead>\n",
       "    <tr style=\"text-align: right;\">\n",
       "      <th>previous</th>\n",
       "      <th>0</th>\n",
       "      <th>1</th>\n",
       "      <th>2</th>\n",
       "      <th>3</th>\n",
       "      <th>4</th>\n",
       "      <th>5</th>\n",
       "      <th>6</th>\n",
       "      <th>7</th>\n",
       "    </tr>\n",
       "  </thead>\n",
       "  <tbody>\n",
       "    <tr>\n",
       "      <th>porcentaje_yes</th>\n",
       "      <td>8.815999</td>\n",
       "      <td>21.096693</td>\n",
       "      <td>46.564885</td>\n",
       "      <td>60.344828</td>\n",
       "      <td>54.666667</td>\n",
       "      <td>75.0</td>\n",
       "      <td>60.0</td>\n",
       "      <td>0.0</td>\n",
       "    </tr>\n",
       "  </tbody>\n",
       "</table>\n",
       "</div>"
      ],
      "text/plain": [
       "previous               0          1          2          3          4     5  \\\n",
       "porcentaje_yes  8.815999  21.096693  46.564885  60.344828  54.666667  75.0   \n",
       "\n",
       "previous           6    7  \n",
       "porcentaje_yes  60.0  0.0  "
      ]
     },
     "execution_count": 39,
     "metadata": {},
     "output_type": "execute_result"
    }
   ],
   "source": [
    "# Inicializar una figura\n",
    "plt.figure(figsize=(6, 3))  # Ancho y alto de las figuras\n",
    "\n",
    "# Customizar gráfico\n",
    "\n",
    "porcentaje_llamadas_y.plot.bar(\n",
    "    y='porcentaje_yes',\n",
    "    figsize=(6, 3),\n",
    "    color='skyblue')\n",
    "\n",
    "plt.title(\"Porcentaje de resultados según llamadas antes de la campaña\")\n",
    "plt.xlabel(\"Llamamas previas\")\n",
    "plt.ylabel(\"Porcentaje\")\n",
    "plt.grid(alpha= 0.3)  # Mostar una cuadrícula e intensidad de las líneas\n",
    "plt.xticks(rotation=0) # Rotación etiquetas\n",
    "\n",
    "# Mostrar la figura\n",
    "plt.show()\n",
    "\n",
    "# Mostrar dataframe\n",
    "porcentaje_llamadas_y.T"
   ]
  },
  {
   "cell_type": "markdown",
   "id": "37b482f2",
   "metadata": {},
   "source": [
    "## Estadísticas según year_customer, education, job."
   ]
  },
  {
   "cell_type": "code",
   "execution_count": 40,
   "id": "cce36d8e",
   "metadata": {},
   "outputs": [
    {
     "name": "stdout",
     "output_type": "stream",
     "text": [
      "\u001b[91mCANTIDAD POR VALOR DE: job\u001b[0m\n",
      "\n",
      "job\n",
      "admin.           10873\n",
      "blue-collar       9654\n",
      "technician        7026\n",
      "services          4162\n",
      "management        3050\n",
      "retired           1790\n",
      "entrepreneur      1522\n",
      "self-employed     1489\n",
      "housemaid         1123\n",
      "unemployed        1063\n",
      "student            903\n",
      "NaN                345\n",
      "Name: count, dtype: int64\n",
      "\n",
      "\n",
      "\u001b[92mGRÁFICO DE: job\u001b[0m\n"
     ]
    },
    {
     "data": {
      "text/plain": [
       "<Figure size 600x300 with 0 Axes>"
      ]
     },
     "metadata": {},
     "output_type": "display_data"
    },
    {
     "data": {
      "image/png": "[encoded data removed]",
      "text/plain": [
       "<Figure size 640x480 with 1 Axes>"
      ]
     },
     "metadata": {},
     "output_type": "display_data"
    },
    {
     "data": {
      "text/html": [
       "<div>\n",
       "<style scoped>\n",
       "    .dataframe tbody tr th:only-of-type {\n",
       "        vertical-align: middle;\n",
       "    }\n",
       "\n",
       "    .dataframe tbody tr th {\n",
       "        vertical-align: top;\n",
       "    }\n",
       "\n",
       "    .dataframe thead th {\n",
       "        text-align: right;\n",
       "    }\n",
       "</style>\n",
       "<table border=\"1\" class=\"dataframe\">\n",
       "  <thead>\n",
       "    <tr style=\"text-align: right;\">\n",
       "      <th>job</th>\n",
       "      <th>admin.</th>\n",
       "      <th>blue-collar</th>\n",
       "      <th>entrepreneur</th>\n",
       "      <th>housemaid</th>\n",
       "      <th>management</th>\n",
       "      <th>retired</th>\n",
       "      <th>self-employed</th>\n",
       "      <th>services</th>\n",
       "      <th>student</th>\n",
       "      <th>technician</th>\n",
       "      <th>unemployed</th>\n",
       "    </tr>\n",
       "    <tr>\n",
       "      <th>y</th>\n",
       "      <th></th>\n",
       "      <th></th>\n",
       "      <th></th>\n",
       "      <th></th>\n",
       "      <th></th>\n",
       "      <th></th>\n",
       "      <th></th>\n",
       "      <th></th>\n",
       "      <th></th>\n",
       "      <th></th>\n",
       "      <th></th>\n",
       "    </tr>\n",
       "  </thead>\n",
       "  <tbody>\n",
       "    <tr>\n",
       "      <th>no</th>\n",
       "      <td>9458</td>\n",
       "      <td>8989</td>\n",
       "      <td>1396</td>\n",
       "      <td>1012</td>\n",
       "      <td>2708</td>\n",
       "      <td>1339</td>\n",
       "      <td>1328</td>\n",
       "      <td>3826</td>\n",
       "      <td>620</td>\n",
       "      <td>6264</td>\n",
       "      <td>910</td>\n",
       "    </tr>\n",
       "    <tr>\n",
       "      <th>yes</th>\n",
       "      <td>1415</td>\n",
       "      <td>665</td>\n",
       "      <td>126</td>\n",
       "      <td>111</td>\n",
       "      <td>342</td>\n",
       "      <td>451</td>\n",
       "      <td>161</td>\n",
       "      <td>336</td>\n",
       "      <td>283</td>\n",
       "      <td>762</td>\n",
       "      <td>153</td>\n",
       "    </tr>\n",
       "  </tbody>\n",
       "</table>\n",
       "</div>"
      ],
      "text/plain": [
       "job  admin.  blue-collar  entrepreneur  housemaid  management  retired  \\\n",
       "y                                                                        \n",
       "no     9458         8989          1396       1012        2708     1339   \n",
       "yes    1415          665           126        111         342      451   \n",
       "\n",
       "job  self-employed  services  student  technician  unemployed  \n",
       "y                                                              \n",
       "no            1328      3826      620        6264         910  \n",
       "yes            161       336      283         762         153  "
      ]
     },
     "metadata": {},
     "output_type": "display_data"
    },
    {
     "name": "stdout",
     "output_type": "stream",
     "text": [
      "\n",
      "\n",
      "\u001b[91mCANTIDAD POR VALOR DE: education\u001b[0m\n",
      "\n",
      "education\n",
      "university.degree      12722\n",
      "high.school             9925\n",
      "basic.9y                6309\n",
      "professional.course     5477\n",
      "basic.4y                4356\n",
      "basic.6y                2386\n",
      "NaN                     1807\n",
      "illiterate                18\n",
      "Name: count, dtype: int64\n",
      "\n",
      "\n",
      "\u001b[92mGRÁFICO DE: education\u001b[0m\n"
     ]
    },
    {
     "data": {
      "text/plain": [
       "<Figure size 600x300 with 0 Axes>"
      ]
     },
     "metadata": {},
     "output_type": "display_data"
    },
    {
     "data": {
      "image/png": "[encoded data removed]",
      "text/plain": [
       "<Figure size 640x480 with 1 Axes>"
      ]
     },
     "metadata": {},
     "output_type": "display_data"
    },
    {
     "data": {
      "text/html": [
       "<div>\n",
       "<style scoped>\n",
       "    .dataframe tbody tr th:only-of-type {\n",
       "        vertical-align: middle;\n",
       "    }\n",
       "\n",
       "    .dataframe tbody tr th {\n",
       "        vertical-align: top;\n",
       "    }\n",
       "\n",
       "    .dataframe thead th {\n",
       "        text-align: right;\n",
       "    }\n",
       "</style>\n",
       "<table border=\"1\" class=\"dataframe\">\n",
       "  <thead>\n",
       "    <tr style=\"text-align: right;\">\n",
       "      <th>education</th>\n",
       "      <th>basic.4y</th>\n",
       "      <th>basic.6y</th>\n",
       "      <th>basic.9y</th>\n",
       "      <th>high.school</th>\n",
       "      <th>illiterate</th>\n",
       "      <th>professional.course</th>\n",
       "      <th>university.degree</th>\n",
       "    </tr>\n",
       "    <tr>\n",
       "      <th>y</th>\n",
       "      <th></th>\n",
       "      <th></th>\n",
       "      <th></th>\n",
       "      <th></th>\n",
       "      <th></th>\n",
       "      <th></th>\n",
       "      <th></th>\n",
       "    </tr>\n",
       "  </thead>\n",
       "  <tbody>\n",
       "    <tr>\n",
       "      <th>no</th>\n",
       "      <td>3908</td>\n",
       "      <td>2192</td>\n",
       "      <td>5816</td>\n",
       "      <td>8849</td>\n",
       "      <td>14</td>\n",
       "      <td>4857</td>\n",
       "      <td>10974</td>\n",
       "    </tr>\n",
       "    <tr>\n",
       "      <th>yes</th>\n",
       "      <td>448</td>\n",
       "      <td>194</td>\n",
       "      <td>493</td>\n",
       "      <td>1076</td>\n",
       "      <td>4</td>\n",
       "      <td>620</td>\n",
       "      <td>1748</td>\n",
       "    </tr>\n",
       "  </tbody>\n",
       "</table>\n",
       "</div>"
      ],
      "text/plain": [
       "education  basic.4y  basic.6y  basic.9y  high.school  illiterate  \\\n",
       "y                                                                  \n",
       "no             3908      2192      5816         8849          14   \n",
       "yes             448       194       493         1076           4   \n",
       "\n",
       "education  professional.course  university.degree  \n",
       "y                                                  \n",
       "no                        4857              10974  \n",
       "yes                        620               1748  "
      ]
     },
     "metadata": {},
     "output_type": "display_data"
    },
    {
     "name": "stdout",
     "output_type": "stream",
     "text": [
      "\n",
      "\n",
      "\u001b[91mCANTIDAD POR VALOR DE: year_customer\u001b[0m\n",
      "\n",
      "year_customer\n",
      "2012    20018\n",
      "2014    14064\n",
      "2013     8918\n",
      "Name: count, dtype: int64\n",
      "\n",
      "\n",
      "\u001b[92mGRÁFICO DE: year_customer\u001b[0m\n"
     ]
    },
    {
     "data": {
      "text/plain": [
       "<Figure size 600x300 with 0 Axes>"
      ]
     },
     "metadata": {},
     "output_type": "display_data"
    },
    {
     "data": {
      "image/png": "[encoded data removed]",
      "text/plain": [
       "<Figure size 640x480 with 1 Axes>"
      ]
     },
     "metadata": {},
     "output_type": "display_data"
    },
    {
     "data": {
      "text/html": [
       "<div>\n",
       "<style scoped>\n",
       "    .dataframe tbody tr th:only-of-type {\n",
       "        vertical-align: middle;\n",
       "    }\n",
       "\n",
       "    .dataframe tbody tr th {\n",
       "        vertical-align: top;\n",
       "    }\n",
       "\n",
       "    .dataframe thead th {\n",
       "        text-align: right;\n",
       "    }\n",
       "</style>\n",
       "<table border=\"1\" class=\"dataframe\">\n",
       "  <thead>\n",
       "    <tr style=\"text-align: right;\">\n",
       "      <th>year_customer</th>\n",
       "      <th>2012</th>\n",
       "      <th>2013</th>\n",
       "      <th>2014</th>\n",
       "    </tr>\n",
       "    <tr>\n",
       "      <th>y</th>\n",
       "      <th></th>\n",
       "      <th></th>\n",
       "      <th></th>\n",
       "    </tr>\n",
       "  </thead>\n",
       "  <tbody>\n",
       "    <tr>\n",
       "      <th>no</th>\n",
       "      <td>19100</td>\n",
       "      <td>8228</td>\n",
       "      <td>10828</td>\n",
       "    </tr>\n",
       "    <tr>\n",
       "      <th>yes</th>\n",
       "      <td>918</td>\n",
       "      <td>690</td>\n",
       "      <td>3236</td>\n",
       "    </tr>\n",
       "  </tbody>\n",
       "</table>\n",
       "</div>"
      ],
      "text/plain": [
       "year_customer   2012  2013   2014\n",
       "y                                \n",
       "no             19100  8228  10828\n",
       "yes              918   690   3236"
      ]
     },
     "metadata": {},
     "output_type": "display_data"
    },
    {
     "name": "stdout",
     "output_type": "stream",
     "text": [
      "\n",
      "\n"
     ]
    }
   ],
   "source": [
    "columnas = ['job', 'education', 'year_customer']\n",
    "\n",
    "for col in columnas:\n",
    "\n",
    "    print(f'\\033[91mCANTIDAD POR VALOR DE: {col}\\033[0m', end='\\n\\n')\n",
    "    print(bank[col].value_counts(dropna=False), end='\\n\\n\\n')\n",
    "\n",
    "# Cantidad de personas que adquirieron producto o no según columna:\n",
    "    resultado_segun_columna = bank.groupby('y')[col].value_counts().unstack(fill_value=0).T\n",
    "\n",
    "# Inicializar una figura\n",
    "    print(f'\\033[92mGRÁFICO DE: {col}\\033[0m')\n",
    "    plt.figure(figsize=(6, 3))  # Ancho y alto de las figuras\n",
    "\n",
    "# Customizar gráfico\n",
    "    resultado_segun_columna.plot(kind=\"bar\")\n",
    "    plt.title(f'Resultado de la campaña según {col}')\n",
    "    plt.xlabel(\"Resultado (y)\")\n",
    "    plt.ylabel(\"Número de clientes\")\n",
    "    plt.grid(alpha= 0.3)  # Mostar una cuadrícula e intensidad de las líneas\n",
    "    plt.xticks(rotation=45)  # etiquetas horizontales\n",
    "\n",
    "# Mostrar la figura\n",
    "    plt.show()\n",
    "\n",
    "# Mostrar dataframe\n",
    "    display(resultado_segun_columna.T)\n",
    "    print('\\n')\n"
   ]
  },
  {
   "cell_type": "markdown",
   "id": "5b6c4b39",
   "metadata": {},
   "source": [
    "#### Se observa que la cantidad de contratos es mayor en clientes que trabajan en el sector de la administración, poseen titulación universitaria y se dieron de alta en el banco en año 2014."
   ]
  }
 ],
 "metadata": {
  "kernelspec": {
   "display_name": "Python 3",
   "language": "python",
   "name": "python3"
  },
  "language_info": {
   "codemirror_mode": {
    "name": "ipython",
    "version": 3
   },
   "file_extension": ".py",
   "mimetype": "text/x-python",
   "name": "python",
   "nbconvert_exporter": "python",
   "pygments_lexer": "ipython3",
   "version": "3.13.5"
  }
 },
 "nbformat": 4,
 "nbformat_minor": 5
}
